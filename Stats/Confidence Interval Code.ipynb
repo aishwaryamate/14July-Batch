{
 "cells": [
  {
   "cell_type": "code",
   "execution_count": 5,
   "id": "4c807bb3",
   "metadata": {
    "ExecuteTime": {
     "end_time": "2023-08-16T09:07:36.611382Z",
     "start_time": "2023-08-16T09:07:36.583242Z"
    }
   },
   "outputs": [],
   "source": [
    "from scipy import stats\n",
    "import numpy as np"
   ]
  },
  {
   "cell_type": "code",
   "execution_count": 2,
   "id": "a86d0907",
   "metadata": {
    "ExecuteTime": {
     "end_time": "2023-08-16T08:58:12.835777Z",
     "start_time": "2023-08-16T08:58:12.792103Z"
    }
   },
   "outputs": [
    {
     "data": {
      "text/plain": [
       "1.959963984540054"
      ]
     },
     "execution_count": 2,
     "metadata": {},
     "output_type": "execute_result"
    }
   ],
   "source": [
    "stats.norm.ppf(0.975)"
   ]
  },
  {
   "cell_type": "code",
   "execution_count": 4,
   "id": "df60eb14",
   "metadata": {
    "ExecuteTime": {
     "end_time": "2023-08-16T09:01:09.377354Z",
     "start_time": "2023-08-16T09:01:09.353146Z"
    }
   },
   "outputs": [
    {
     "data": {
      "text/plain": [
       "1.977177724476122"
      ]
     },
     "execution_count": 4,
     "metadata": {},
     "output_type": "execute_result"
    }
   ],
   "source": [
    "stats.t.ppf(0.975,139)"
   ]
  },
  {
   "cell_type": "code",
   "execution_count": 6,
   "id": "07e7b263",
   "metadata": {
    "ExecuteTime": {
     "end_time": "2023-08-16T09:07:45.285698Z",
     "start_time": "2023-08-16T09:07:45.267493Z"
    }
   },
   "outputs": [
    {
     "data": {
      "text/plain": [
       "(1575.8820248378292, 2404.1179751621708)"
      ]
     },
     "execution_count": 6,
     "metadata": {},
     "output_type": "execute_result"
    }
   ],
   "source": [
    "#Z method\n",
    "\n",
    "stats.norm.interval(0.95,1990,2500/np.sqrt(140))"
   ]
  },
  {
   "cell_type": "code",
   "execution_count": 13,
   "id": "4c11780c",
   "metadata": {
    "ExecuteTime": {
     "end_time": "2023-08-16T09:14:48.863817Z",
     "start_time": "2023-08-16T09:14:48.852830Z"
    }
   },
   "outputs": [
    {
     "data": {
      "text/plain": [
       "(1516.5999869168315, 2463.4000130831682)"
      ]
     },
     "execution_count": 13,
     "metadata": {},
     "output_type": "execute_result"
    }
   ],
   "source": [
    "# T method\n",
    "stats.t.interval(0.95,df = 139, loc = 1990,scale = 2833/np.sqrt(140))"
   ]
  },
  {
   "cell_type": "code",
   "execution_count": null,
   "id": "cf723115",
   "metadata": {},
   "outputs": [],
   "source": []
  }
 ],
 "metadata": {
  "kernelspec": {
   "display_name": "Python 3 (ipykernel)",
   "language": "python",
   "name": "python3"
  },
  "language_info": {
   "codemirror_mode": {
    "name": "ipython",
    "version": 3
   },
   "file_extension": ".py",
   "mimetype": "text/x-python",
   "name": "python",
   "nbconvert_exporter": "python",
   "pygments_lexer": "ipython3",
   "version": "3.9.13"
  }
 },
 "nbformat": 4,
 "nbformat_minor": 5
}
