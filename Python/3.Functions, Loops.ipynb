{
 "cells": [
  {
   "cell_type": "markdown",
   "id": "e4b949d4",
   "metadata": {},
   "source": [
    "# Functions\n",
    "- In python, there are two types of function.\n",
    "    - Built-in funtions\n",
    "    - User defined function\n",
    "- We can create our own customized functions in python for code reusability."
   ]
  },
  {
   "cell_type": "code",
   "execution_count": 1,
   "id": "c03cfde8",
   "metadata": {
    "ExecuteTime": {
     "end_time": "2023-08-02T06:31:50.216813Z",
     "start_time": "2023-08-02T06:31:50.200988Z"
    }
   },
   "outputs": [],
   "source": [
    "#Basic Function"
   ]
  },
  {
   "cell_type": "code",
   "execution_count": 2,
   "id": "44fe4a3f",
   "metadata": {
    "ExecuteTime": {
     "end_time": "2023-08-02T06:31:50.248545Z",
     "start_time": "2023-08-02T06:31:50.221892Z"
    }
   },
   "outputs": [],
   "source": [
    "def simple_function():\n",
    "    print('This is user defined function')   "
   ]
  },
  {
   "cell_type": "code",
   "execution_count": 3,
   "id": "77be4f62",
   "metadata": {
    "ExecuteTime": {
     "end_time": "2023-08-02T06:31:50.263688Z",
     "start_time": "2023-08-02T06:31:50.252535Z"
    }
   },
   "outputs": [
    {
     "name": "stdout",
     "output_type": "stream",
     "text": [
      "This is user defined function\n"
     ]
    }
   ],
   "source": [
    "simple_function()"
   ]
  },
  {
   "cell_type": "code",
   "execution_count": 4,
   "id": "c96b8c93",
   "metadata": {
    "ExecuteTime": {
     "end_time": "2023-08-02T06:31:50.279552Z",
     "start_time": "2023-08-02T06:31:50.267699Z"
    }
   },
   "outputs": [],
   "source": [
    "#Docstring"
   ]
  },
  {
   "cell_type": "code",
   "execution_count": 5,
   "id": "0dc05348",
   "metadata": {
    "ExecuteTime": {
     "end_time": "2023-08-02T06:31:50.295215Z",
     "start_time": "2023-08-02T06:31:50.285100Z"
    }
   },
   "outputs": [],
   "source": [
    "def function1():\n",
    "    '''This function will print 2 sentences.'''\n",
    "    print('This is first sentence')\n",
    "    print('This is second sentence')"
   ]
  },
  {
   "cell_type": "code",
   "execution_count": 6,
   "id": "b2186e4f",
   "metadata": {
    "ExecuteTime": {
     "end_time": "2023-08-02T06:31:50.311141Z",
     "start_time": "2023-08-02T06:31:50.297607Z"
    }
   },
   "outputs": [
    {
     "name": "stdout",
     "output_type": "stream",
     "text": [
      "This is first sentence\n",
      "This is second sentence\n"
     ]
    }
   ],
   "source": [
    "function1()"
   ]
  },
  {
   "cell_type": "code",
   "execution_count": 7,
   "id": "a50ef5a0",
   "metadata": {
    "ExecuteTime": {
     "end_time": "2023-08-02T06:31:50.326865Z",
     "start_time": "2023-08-02T06:31:50.313972Z"
    }
   },
   "outputs": [
    {
     "name": "stdout",
     "output_type": "stream",
     "text": [
      "This is first sentence\n",
      "This is second sentence\n"
     ]
    }
   ],
   "source": [
    "function1()"
   ]
  },
  {
   "cell_type": "code",
   "execution_count": 8,
   "id": "fc10f05f",
   "metadata": {
    "ExecuteTime": {
     "end_time": "2023-08-02T06:31:50.342261Z",
     "start_time": "2023-08-02T06:31:50.336862Z"
    }
   },
   "outputs": [],
   "source": [
    "#Write a python function which will return me the maximum number\n",
    "def max_number(num1,num2):\n",
    "    '''This function returns max number between given two number'''\n",
    "    return max(num1,num2)"
   ]
  },
  {
   "cell_type": "code",
   "execution_count": 9,
   "id": "70260616",
   "metadata": {
    "ExecuteTime": {
     "end_time": "2023-08-02T06:31:50.357639Z",
     "start_time": "2023-08-02T06:31:50.346171Z"
    }
   },
   "outputs": [],
   "source": [
    "def max_number(a,b):\n",
    "    if a>b:\n",
    "        return a\n",
    "    else:\n",
    "        return b"
   ]
  },
  {
   "cell_type": "code",
   "execution_count": 10,
   "id": "8a269a9a",
   "metadata": {
    "ExecuteTime": {
     "end_time": "2023-08-02T06:31:50.389533Z",
     "start_time": "2023-08-02T06:31:50.363275Z"
    }
   },
   "outputs": [
    {
     "data": {
      "text/plain": [
       "5"
      ]
     },
     "execution_count": 10,
     "metadata": {},
     "output_type": "execute_result"
    }
   ],
   "source": [
    "max_number(5,5)"
   ]
  },
  {
   "cell_type": "code",
   "execution_count": 11,
   "id": "974bbbd2",
   "metadata": {
    "ExecuteTime": {
     "end_time": "2023-08-02T06:31:50.621259Z",
     "start_time": "2023-08-02T06:31:50.392532Z"
    }
   },
   "outputs": [
    {
     "ename": "TypeError",
     "evalue": "max_number() takes 2 positional arguments but 3 were given",
     "output_type": "error",
     "traceback": [
      "\u001b[1;31m---------------------------------------------------------------------------\u001b[0m",
      "\u001b[1;31mTypeError\u001b[0m                                 Traceback (most recent call last)",
      "\u001b[1;32m~\\AppData\\Local\\Temp\\ipykernel_13016\\4157292832.py\u001b[0m in \u001b[0;36m<module>\u001b[1;34m\u001b[0m\n\u001b[1;32m----> 1\u001b[1;33m \u001b[0mmax_number\u001b[0m\u001b[1;33m(\u001b[0m\u001b[1;36m10\u001b[0m\u001b[1;33m,\u001b[0m\u001b[1;36m15\u001b[0m\u001b[1;33m,\u001b[0m\u001b[1;36m20\u001b[0m\u001b[1;33m)\u001b[0m\u001b[1;33m\u001b[0m\u001b[1;33m\u001b[0m\u001b[0m\n\u001b[0m",
      "\u001b[1;31mTypeError\u001b[0m: max_number() takes 2 positional arguments but 3 were given"
     ]
    }
   ],
   "source": [
    "max_number(10,15,20)"
   ]
  },
  {
   "cell_type": "code",
   "execution_count": null,
   "id": "c6a63c4f",
   "metadata": {
    "ExecuteTime": {
     "end_time": "2023-08-02T06:31:50.624261Z",
     "start_time": "2023-08-02T06:31:50.624261Z"
    }
   },
   "outputs": [],
   "source": [
    "def max_num1(*numbers):\n",
    "    return max(numbers)"
   ]
  },
  {
   "cell_type": "code",
   "execution_count": null,
   "id": "2305e347",
   "metadata": {
    "ExecuteTime": {
     "end_time": "2023-08-02T06:31:50.626351Z",
     "start_time": "2023-08-02T06:31:50.626351Z"
    }
   },
   "outputs": [],
   "source": [
    "max_num1(10,5,20,50,46,85,94,52,31,1000)"
   ]
  },
  {
   "cell_type": "code",
   "execution_count": null,
   "id": "f6045aca",
   "metadata": {
    "ExecuteTime": {
     "end_time": "2023-08-02T06:31:50.628361Z",
     "start_time": "2023-08-02T06:31:50.628361Z"
    }
   },
   "outputs": [],
   "source": [
    "def combine(text1,text2):\n",
    "    print(text1+' '+text2)"
   ]
  },
  {
   "cell_type": "code",
   "execution_count": null,
   "id": "837a7239",
   "metadata": {
    "ExecuteTime": {
     "end_time": "2023-08-02T06:31:50.630496Z",
     "start_time": "2023-08-02T06:31:50.630496Z"
    }
   },
   "outputs": [],
   "source": [
    "combine('Python','Language')"
   ]
  },
  {
   "cell_type": "code",
   "execution_count": null,
   "id": "476a0c2e",
   "metadata": {
    "ExecuteTime": {
     "end_time": "2023-08-02T06:31:50.632711Z",
     "start_time": "2023-08-02T06:31:50.632711Z"
    }
   },
   "outputs": [],
   "source": [
    "combine('R','Python','Langauge')"
   ]
  },
  {
   "cell_type": "code",
   "execution_count": null,
   "id": "580035d1",
   "metadata": {
    "ExecuteTime": {
     "end_time": "2023-08-02T06:31:50.634453Z",
     "start_time": "2023-08-02T06:31:50.634453Z"
    }
   },
   "outputs": [],
   "source": [
    "s = 'Python'\n",
    "s[::-1]"
   ]
  },
  {
   "cell_type": "code",
   "execution_count": null,
   "id": "40bb56a5",
   "metadata": {
    "ExecuteTime": {
     "end_time": "2023-08-02T06:31:50.635936Z",
     "start_time": "2023-08-02T06:31:50.635936Z"
    }
   },
   "outputs": [],
   "source": [
    "def reverse(text):\n",
    "    return text[::-1]"
   ]
  },
  {
   "cell_type": "code",
   "execution_count": null,
   "id": "3c875f27",
   "metadata": {
    "ExecuteTime": {
     "end_time": "2023-08-02T06:31:50.638479Z",
     "start_time": "2023-08-02T06:31:50.638479Z"
    }
   },
   "outputs": [],
   "source": [
    "reverse('Sayali')"
   ]
  },
  {
   "cell_type": "markdown",
   "id": "ec98cbce",
   "metadata": {},
   "source": [
    "- Create a python function which will take 4 arguments(Id,name, age and department) of employee and it should print the below sentence:\n",
    "    - Employee ID is 'Id'.The name of employee is 'name'.He is 'age' years old and he is from 'department' department.\n",
    " "
   ]
  },
  {
   "cell_type": "code",
   "execution_count": null,
   "id": "9c98d113",
   "metadata": {
    "ExecuteTime": {
     "end_time": "2023-08-02T06:31:50.642655Z",
     "start_time": "2023-08-02T06:31:50.642655Z"
    }
   },
   "outputs": [],
   "source": [
    "def info(Id,name,age,department):\n",
    "    print(f\"Employee ID is {Id}.Name of the employee is {name}.He is {age} years old and he is from {department} department\")"
   ]
  },
  {
   "cell_type": "code",
   "execution_count": null,
   "id": "c45cea85",
   "metadata": {
    "ExecuteTime": {
     "end_time": "2023-08-02T06:31:50.645666Z",
     "start_time": "2023-08-02T06:31:50.645666Z"
    }
   },
   "outputs": [],
   "source": [
    "info(101,'ABC',25,'HR')"
   ]
  },
  {
   "cell_type": "code",
   "execution_count": null,
   "id": "4b65ffb8",
   "metadata": {
    "ExecuteTime": {
     "end_time": "2023-08-02T06:31:50.647712Z",
     "start_time": "2023-08-02T06:31:50.647712Z"
    }
   },
   "outputs": [],
   "source": [
    "def info(Id,name,age,department):\n",
    "    print(f\"Employee ID is {Id}\\nName of the employee is {name}\\nHe is {age} years old\\nHe is from {department} department\")"
   ]
  },
  {
   "cell_type": "code",
   "execution_count": null,
   "id": "76afbd07",
   "metadata": {
    "ExecuteTime": {
     "end_time": "2023-08-02T06:31:50.649929Z",
     "start_time": "2023-08-02T06:31:50.649929Z"
    }
   },
   "outputs": [],
   "source": [
    "info(101,'ABC',25,'HR')"
   ]
  },
  {
   "cell_type": "markdown",
   "id": "603cc120",
   "metadata": {},
   "source": [
    "# Loops\n",
    "\n",
    "1. While Loop \n",
    "2. For loop"
   ]
  },
  {
   "cell_type": "code",
   "execution_count": null,
   "id": "c26de0a4",
   "metadata": {
    "ExecuteTime": {
     "end_time": "2023-08-02T06:31:50.651938Z",
     "start_time": "2023-08-02T06:31:50.651938Z"
    }
   },
   "outputs": [],
   "source": [
    "#While loops"
   ]
  },
  {
   "cell_type": "code",
   "execution_count": 4,
   "id": "08d8986f",
   "metadata": {
    "ExecuteTime": {
     "end_time": "2023-08-02T07:58:07.212596Z",
     "start_time": "2023-08-02T07:58:07.197870Z"
    },
    "collapsed": true
   },
   "outputs": [
    {
     "name": "stdout",
     "output_type": "stream",
     "text": [
      "Learning python 10\n",
      "Learning python 9\n",
      "Learning python 8\n",
      "Learning python 7\n",
      "Learning python 6\n",
      "Learning python 5\n",
      "Learning python 4\n",
      "Learning python 3\n",
      "Learning python 2\n",
      "Learning python 1\n",
      "Python completed\n"
     ]
    }
   ],
   "source": [
    "python = 10\n",
    "\n",
    "while python > 0:\n",
    "    print('Learning python',python)\n",
    "    python = python - 1\n",
    "print('Python completed')"
   ]
  },
  {
   "cell_type": "code",
   "execution_count": 6,
   "id": "8a99e5ee",
   "metadata": {
    "ExecuteTime": {
     "end_time": "2023-08-02T08:02:25.571020Z",
     "start_time": "2023-08-02T08:02:25.558670Z"
    },
    "collapsed": true
   },
   "outputs": [
    {
     "name": "stdout",
     "output_type": "stream",
     "text": [
      "Not eligible\n",
      "Not eligible\n",
      "Not eligible\n",
      "Not eligible\n",
      "Not eligible\n",
      "Not eligible\n",
      "Not eligible\n",
      "Not eligible\n",
      "Not eligible\n",
      "Not eligible\n",
      "Not eligible\n",
      "Not eligible\n",
      "Not eligible\n",
      "Not eligible\n",
      "Not eligible\n",
      "Not eligible\n",
      "Not eligible\n",
      "Not eligible\n",
      "Eligible\n"
     ]
    }
   ],
   "source": [
    "age = 0\n",
    "\n",
    "while age < 18:\n",
    "    print('Not eligible')\n",
    "    age = age + 1\n",
    "    \n",
    "print('Eligible')"
   ]
  },
  {
   "cell_type": "code",
   "execution_count": 8,
   "id": "ec0d9c0d",
   "metadata": {
    "ExecuteTime": {
     "end_time": "2023-08-02T08:07:37.073825Z",
     "start_time": "2023-08-02T08:07:37.056546Z"
    }
   },
   "outputs": [
    {
     "data": {
      "text/plain": [
       "[1, 2, 3, 4, 5, 6, 7, 8, 9, 10, 11, 12, 13, 14, 15, 16, 17, 18, 19]"
      ]
     },
     "execution_count": 8,
     "metadata": {},
     "output_type": "execute_result"
    }
   ],
   "source": [
    "#range function\n",
    "list(range(1,20))"
   ]
  },
  {
   "cell_type": "code",
   "execution_count": 9,
   "id": "bb2ae0b3",
   "metadata": {
    "ExecuteTime": {
     "end_time": "2023-08-02T08:08:03.228495Z",
     "start_time": "2023-08-02T08:08:03.210844Z"
    }
   },
   "outputs": [
    {
     "data": {
      "text/plain": [
       "[1, 3, 5, 7, 9, 11, 13, 15, 17, 19]"
      ]
     },
     "execution_count": 9,
     "metadata": {},
     "output_type": "execute_result"
    }
   ],
   "source": [
    "list(range(1,21,2))"
   ]
  },
  {
   "cell_type": "code",
   "execution_count": 10,
   "id": "25c41f27",
   "metadata": {
    "ExecuteTime": {
     "end_time": "2023-08-02T08:09:50.982681Z",
     "start_time": "2023-08-02T08:09:50.969776Z"
    }
   },
   "outputs": [
    {
     "data": {
      "text/plain": [
       "[0, 2, 4, 6, 8, 10, 12, 14, 16, 18, 20]"
      ]
     },
     "execution_count": 10,
     "metadata": {},
     "output_type": "execute_result"
    }
   ],
   "source": [
    "list(range(0,21,2))"
   ]
  },
  {
   "cell_type": "code",
   "execution_count": null,
   "id": "d4d45a83",
   "metadata": {
    "ExecuteTime": {
     "end_time": "2023-08-02T06:31:50.658710Z",
     "start_time": "2023-08-02T06:31:50.658710Z"
    }
   },
   "outputs": [],
   "source": [
    "#For loop"
   ]
  },
  {
   "cell_type": "code",
   "execution_count": null,
   "id": "ac96a16e",
   "metadata": {
    "ExecuteTime": {
     "end_time": "2023-07-02T11:34:41.449202Z",
     "start_time": "2023-07-02T11:34:41.433555Z"
    }
   },
   "outputs": [],
   "source": [
    "lst = [1,2,3,4,5]"
   ]
  },
  {
   "cell_type": "code",
   "execution_count": 12,
   "id": "ad8754db",
   "metadata": {
    "ExecuteTime": {
     "end_time": "2023-08-02T08:15:30.231702Z",
     "start_time": "2023-08-02T08:15:30.214451Z"
    },
    "collapsed": true
   },
   "outputs": [
    {
     "name": "stdout",
     "output_type": "stream",
     "text": [
      "1\n",
      "2\n",
      "3\n",
      "4\n",
      "5\n",
      "6\n",
      "7\n",
      "8\n",
      "9\n",
      "10\n",
      "11\n",
      "12\n",
      "13\n",
      "14\n",
      "15\n",
      "16\n",
      "17\n",
      "18\n",
      "19\n",
      "20\n",
      "21\n",
      "22\n",
      "23\n",
      "24\n",
      "25\n",
      "26\n",
      "27\n",
      "28\n",
      "29\n",
      "30\n",
      "31\n",
      "32\n",
      "33\n",
      "34\n",
      "35\n",
      "36\n",
      "37\n",
      "38\n",
      "39\n",
      "40\n",
      "41\n",
      "42\n",
      "43\n",
      "44\n",
      "45\n",
      "46\n",
      "47\n",
      "48\n",
      "49\n",
      "50\n",
      "51\n",
      "52\n",
      "53\n",
      "54\n",
      "55\n",
      "56\n",
      "57\n",
      "58\n",
      "59\n",
      "60\n",
      "61\n",
      "62\n",
      "63\n",
      "64\n",
      "65\n",
      "66\n",
      "67\n",
      "68\n",
      "69\n",
      "70\n",
      "71\n",
      "72\n",
      "73\n",
      "74\n",
      "75\n",
      "76\n",
      "77\n",
      "78\n",
      "79\n",
      "80\n",
      "81\n",
      "82\n",
      "83\n",
      "84\n",
      "85\n",
      "86\n",
      "87\n",
      "88\n",
      "89\n",
      "90\n",
      "91\n",
      "92\n",
      "93\n",
      "94\n",
      "95\n",
      "96\n",
      "97\n",
      "98\n",
      "99\n"
     ]
    }
   ],
   "source": [
    "for i in range(1,100):\n",
    "    print(i)"
   ]
  },
  {
   "cell_type": "code",
   "execution_count": 18,
   "id": "cdd5345f",
   "metadata": {
    "ExecuteTime": {
     "end_time": "2023-08-02T08:20:06.882103Z",
     "start_time": "2023-08-02T08:20:06.864291Z"
    }
   },
   "outputs": [
    {
     "data": {
      "text/plain": [
       "[10, 20, 30, 40]"
      ]
     },
     "execution_count": 18,
     "metadata": {},
     "output_type": "execute_result"
    }
   ],
   "source": [
    "lst1 = [10,20,30,40]\n",
    "lst1"
   ]
  },
  {
   "cell_type": "code",
   "execution_count": 19,
   "id": "5426fb3d",
   "metadata": {
    "ExecuteTime": {
     "end_time": "2023-08-02T08:20:34.488806Z",
     "start_time": "2023-08-02T08:20:34.479045Z"
    }
   },
   "outputs": [],
   "source": [
    "lst1.append(50)"
   ]
  },
  {
   "cell_type": "code",
   "execution_count": 20,
   "id": "76e7481e",
   "metadata": {
    "ExecuteTime": {
     "end_time": "2023-08-02T08:20:38.385965Z",
     "start_time": "2023-08-02T08:20:38.370668Z"
    }
   },
   "outputs": [
    {
     "data": {
      "text/plain": [
       "[10, 20, 30, 40, 50]"
      ]
     },
     "execution_count": 20,
     "metadata": {},
     "output_type": "execute_result"
    }
   ],
   "source": [
    "lst1"
   ]
  },
  {
   "cell_type": "code",
   "execution_count": 15,
   "id": "7b612e00",
   "metadata": {
    "ExecuteTime": {
     "end_time": "2023-08-02T08:19:20.810162Z",
     "start_time": "2023-08-02T08:19:20.789960Z"
    }
   },
   "outputs": [],
   "source": [
    "lst = []\n",
    "\n",
    "for i in range(1,100,2):\n",
    "    lst.append(i)"
   ]
  },
  {
   "cell_type": "code",
   "execution_count": 23,
   "id": "dc405e16",
   "metadata": {
    "ExecuteTime": {
     "end_time": "2023-08-02T08:23:47.763019Z",
     "start_time": "2023-08-02T08:23:47.757485Z"
    },
    "collapsed": true
   },
   "outputs": [
    {
     "name": "stdout",
     "output_type": "stream",
     "text": [
      "1\n",
      "4\n",
      "9\n",
      "16\n",
      "25\n",
      "36\n",
      "49\n",
      "64\n",
      "81\n"
     ]
    }
   ],
   "source": [
    "for x in range(1,10):\n",
    "    print(x**2)"
   ]
  },
  {
   "cell_type": "code",
   "execution_count": 24,
   "id": "e55b50f3",
   "metadata": {
    "ExecuteTime": {
     "end_time": "2023-08-02T08:25:04.006340Z",
     "start_time": "2023-08-02T08:25:03.999781Z"
    }
   },
   "outputs": [
    {
     "data": {
      "text/plain": [
       "['flipkart', 'amazon', 'excelr']"
      ]
     },
     "execution_count": 24,
     "metadata": {},
     "output_type": "execute_result"
    }
   ],
   "source": [
    "#Company list\n",
    "company = ['flipkart','amazon','excelr']\n",
    "company"
   ]
  },
  {
   "cell_type": "code",
   "execution_count": 25,
   "id": "77bd1973",
   "metadata": {
    "ExecuteTime": {
     "end_time": "2023-08-02T08:27:29.694767Z",
     "start_time": "2023-08-02T08:27:29.682901Z"
    },
    "collapsed": true
   },
   "outputs": [
    {
     "name": "stdout",
     "output_type": "stream",
     "text": [
      "flipkart\n",
      "amazon\n",
      "excelr\n"
     ]
    }
   ],
   "source": [
    "for i in company:\n",
    "    print(i)"
   ]
  },
  {
   "cell_type": "code",
   "execution_count": 27,
   "id": "b3893ac1",
   "metadata": {
    "ExecuteTime": {
     "end_time": "2023-08-02T08:29:04.282977Z",
     "start_time": "2023-08-02T08:29:04.263878Z"
    }
   },
   "outputs": [
    {
     "name": "stdout",
     "output_type": "stream",
     "text": [
      "www.flipkart.com\n",
      "www.amazon.com\n",
      "www.excelr.com\n"
     ]
    }
   ],
   "source": [
    "for i in company:\n",
    "    print('www.'+i+'.com')"
   ]
  },
  {
   "cell_type": "markdown",
   "id": "4f712923",
   "metadata": {},
   "source": [
    "# In-Class Activity:\n",
    "\n",
    "1. Write a program to store all names which starts with 'A' in a list.\n",
    "2. Take a list of numbers and add 5 to each number.\n",
    "3. Create a list of marks and print only marks > 75."
   ]
  },
  {
   "cell_type": "code",
   "execution_count": 28,
   "id": "8bffc7eb",
   "metadata": {
    "ExecuteTime": {
     "end_time": "2023-08-02T08:49:15.449833Z",
     "start_time": "2023-08-02T08:49:15.439616Z"
    }
   },
   "outputs": [
    {
     "data": {
      "text/plain": [
       "['Aisha', 'Ameya', 'Nikita', 'Arya', 'Pooja']"
      ]
     },
     "execution_count": 28,
     "metadata": {},
     "output_type": "execute_result"
    }
   ],
   "source": [
    "names = ['Aisha','Ameya','Nikita','Arya','Pooja']\n",
    "names"
   ]
  },
  {
   "cell_type": "code",
   "execution_count": 29,
   "id": "d39ef11e",
   "metadata": {
    "ExecuteTime": {
     "end_time": "2023-08-02T08:50:07.421586Z",
     "start_time": "2023-08-02T08:50:07.407993Z"
    }
   },
   "outputs": [
    {
     "name": "stdout",
     "output_type": "stream",
     "text": [
      "Aisha\n",
      "Ameya\n",
      "Arya\n"
     ]
    }
   ],
   "source": [
    "for i in names:\n",
    "    if i.startswith('A'):\n",
    "        print(i)"
   ]
  },
  {
   "cell_type": "code",
   "execution_count": 30,
   "id": "096b3c53",
   "metadata": {
    "ExecuteTime": {
     "end_time": "2023-08-02T08:52:40.372195Z",
     "start_time": "2023-08-02T08:52:40.361390Z"
    }
   },
   "outputs": [
    {
     "name": "stdout",
     "output_type": "stream",
     "text": [
      "6\n",
      "7\n",
      "8\n",
      "9\n",
      "10\n",
      "11\n",
      "12\n",
      "13\n",
      "14\n"
     ]
    }
   ],
   "source": [
    "for i in range(1,10):\n",
    "    print(i+5)"
   ]
  },
  {
   "cell_type": "code",
   "execution_count": 32,
   "id": "583766a0",
   "metadata": {
    "ExecuteTime": {
     "end_time": "2023-08-02T08:53:56.992921Z",
     "start_time": "2023-08-02T08:53:56.977106Z"
    }
   },
   "outputs": [
    {
     "name": "stdout",
     "output_type": "stream",
     "text": [
      "85\n",
      "98\n",
      "75\n",
      "85\n"
     ]
    }
   ],
   "source": [
    "marks = [41,54,85,98,75,85,65]\n",
    "\n",
    "for i in marks:\n",
    "    if i >= 75:\n",
    "        print(i)"
   ]
  },
  {
   "cell_type": "code",
   "execution_count": null,
   "id": "2c58ee21",
   "metadata": {},
   "outputs": [],
   "source": []
  }
 ],
 "metadata": {
  "kernelspec": {
   "display_name": "Python 3 (ipykernel)",
   "language": "python",
   "name": "python3"
  },
  "language_info": {
   "codemirror_mode": {
    "name": "ipython",
    "version": 3
   },
   "file_extension": ".py",
   "mimetype": "text/x-python",
   "name": "python",
   "nbconvert_exporter": "python",
   "pygments_lexer": "ipython3",
   "version": "3.9.13"
  }
 },
 "nbformat": 4,
 "nbformat_minor": 5
}
