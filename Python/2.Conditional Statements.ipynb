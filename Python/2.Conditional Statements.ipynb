{
 "cells": [
  {
   "cell_type": "markdown",
   "id": "c73b4c39",
   "metadata": {},
   "source": [
    "# User Input"
   ]
  },
  {
   "cell_type": "code",
   "execution_count": 3,
   "id": "1875c3f9",
   "metadata": {
    "ExecuteTime": {
     "end_time": "2023-07-31T09:03:08.732911Z",
     "start_time": "2023-07-31T09:02:39.041531Z"
    }
   },
   "outputs": [
    {
     "name": "stdout",
     "output_type": "stream",
     "text": [
      "Python\n"
     ]
    }
   ],
   "source": [
    "name = input()"
   ]
  },
  {
   "cell_type": "code",
   "execution_count": 4,
   "id": "12472a13",
   "metadata": {
    "ExecuteTime": {
     "end_time": "2023-07-31T09:03:13.800566Z",
     "start_time": "2023-07-31T09:03:13.781852Z"
    }
   },
   "outputs": [
    {
     "data": {
      "text/plain": [
       "'Python'"
      ]
     },
     "execution_count": 4,
     "metadata": {},
     "output_type": "execute_result"
    }
   ],
   "source": [
    "name"
   ]
  },
  {
   "cell_type": "code",
   "execution_count": 5,
   "id": "9eea4525",
   "metadata": {
    "ExecuteTime": {
     "end_time": "2023-07-31T09:03:55.559109Z",
     "start_time": "2023-07-31T09:03:42.768936Z"
    }
   },
   "outputs": [
    {
     "name": "stdout",
     "output_type": "stream",
     "text": [
      "Enter your age: 20\n"
     ]
    }
   ],
   "source": [
    "Age = input('Enter your age: ')"
   ]
  },
  {
   "cell_type": "code",
   "execution_count": 6,
   "id": "c5bef25f",
   "metadata": {
    "ExecuteTime": {
     "end_time": "2023-07-31T09:04:06.184412Z",
     "start_time": "2023-07-31T09:04:06.173533Z"
    }
   },
   "outputs": [
    {
     "data": {
      "text/plain": [
       "'20'"
      ]
     },
     "execution_count": 6,
     "metadata": {},
     "output_type": "execute_result"
    }
   ],
   "source": [
    "Age"
   ]
  },
  {
   "cell_type": "code",
   "execution_count": 7,
   "id": "7d128238",
   "metadata": {
    "ExecuteTime": {
     "end_time": "2023-07-31T09:04:14.669670Z",
     "start_time": "2023-07-31T09:04:14.651451Z"
    }
   },
   "outputs": [
    {
     "data": {
      "text/plain": [
       "str"
      ]
     },
     "execution_count": 7,
     "metadata": {},
     "output_type": "execute_result"
    }
   ],
   "source": [
    "type(Age)"
   ]
  },
  {
   "cell_type": "code",
   "execution_count": 10,
   "id": "ffb85285",
   "metadata": {
    "ExecuteTime": {
     "end_time": "2023-07-31T09:07:47.330358Z",
     "start_time": "2023-07-31T09:07:44.164545Z"
    }
   },
   "outputs": [
    {
     "name": "stdout",
     "output_type": "stream",
     "text": [
      "First number: 10\n",
      "Second Number: 5\n"
     ]
    }
   ],
   "source": [
    "num1 = int(input('First number: '))\n",
    "num2 = int(input('Second Number: '))"
   ]
  },
  {
   "cell_type": "code",
   "execution_count": 11,
   "id": "09f21e81",
   "metadata": {
    "ExecuteTime": {
     "end_time": "2023-07-31T09:07:51.498286Z",
     "start_time": "2023-07-31T09:07:51.475587Z"
    }
   },
   "outputs": [
    {
     "data": {
      "text/plain": [
       "15"
      ]
     },
     "execution_count": 11,
     "metadata": {},
     "output_type": "execute_result"
    }
   ],
   "source": [
    "num1+num2"
   ]
  },
  {
   "cell_type": "markdown",
   "id": "c5ad61e8",
   "metadata": {},
   "source": [
    "# Conditional Statements\n",
    "- if\n",
    "- else\n",
    "- elif"
   ]
  },
  {
   "cell_type": "code",
   "execution_count": 12,
   "id": "0edae259",
   "metadata": {
    "ExecuteTime": {
     "end_time": "2023-07-31T09:15:06.004121Z",
     "start_time": "2023-07-31T09:15:05.983387Z"
    }
   },
   "outputs": [
    {
     "name": "stdout",
     "output_type": "stream",
     "text": [
      "Log in successful\n"
     ]
    }
   ],
   "source": [
    "userid = 'abc123'\n",
    "\n",
    "if userid == 'abc123':\n",
    "    print('Log in successful')   "
   ]
  },
  {
   "cell_type": "code",
   "execution_count": 14,
   "id": "a2696156",
   "metadata": {
    "ExecuteTime": {
     "end_time": "2023-07-31T09:17:24.423664Z",
     "start_time": "2023-07-31T09:17:24.405767Z"
    }
   },
   "outputs": [
    {
     "name": "stdout",
     "output_type": "stream",
     "text": [
      "Try again\n"
     ]
    }
   ],
   "source": [
    "userid = 'abc1'\n",
    "\n",
    "if userid == 'abc123':\n",
    "    print('Log in successful')  \n",
    "else:\n",
    "    print('Try again')"
   ]
  },
  {
   "cell_type": "code",
   "execution_count": 18,
   "id": "b0139f6b",
   "metadata": {
    "ExecuteTime": {
     "end_time": "2023-07-31T09:20:32.160240Z",
     "start_time": "2023-07-31T09:20:29.490842Z"
    }
   },
   "outputs": [
    {
     "name": "stdout",
     "output_type": "stream",
     "text": [
      "Enter players name: virat\n",
      "No\n"
     ]
    }
   ],
   "source": [
    "#Check whether the player is Virat kolhi\n",
    "player_name = input('Enter players name: ')\n",
    "\n",
    "if player_name == 'Virat':\n",
    "    print('Yes')\n",
    "else:\n",
    "    print('No')"
   ]
  },
  {
   "cell_type": "code",
   "execution_count": 21,
   "id": "64a8930d",
   "metadata": {
    "ExecuteTime": {
     "end_time": "2023-07-31T09:29:20.460082Z",
     "start_time": "2023-07-31T09:29:19.010820Z"
    }
   },
   "outputs": [
    {
     "name": "stdout",
     "output_type": "stream",
     "text": [
      "Enter any number: 0\n",
      "Zero\n"
     ]
    }
   ],
   "source": [
    "#Check whether the number is positive/negative/Zero\n",
    "\n",
    "number = int(input('Enter any number: '))\n",
    "\n",
    "if number > 0:\n",
    "    print('Positive')\n",
    "elif number < 0:\n",
    "    print('Negative')\n",
    "else:\n",
    "    print('Zero')"
   ]
  },
  {
   "cell_type": "code",
   "execution_count": 4,
   "id": "fbcfcc3f",
   "metadata": {
    "ExecuteTime": {
     "end_time": "2023-08-01T07:42:23.460443Z",
     "start_time": "2023-08-01T07:42:23.444690Z"
    }
   },
   "outputs": [],
   "source": [
    "name = \"Sayali\""
   ]
  },
  {
   "cell_type": "code",
   "execution_count": 7,
   "id": "131e3904",
   "metadata": {
    "ExecuteTime": {
     "end_time": "2023-08-01T07:44:00.954270Z",
     "start_time": "2023-08-01T07:44:00.945502Z"
    }
   },
   "outputs": [
    {
     "name": "stdout",
     "output_type": "stream",
     "text": [
      "Hi! How are you sayali?\n",
      "Hi How are you Sayali ?\n"
     ]
    }
   ],
   "source": [
    "print('Hi! How are you sayali?')\n",
    "print('Hi How are you',name,'?')"
   ]
  },
  {
   "cell_type": "code",
   "execution_count": 8,
   "id": "3552b677",
   "metadata": {
    "ExecuteTime": {
     "end_time": "2023-08-01T07:46:51.110509Z",
     "start_time": "2023-08-01T07:46:51.100966Z"
    }
   },
   "outputs": [
    {
     "name": "stdout",
     "output_type": "stream",
     "text": [
      "Hi ,how are you Sayali ?\n"
     ]
    }
   ],
   "source": [
    "#Format\n",
    "\n",
    "print(f\"Hi ,how are you {name}?\")"
   ]
  },
  {
   "cell_type": "markdown",
   "id": "ffe61363",
   "metadata": {},
   "source": [
    "- Take input from user, name, age, location,designation\n",
    "- Write this sentence: My name is 'name'. I am 'age' years old. I live in 'location'. I work as 'designation'"
   ]
  },
  {
   "cell_type": "code",
   "execution_count": 12,
   "id": "e6806643",
   "metadata": {
    "ExecuteTime": {
     "end_time": "2023-08-01T08:00:46.700923Z",
     "start_time": "2023-08-01T08:00:39.740542Z"
    },
    "collapsed": true
   },
   "outputs": [
    {
     "name": "stdout",
     "output_type": "stream",
     "text": [
      "Enter your name: ABC\n",
      "Enter your age: 20\n",
      "Enter your location: Pune\n",
      "Enter your designation: DS\n",
      "My name is ABC. I am 20 years old. I live in Pune.I work as DS\n"
     ]
    }
   ],
   "source": [
    "name = input('Enter your name: ')\n",
    "age = int(input('Enter your age: '))\n",
    "location = input('Enter your location: ')\n",
    "designation = input('Enter your designation: ')\n",
    "\n",
    "#print('My name is',name,'I am ',age,'years old')\n",
    "print(f\"My name is {name}. I am {age} years old. I live in {location}.I work as {designation}\")"
   ]
  },
  {
   "cell_type": "code",
   "execution_count": 15,
   "id": "f7b02a40",
   "metadata": {
    "ExecuteTime": {
     "end_time": "2023-08-01T08:10:14.257845Z",
     "start_time": "2023-08-01T08:10:11.563599Z"
    },
    "collapsed": true
   },
   "outputs": [
    {
     "name": "stdout",
     "output_type": "stream",
     "text": [
      "Enter your age: 20\n",
      "You are eligible\n"
     ]
    }
   ],
   "source": [
    "#Write python program which tell whether the person is eligible to do vote.\n",
    "age = int(input('Enter your age: '))\n",
    "\n",
    "if age >= 18:\n",
    "    print('You are eligible')\n",
    "else:\n",
    "#     print('You are not eligible.You need to wait for',18-age,'years.')\n",
    "    print(f\"You are not eligible. You need to wait for more {18-age} years.\" )"
   ]
  },
  {
   "cell_type": "code",
   "execution_count": 5,
   "id": "f21c4a2f",
   "metadata": {
    "ExecuteTime": {
     "end_time": "2023-07-31T06:36:24.325766Z",
     "start_time": "2023-07-31T06:36:24.311916Z"
    }
   },
   "outputs": [],
   "source": [
    "# Give grades based on percentages\n",
    "#A : marks >85\n",
    "#B : marks < 85 and >70\n",
    "#C : marks <70 and > 60\n",
    "#D \n"
   ]
  },
  {
   "cell_type": "code",
   "execution_count": 19,
   "id": "7a8d2142",
   "metadata": {
    "ExecuteTime": {
     "end_time": "2023-08-01T08:16:03.036453Z",
     "start_time": "2023-08-01T08:15:58.807013Z"
    }
   },
   "outputs": [
    {
     "name": "stdout",
     "output_type": "stream",
     "text": [
      "Enter your marks: 55\n",
      "D\n"
     ]
    }
   ],
   "source": [
    "marks = int(input('Enter your marks: '))\n",
    "\n",
    "if marks >= 85:\n",
    "    print('A')\n",
    "elif (marks < 85 and marks >= 70):\n",
    "    print('B')\n",
    "elif (marks < 70 and marks >= 60):\n",
    "    print('C')\n",
    "else:\n",
    "    print('D')"
   ]
  },
  {
   "cell_type": "markdown",
   "id": "72b1ca58",
   "metadata": {},
   "source": [
    "# In-Class Exercise:\n",
    "\n",
    "1. Write a program which will print Century if the player has made more than 100 runs else it shold write how many more runs he needs to have to complete the century.\n",
    "2. Write a program to check the number is one digited, two digited and three digited.\n",
    "3. Write a program to check whether the user has entered number 99 or not."
   ]
  },
  {
   "cell_type": "code",
   "execution_count": 21,
   "id": "79bb1428",
   "metadata": {
    "ExecuteTime": {
     "end_time": "2023-08-01T08:31:13.212864Z",
     "start_time": "2023-08-01T08:31:11.465626Z"
    }
   },
   "outputs": [
    {
     "name": "stdout",
     "output_type": "stream",
     "text": [
      "Enter runs: 100\n",
      "Century\n"
     ]
    }
   ],
   "source": [
    "runs = int(input('Enter runs: '))\n",
    "\n",
    "if runs >= 100:\n",
    "    print('Century')\n",
    "else:\n",
    "    print(f\"You need to make more {100-runs} runs.\")"
   ]
  },
  {
   "cell_type": "code",
   "execution_count": 26,
   "id": "2a821e61",
   "metadata": {
    "ExecuteTime": {
     "end_time": "2023-08-01T08:34:11.129823Z",
     "start_time": "2023-08-01T08:34:06.189129Z"
    }
   },
   "outputs": [
    {
     "name": "stdout",
     "output_type": "stream",
     "text": [
      "Enter any number: 45651\n",
      "Invalid\n"
     ]
    }
   ],
   "source": [
    "num = int(input('Enter any number: '))\n",
    "\n",
    "if num < 10:\n",
    "    print('One digited')\n",
    "elif (num >= 10 and num <100 ):\n",
    "    print('Two digited')\n",
    "elif (num >=100 and num < 1000):\n",
    "    print('Three digited')\n",
    "else:\n",
    "    print('Invalid')"
   ]
  },
  {
   "cell_type": "code",
   "execution_count": 28,
   "id": "01c145b4",
   "metadata": {
    "ExecuteTime": {
     "end_time": "2023-08-01T08:35:06.063630Z",
     "start_time": "2023-08-01T08:35:01.399377Z"
    }
   },
   "outputs": [
    {
     "name": "stdout",
     "output_type": "stream",
     "text": [
      "Enter number: 10\n",
      "No\n"
     ]
    }
   ],
   "source": [
    "number = int(input('Enter number: '))\n",
    "\n",
    "if number == 99:\n",
    "    print('Yes')\n",
    "else:\n",
    "    print('No')"
   ]
  },
  {
   "cell_type": "code",
   "execution_count": null,
   "id": "240f95d7",
   "metadata": {},
   "outputs": [],
   "source": []
  }
 ],
 "metadata": {
  "kernelspec": {
   "display_name": "Python 3 (ipykernel)",
   "language": "python",
   "name": "python3"
  },
  "language_info": {
   "codemirror_mode": {
    "name": "ipython",
    "version": 3
   },
   "file_extension": ".py",
   "mimetype": "text/x-python",
   "name": "python",
   "nbconvert_exporter": "python",
   "pygments_lexer": "ipython3",
   "version": "3.9.13"
  }
 },
 "nbformat": 4,
 "nbformat_minor": 5
}
