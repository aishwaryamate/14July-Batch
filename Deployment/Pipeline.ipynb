{
 "cells": [
  {
   "cell_type": "code",
   "execution_count": 1,
   "id": "155c5455",
   "metadata": {
    "ExecuteTime": {
     "end_time": "2023-10-31T08:48:50.564719Z",
     "start_time": "2023-10-31T08:48:48.660149Z"
    }
   },
   "outputs": [],
   "source": [
    "from sklearn.compose import ColumnTransformer\n",
    "from sklearn.preprocessing import OneHotEncoder\n",
    "from sklearn.preprocessing import StandardScaler\n",
    "from sklearn.pipeline import Pipeline\n",
    "from sklearn.ensemble import GradientBoostingRegressor\n",
    "from sklearn import set_config\n",
    "set_config(display='diagram')"
   ]
  },
  {
   "cell_type": "code",
   "execution_count": 2,
   "id": "69190dc6",
   "metadata": {
    "ExecuteTime": {
     "end_time": "2023-10-31T08:48:52.899439Z",
     "start_time": "2023-10-31T08:48:51.944075Z"
    }
   },
   "outputs": [
    {
     "data": {
      "text/html": [
       "<div>\n",
       "<style scoped>\n",
       "    .dataframe tbody tr th:only-of-type {\n",
       "        vertical-align: middle;\n",
       "    }\n",
       "\n",
       "    .dataframe tbody tr th {\n",
       "        vertical-align: top;\n",
       "    }\n",
       "\n",
       "    .dataframe thead th {\n",
       "        text-align: right;\n",
       "    }\n",
       "</style>\n",
       "<table border=\"1\" class=\"dataframe\">\n",
       "  <thead>\n",
       "    <tr style=\"text-align: right;\">\n",
       "      <th></th>\n",
       "      <th>age</th>\n",
       "      <th>gender</th>\n",
       "      <th>bmi</th>\n",
       "      <th>smoker</th>\n",
       "      <th>claim</th>\n",
       "    </tr>\n",
       "  </thead>\n",
       "  <tbody>\n",
       "    <tr>\n",
       "      <th>0</th>\n",
       "      <td>39.000000</td>\n",
       "      <td>male</td>\n",
       "      <td>23.2</td>\n",
       "      <td>No</td>\n",
       "      <td>1121.87</td>\n",
       "    </tr>\n",
       "    <tr>\n",
       "      <th>1</th>\n",
       "      <td>24.000000</td>\n",
       "      <td>male</td>\n",
       "      <td>30.1</td>\n",
       "      <td>No</td>\n",
       "      <td>1131.51</td>\n",
       "    </tr>\n",
       "    <tr>\n",
       "      <th>2</th>\n",
       "      <td>38.078652</td>\n",
       "      <td>male</td>\n",
       "      <td>33.3</td>\n",
       "      <td>No</td>\n",
       "      <td>1135.94</td>\n",
       "    </tr>\n",
       "    <tr>\n",
       "      <th>3</th>\n",
       "      <td>38.078652</td>\n",
       "      <td>male</td>\n",
       "      <td>33.7</td>\n",
       "      <td>No</td>\n",
       "      <td>1136.40</td>\n",
       "    </tr>\n",
       "    <tr>\n",
       "      <th>4</th>\n",
       "      <td>38.078652</td>\n",
       "      <td>male</td>\n",
       "      <td>34.1</td>\n",
       "      <td>No</td>\n",
       "      <td>1137.01</td>\n",
       "    </tr>\n",
       "  </tbody>\n",
       "</table>\n",
       "</div>"
      ],
      "text/plain": [
       "         age gender   bmi smoker    claim\n",
       "0  39.000000   male  23.2     No  1121.87\n",
       "1  24.000000   male  30.1     No  1131.51\n",
       "2  38.078652   male  33.3     No  1135.94\n",
       "3  38.078652   male  33.7     No  1136.40\n",
       "4  38.078652   male  34.1     No  1137.01"
      ]
     },
     "execution_count": 2,
     "metadata": {},
     "output_type": "execute_result"
    }
   ],
   "source": [
    "import pandas as pd\n",
    "\n",
    "df = pd.read_csv('claim.csv', index_col=0)\n",
    "df.head()"
   ]
  },
  {
   "cell_type": "code",
   "execution_count": 3,
   "id": "0f34f47b",
   "metadata": {
    "ExecuteTime": {
     "end_time": "2023-10-31T08:52:02.904793Z",
     "start_time": "2023-10-31T08:52:02.868709Z"
    }
   },
   "outputs": [],
   "source": [
    "transformer = ColumnTransformer(transformers=[\n",
    "    ('tnf1', OneHotEncoder(),[1,3]),\n",
    "    ('tnf2',StandardScaler(),[0,2])\n",
    "], remainder='passthrough')"
   ]
  },
  {
   "cell_type": "code",
   "execution_count": 5,
   "id": "17457fee",
   "metadata": {
    "ExecuteTime": {
     "end_time": "2023-10-31T08:52:20.857181Z",
     "start_time": "2023-10-31T08:52:20.833962Z"
    }
   },
   "outputs": [],
   "source": [
    "from sklearn.model_selection import train_test_split"
   ]
  },
  {
   "cell_type": "code",
   "execution_count": 6,
   "id": "88b3d0d7",
   "metadata": {
    "ExecuteTime": {
     "end_time": "2023-10-31T08:52:21.166926Z",
     "start_time": "2023-10-31T08:52:21.142445Z"
    }
   },
   "outputs": [],
   "source": [
    "xtrain,xtest,ytrain,ytest = train_test_split(df.drop(columns=['claim']), df['claim'], test_size=0.2,random_state=1)"
   ]
  },
  {
   "cell_type": "code",
   "execution_count": 7,
   "id": "4408ae6f",
   "metadata": {
    "ExecuteTime": {
     "end_time": "2023-10-31T08:54:06.792376Z",
     "start_time": "2023-10-31T08:54:06.776440Z"
    }
   },
   "outputs": [],
   "source": [
    "model = Pipeline(steps=[('transformer', transformer),('model',GradientBoostingRegressor())])"
   ]
  },
  {
   "cell_type": "code",
   "execution_count": 8,
   "id": "305b5ea7",
   "metadata": {
    "ExecuteTime": {
     "end_time": "2023-10-31T08:54:34.951956Z",
     "start_time": "2023-10-31T08:54:34.736597Z"
    }
   },
   "outputs": [
    {
     "data": {
      "text/html": [
       "<style>#sk-b9ff625e-f387-4d3a-8da8-c81c6ad1df11 {color: black;background-color: white;}#sk-b9ff625e-f387-4d3a-8da8-c81c6ad1df11 pre{padding: 0;}#sk-b9ff625e-f387-4d3a-8da8-c81c6ad1df11 div.sk-toggleable {background-color: white;}#sk-b9ff625e-f387-4d3a-8da8-c81c6ad1df11 label.sk-toggleable__label {cursor: pointer;display: block;width: 100%;margin-bottom: 0;padding: 0.3em;box-sizing: border-box;text-align: center;}#sk-b9ff625e-f387-4d3a-8da8-c81c6ad1df11 label.sk-toggleable__label-arrow:before {content: \"▸\";float: left;margin-right: 0.25em;color: #696969;}#sk-b9ff625e-f387-4d3a-8da8-c81c6ad1df11 label.sk-toggleable__label-arrow:hover:before {color: black;}#sk-b9ff625e-f387-4d3a-8da8-c81c6ad1df11 div.sk-estimator:hover label.sk-toggleable__label-arrow:before {color: black;}#sk-b9ff625e-f387-4d3a-8da8-c81c6ad1df11 div.sk-toggleable__content {max-height: 0;max-width: 0;overflow: hidden;text-align: left;background-color: #f0f8ff;}#sk-b9ff625e-f387-4d3a-8da8-c81c6ad1df11 div.sk-toggleable__content pre {margin: 0.2em;color: black;border-radius: 0.25em;background-color: #f0f8ff;}#sk-b9ff625e-f387-4d3a-8da8-c81c6ad1df11 input.sk-toggleable__control:checked~div.sk-toggleable__content {max-height: 200px;max-width: 100%;overflow: auto;}#sk-b9ff625e-f387-4d3a-8da8-c81c6ad1df11 input.sk-toggleable__control:checked~label.sk-toggleable__label-arrow:before {content: \"▾\";}#sk-b9ff625e-f387-4d3a-8da8-c81c6ad1df11 div.sk-estimator input.sk-toggleable__control:checked~label.sk-toggleable__label {background-color: #d4ebff;}#sk-b9ff625e-f387-4d3a-8da8-c81c6ad1df11 div.sk-label input.sk-toggleable__control:checked~label.sk-toggleable__label {background-color: #d4ebff;}#sk-b9ff625e-f387-4d3a-8da8-c81c6ad1df11 input.sk-hidden--visually {border: 0;clip: rect(1px 1px 1px 1px);clip: rect(1px, 1px, 1px, 1px);height: 1px;margin: -1px;overflow: hidden;padding: 0;position: absolute;width: 1px;}#sk-b9ff625e-f387-4d3a-8da8-c81c6ad1df11 div.sk-estimator {font-family: monospace;background-color: #f0f8ff;border: 1px dotted black;border-radius: 0.25em;box-sizing: border-box;margin-bottom: 0.5em;}#sk-b9ff625e-f387-4d3a-8da8-c81c6ad1df11 div.sk-estimator:hover {background-color: #d4ebff;}#sk-b9ff625e-f387-4d3a-8da8-c81c6ad1df11 div.sk-parallel-item::after {content: \"\";width: 100%;border-bottom: 1px solid gray;flex-grow: 1;}#sk-b9ff625e-f387-4d3a-8da8-c81c6ad1df11 div.sk-label:hover label.sk-toggleable__label {background-color: #d4ebff;}#sk-b9ff625e-f387-4d3a-8da8-c81c6ad1df11 div.sk-serial::before {content: \"\";position: absolute;border-left: 1px solid gray;box-sizing: border-box;top: 2em;bottom: 0;left: 50%;}#sk-b9ff625e-f387-4d3a-8da8-c81c6ad1df11 div.sk-serial {display: flex;flex-direction: column;align-items: center;background-color: white;padding-right: 0.2em;padding-left: 0.2em;}#sk-b9ff625e-f387-4d3a-8da8-c81c6ad1df11 div.sk-item {z-index: 1;}#sk-b9ff625e-f387-4d3a-8da8-c81c6ad1df11 div.sk-parallel {display: flex;align-items: stretch;justify-content: center;background-color: white;}#sk-b9ff625e-f387-4d3a-8da8-c81c6ad1df11 div.sk-parallel::before {content: \"\";position: absolute;border-left: 1px solid gray;box-sizing: border-box;top: 2em;bottom: 0;left: 50%;}#sk-b9ff625e-f387-4d3a-8da8-c81c6ad1df11 div.sk-parallel-item {display: flex;flex-direction: column;position: relative;background-color: white;}#sk-b9ff625e-f387-4d3a-8da8-c81c6ad1df11 div.sk-parallel-item:first-child::after {align-self: flex-end;width: 50%;}#sk-b9ff625e-f387-4d3a-8da8-c81c6ad1df11 div.sk-parallel-item:last-child::after {align-self: flex-start;width: 50%;}#sk-b9ff625e-f387-4d3a-8da8-c81c6ad1df11 div.sk-parallel-item:only-child::after {width: 0;}#sk-b9ff625e-f387-4d3a-8da8-c81c6ad1df11 div.sk-dashed-wrapped {border: 1px dashed gray;margin: 0 0.4em 0.5em 0.4em;box-sizing: border-box;padding-bottom: 0.4em;background-color: white;position: relative;}#sk-b9ff625e-f387-4d3a-8da8-c81c6ad1df11 div.sk-label label {font-family: monospace;font-weight: bold;background-color: white;display: inline-block;line-height: 1.2em;}#sk-b9ff625e-f387-4d3a-8da8-c81c6ad1df11 div.sk-label-container {position: relative;z-index: 2;text-align: center;}#sk-b9ff625e-f387-4d3a-8da8-c81c6ad1df11 div.sk-container {/* jupyter's `normalize.less` sets `[hidden] { display: none; }` but bootstrap.min.css set `[hidden] { display: none !important; }` so we also need the `!important` here to be able to override the default hidden behavior on the sphinx rendered scikit-learn.org. See: https://github.com/scikit-learn/scikit-learn/issues/21755 */display: inline-block !important;position: relative;}#sk-b9ff625e-f387-4d3a-8da8-c81c6ad1df11 div.sk-text-repr-fallback {display: none;}</style><div id=\"sk-b9ff625e-f387-4d3a-8da8-c81c6ad1df11\" class=\"sk-top-container\"><div class=\"sk-text-repr-fallback\"><pre>Pipeline(steps=[(&#x27;transformer&#x27;,\n",
       "                 ColumnTransformer(remainder=&#x27;passthrough&#x27;,\n",
       "                                   transformers=[(&#x27;tnf1&#x27;, OneHotEncoder(),\n",
       "                                                  [1, 3]),\n",
       "                                                 (&#x27;tnf2&#x27;, StandardScaler(),\n",
       "                                                  [0, 2])])),\n",
       "                (&#x27;model&#x27;, GradientBoostingRegressor())])</pre><b>Please rerun this cell to show the HTML repr or trust the notebook.</b></div><div class=\"sk-container\" hidden><div class=\"sk-item sk-dashed-wrapped\"><div class=\"sk-label-container\"><div class=\"sk-label sk-toggleable\"><input class=\"sk-toggleable__control sk-hidden--visually\" id=\"f99ff977-e0e4-4410-b3e4-303f592f4f6d\" type=\"checkbox\" ><label for=\"f99ff977-e0e4-4410-b3e4-303f592f4f6d\" class=\"sk-toggleable__label sk-toggleable__label-arrow\">Pipeline</label><div class=\"sk-toggleable__content\"><pre>Pipeline(steps=[(&#x27;transformer&#x27;,\n",
       "                 ColumnTransformer(remainder=&#x27;passthrough&#x27;,\n",
       "                                   transformers=[(&#x27;tnf1&#x27;, OneHotEncoder(),\n",
       "                                                  [1, 3]),\n",
       "                                                 (&#x27;tnf2&#x27;, StandardScaler(),\n",
       "                                                  [0, 2])])),\n",
       "                (&#x27;model&#x27;, GradientBoostingRegressor())])</pre></div></div></div><div class=\"sk-serial\"><div class=\"sk-item sk-dashed-wrapped\"><div class=\"sk-label-container\"><div class=\"sk-label sk-toggleable\"><input class=\"sk-toggleable__control sk-hidden--visually\" id=\"433253e6-9241-4b0e-b00e-1295699fe9c8\" type=\"checkbox\" ><label for=\"433253e6-9241-4b0e-b00e-1295699fe9c8\" class=\"sk-toggleable__label sk-toggleable__label-arrow\">transformer: ColumnTransformer</label><div class=\"sk-toggleable__content\"><pre>ColumnTransformer(remainder=&#x27;passthrough&#x27;,\n",
       "                  transformers=[(&#x27;tnf1&#x27;, OneHotEncoder(), [1, 3]),\n",
       "                                (&#x27;tnf2&#x27;, StandardScaler(), [0, 2])])</pre></div></div></div><div class=\"sk-parallel\"><div class=\"sk-parallel-item\"><div class=\"sk-item\"><div class=\"sk-label-container\"><div class=\"sk-label sk-toggleable\"><input class=\"sk-toggleable__control sk-hidden--visually\" id=\"37e8b523-ef4e-4818-81fa-c131da1b90fa\" type=\"checkbox\" ><label for=\"37e8b523-ef4e-4818-81fa-c131da1b90fa\" class=\"sk-toggleable__label sk-toggleable__label-arrow\">tnf1</label><div class=\"sk-toggleable__content\"><pre>[1, 3]</pre></div></div></div><div class=\"sk-serial\"><div class=\"sk-item\"><div class=\"sk-estimator sk-toggleable\"><input class=\"sk-toggleable__control sk-hidden--visually\" id=\"07b99df7-09b9-43c9-ba8e-8312f6a575ae\" type=\"checkbox\" ><label for=\"07b99df7-09b9-43c9-ba8e-8312f6a575ae\" class=\"sk-toggleable__label sk-toggleable__label-arrow\">OneHotEncoder</label><div class=\"sk-toggleable__content\"><pre>OneHotEncoder()</pre></div></div></div></div></div></div><div class=\"sk-parallel-item\"><div class=\"sk-item\"><div class=\"sk-label-container\"><div class=\"sk-label sk-toggleable\"><input class=\"sk-toggleable__control sk-hidden--visually\" id=\"ce33564d-25e4-43d0-ab30-e79923941020\" type=\"checkbox\" ><label for=\"ce33564d-25e4-43d0-ab30-e79923941020\" class=\"sk-toggleable__label sk-toggleable__label-arrow\">tnf2</label><div class=\"sk-toggleable__content\"><pre>[0, 2]</pre></div></div></div><div class=\"sk-serial\"><div class=\"sk-item\"><div class=\"sk-estimator sk-toggleable\"><input class=\"sk-toggleable__control sk-hidden--visually\" id=\"1348d8a0-71c1-46f1-b4b1-2048c87eefa9\" type=\"checkbox\" ><label for=\"1348d8a0-71c1-46f1-b4b1-2048c87eefa9\" class=\"sk-toggleable__label sk-toggleable__label-arrow\">StandardScaler</label><div class=\"sk-toggleable__content\"><pre>StandardScaler()</pre></div></div></div></div></div></div><div class=\"sk-parallel-item\"><div class=\"sk-item\"><div class=\"sk-label-container\"><div class=\"sk-label sk-toggleable\"><input class=\"sk-toggleable__control sk-hidden--visually\" id=\"117581f3-dca5-4aef-a2fb-ebf6983206a3\" type=\"checkbox\" ><label for=\"117581f3-dca5-4aef-a2fb-ebf6983206a3\" class=\"sk-toggleable__label sk-toggleable__label-arrow\">remainder</label><div class=\"sk-toggleable__content\"><pre>[]</pre></div></div></div><div class=\"sk-serial\"><div class=\"sk-item\"><div class=\"sk-estimator sk-toggleable\"><input class=\"sk-toggleable__control sk-hidden--visually\" id=\"c7b7dd1f-ebcf-433d-9282-63ec11b82edd\" type=\"checkbox\" ><label for=\"c7b7dd1f-ebcf-433d-9282-63ec11b82edd\" class=\"sk-toggleable__label sk-toggleable__label-arrow\">passthrough</label><div class=\"sk-toggleable__content\"><pre>passthrough</pre></div></div></div></div></div></div></div></div><div class=\"sk-item\"><div class=\"sk-estimator sk-toggleable\"><input class=\"sk-toggleable__control sk-hidden--visually\" id=\"3117684b-46fe-492f-9963-278af751d39b\" type=\"checkbox\" ><label for=\"3117684b-46fe-492f-9963-278af751d39b\" class=\"sk-toggleable__label sk-toggleable__label-arrow\">GradientBoostingRegressor</label><div class=\"sk-toggleable__content\"><pre>GradientBoostingRegressor()</pre></div></div></div></div></div></div></div>"
      ],
      "text/plain": [
       "Pipeline(steps=[('transformer',\n",
       "                 ColumnTransformer(remainder='passthrough',\n",
       "                                   transformers=[('tnf1', OneHotEncoder(),\n",
       "                                                  [1, 3]),\n",
       "                                                 ('tnf2', StandardScaler(),\n",
       "                                                  [0, 2])])),\n",
       "                ('model', GradientBoostingRegressor())])"
      ]
     },
     "execution_count": 8,
     "metadata": {},
     "output_type": "execute_result"
    }
   ],
   "source": [
    "model.fit(xtrain,ytrain)"
   ]
  },
  {
   "cell_type": "code",
   "execution_count": 9,
   "id": "eb335c6b",
   "metadata": {
    "ExecuteTime": {
     "end_time": "2023-10-31T08:55:30.150475Z",
     "start_time": "2023-10-31T08:55:30.125039Z"
    }
   },
   "outputs": [],
   "source": [
    "ypred = model.predict(xtest)"
   ]
  },
  {
   "cell_type": "code",
   "execution_count": 10,
   "id": "d63cd5fd",
   "metadata": {
    "ExecuteTime": {
     "end_time": "2023-10-31T08:56:01.359243Z",
     "start_time": "2023-10-31T08:56:01.349114Z"
    }
   },
   "outputs": [],
   "source": [
    "import pickle\n",
    "\n",
    "pickle.dump(model, open('model.pkl','wb'))"
   ]
  },
  {
   "cell_type": "code",
   "execution_count": null,
   "id": "ecb8fe20",
   "metadata": {},
   "outputs": [],
   "source": []
  },
  {
   "cell_type": "code",
   "execution_count": null,
   "id": "96d07f98",
   "metadata": {},
   "outputs": [],
   "source": []
  }
 ],
 "metadata": {
  "kernelspec": {
   "display_name": "Python 3 (ipykernel)",
   "language": "python",
   "name": "python3"
  },
  "language_info": {
   "codemirror_mode": {
    "name": "ipython",
    "version": 3
   },
   "file_extension": ".py",
   "mimetype": "text/x-python",
   "name": "python",
   "nbconvert_exporter": "python",
   "pygments_lexer": "ipython3",
   "version": "3.9.13"
  }
 },
 "nbformat": 4,
 "nbformat_minor": 5
}
