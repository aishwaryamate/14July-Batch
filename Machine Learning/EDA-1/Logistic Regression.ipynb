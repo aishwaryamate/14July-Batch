{
 "cells": [
  {
   "cell_type": "markdown",
   "id": "1d5a0e88",
   "metadata": {
    "ExecuteTime": {
     "end_time": "2023-04-17T04:02:06.090100Z",
     "start_time": "2023-04-17T04:02:01.413495Z"
    }
   },
   "source": [
    "# Problem Statement:\n",
    "- Goal is to create a classification model which can predict all positive classes correctly.(Recall Should be high.)"
   ]
  },
  {
   "cell_type": "code",
   "execution_count": 1,
   "id": "dc6bd246",
   "metadata": {
    "ExecuteTime": {
     "end_time": "2023-09-12T08:19:31.790795Z",
     "start_time": "2023-09-12T08:19:26.216412Z"
    }
   },
   "outputs": [],
   "source": [
    "import pandas as pd\n",
    "import numpy as np\n",
    "import matplotlib.pyplot as plt\n",
    "import seaborn as sns\n",
    "plt.rcParams['figure.figsize'] = (10,5)\n",
    "plt.rcParams['figure.dpi'] = 250\n",
    "import warnings\n",
    "warnings.filterwarnings('ignore')\n",
    "%matplotlib inline"
   ]
  },
  {
   "cell_type": "code",
   "execution_count": 2,
   "id": "186d4b04",
   "metadata": {
    "ExecuteTime": {
     "end_time": "2023-09-12T08:19:32.302984Z",
     "start_time": "2023-09-12T08:19:31.794830Z"
    }
   },
   "outputs": [
    {
     "data": {
      "text/html": [
       "<div>\n",
       "<style scoped>\n",
       "    .dataframe tbody tr th:only-of-type {\n",
       "        vertical-align: middle;\n",
       "    }\n",
       "\n",
       "    .dataframe tbody tr th {\n",
       "        vertical-align: top;\n",
       "    }\n",
       "\n",
       "    .dataframe thead th {\n",
       "        text-align: right;\n",
       "    }\n",
       "</style>\n",
       "<table border=\"1\" class=\"dataframe\">\n",
       "  <thead>\n",
       "    <tr style=\"text-align: right;\">\n",
       "      <th></th>\n",
       "      <th>CASENUM</th>\n",
       "      <th>ATTORNEY</th>\n",
       "      <th>CLMSEX</th>\n",
       "      <th>CLMINSUR</th>\n",
       "      <th>SEATBELT</th>\n",
       "      <th>CLMAGE</th>\n",
       "      <th>LOSS</th>\n",
       "    </tr>\n",
       "  </thead>\n",
       "  <tbody>\n",
       "    <tr>\n",
       "      <th>0</th>\n",
       "      <td>5</td>\n",
       "      <td>1</td>\n",
       "      <td>0.0</td>\n",
       "      <td>1.0</td>\n",
       "      <td>0.0</td>\n",
       "      <td>50.0</td>\n",
       "      <td>34.940</td>\n",
       "    </tr>\n",
       "    <tr>\n",
       "      <th>1</th>\n",
       "      <td>3</td>\n",
       "      <td>0</td>\n",
       "      <td>1.0</td>\n",
       "      <td>0.0</td>\n",
       "      <td>0.0</td>\n",
       "      <td>18.0</td>\n",
       "      <td>0.891</td>\n",
       "    </tr>\n",
       "    <tr>\n",
       "      <th>2</th>\n",
       "      <td>66</td>\n",
       "      <td>0</td>\n",
       "      <td>0.0</td>\n",
       "      <td>1.0</td>\n",
       "      <td>0.0</td>\n",
       "      <td>5.0</td>\n",
       "      <td>0.330</td>\n",
       "    </tr>\n",
       "    <tr>\n",
       "      <th>3</th>\n",
       "      <td>70</td>\n",
       "      <td>1</td>\n",
       "      <td>0.0</td>\n",
       "      <td>1.0</td>\n",
       "      <td>1.0</td>\n",
       "      <td>31.0</td>\n",
       "      <td>0.037</td>\n",
       "    </tr>\n",
       "    <tr>\n",
       "      <th>4</th>\n",
       "      <td>96</td>\n",
       "      <td>0</td>\n",
       "      <td>0.0</td>\n",
       "      <td>1.0</td>\n",
       "      <td>0.0</td>\n",
       "      <td>30.0</td>\n",
       "      <td>0.038</td>\n",
       "    </tr>\n",
       "    <tr>\n",
       "      <th>...</th>\n",
       "      <td>...</td>\n",
       "      <td>...</td>\n",
       "      <td>...</td>\n",
       "      <td>...</td>\n",
       "      <td>...</td>\n",
       "      <td>...</td>\n",
       "      <td>...</td>\n",
       "    </tr>\n",
       "    <tr>\n",
       "      <th>1335</th>\n",
       "      <td>34100</td>\n",
       "      <td>0</td>\n",
       "      <td>0.0</td>\n",
       "      <td>1.0</td>\n",
       "      <td>0.0</td>\n",
       "      <td>NaN</td>\n",
       "      <td>0.576</td>\n",
       "    </tr>\n",
       "    <tr>\n",
       "      <th>1336</th>\n",
       "      <td>34110</td>\n",
       "      <td>1</td>\n",
       "      <td>1.0</td>\n",
       "      <td>1.0</td>\n",
       "      <td>0.0</td>\n",
       "      <td>46.0</td>\n",
       "      <td>3.705</td>\n",
       "    </tr>\n",
       "    <tr>\n",
       "      <th>1337</th>\n",
       "      <td>34113</td>\n",
       "      <td>0</td>\n",
       "      <td>1.0</td>\n",
       "      <td>1.0</td>\n",
       "      <td>0.0</td>\n",
       "      <td>39.0</td>\n",
       "      <td>0.099</td>\n",
       "    </tr>\n",
       "    <tr>\n",
       "      <th>1338</th>\n",
       "      <td>34145</td>\n",
       "      <td>1</td>\n",
       "      <td>1.0</td>\n",
       "      <td>0.0</td>\n",
       "      <td>0.0</td>\n",
       "      <td>8.0</td>\n",
       "      <td>3.177</td>\n",
       "    </tr>\n",
       "    <tr>\n",
       "      <th>1339</th>\n",
       "      <td>34153</td>\n",
       "      <td>0</td>\n",
       "      <td>1.0</td>\n",
       "      <td>1.0</td>\n",
       "      <td>0.0</td>\n",
       "      <td>30.0</td>\n",
       "      <td>0.688</td>\n",
       "    </tr>\n",
       "  </tbody>\n",
       "</table>\n",
       "<p>1340 rows × 7 columns</p>\n",
       "</div>"
      ],
      "text/plain": [
       "      CASENUM  ATTORNEY  CLMSEX  CLMINSUR  SEATBELT  CLMAGE    LOSS\n",
       "0           5         1     0.0       1.0       0.0    50.0  34.940\n",
       "1           3         0     1.0       0.0       0.0    18.0   0.891\n",
       "2          66         0     0.0       1.0       0.0     5.0   0.330\n",
       "3          70         1     0.0       1.0       1.0    31.0   0.037\n",
       "4          96         0     0.0       1.0       0.0    30.0   0.038\n",
       "...       ...       ...     ...       ...       ...     ...     ...\n",
       "1335    34100         0     0.0       1.0       0.0     NaN   0.576\n",
       "1336    34110         1     1.0       1.0       0.0    46.0   3.705\n",
       "1337    34113         0     1.0       1.0       0.0    39.0   0.099\n",
       "1338    34145         1     1.0       0.0       0.0     8.0   3.177\n",
       "1339    34153         0     1.0       1.0       0.0    30.0   0.688\n",
       "\n",
       "[1340 rows x 7 columns]"
      ]
     },
     "execution_count": 2,
     "metadata": {},
     "output_type": "execute_result"
    }
   ],
   "source": [
    "df = pd.read_csv('https://raw.githubusercontent.com/aishwaryamate/Datasets/main/Client.csv', index_col=0)\n",
    "df"
   ]
  },
  {
   "cell_type": "code",
   "execution_count": 3,
   "id": "c63c4f91",
   "metadata": {
    "ExecuteTime": {
     "end_time": "2023-09-12T08:19:32.318405Z",
     "start_time": "2023-09-12T08:19:32.306481Z"
    }
   },
   "outputs": [],
   "source": [
    "df.drop(columns=['CASENUM'], inplace=True)"
   ]
  },
  {
   "cell_type": "code",
   "execution_count": 4,
   "id": "abbd9cf4",
   "metadata": {
    "ExecuteTime": {
     "end_time": "2023-09-12T08:19:32.366116Z",
     "start_time": "2023-09-12T08:19:32.321403Z"
    }
   },
   "outputs": [
    {
     "data": {
      "text/html": [
       "<div>\n",
       "<style scoped>\n",
       "    .dataframe tbody tr th:only-of-type {\n",
       "        vertical-align: middle;\n",
       "    }\n",
       "\n",
       "    .dataframe tbody tr th {\n",
       "        vertical-align: top;\n",
       "    }\n",
       "\n",
       "    .dataframe thead th {\n",
       "        text-align: right;\n",
       "    }\n",
       "</style>\n",
       "<table border=\"1\" class=\"dataframe\">\n",
       "  <thead>\n",
       "    <tr style=\"text-align: right;\">\n",
       "      <th></th>\n",
       "      <th>ATTORNEY</th>\n",
       "      <th>CLMSEX</th>\n",
       "      <th>CLMINSUR</th>\n",
       "      <th>SEATBELT</th>\n",
       "      <th>CLMAGE</th>\n",
       "      <th>LOSS</th>\n",
       "    </tr>\n",
       "  </thead>\n",
       "  <tbody>\n",
       "    <tr>\n",
       "      <th>0</th>\n",
       "      <td>1</td>\n",
       "      <td>0.0</td>\n",
       "      <td>1.0</td>\n",
       "      <td>0.0</td>\n",
       "      <td>50.0</td>\n",
       "      <td>34.940</td>\n",
       "    </tr>\n",
       "    <tr>\n",
       "      <th>1</th>\n",
       "      <td>0</td>\n",
       "      <td>1.0</td>\n",
       "      <td>0.0</td>\n",
       "      <td>0.0</td>\n",
       "      <td>18.0</td>\n",
       "      <td>0.891</td>\n",
       "    </tr>\n",
       "    <tr>\n",
       "      <th>2</th>\n",
       "      <td>0</td>\n",
       "      <td>0.0</td>\n",
       "      <td>1.0</td>\n",
       "      <td>0.0</td>\n",
       "      <td>5.0</td>\n",
       "      <td>0.330</td>\n",
       "    </tr>\n",
       "    <tr>\n",
       "      <th>3</th>\n",
       "      <td>1</td>\n",
       "      <td>0.0</td>\n",
       "      <td>1.0</td>\n",
       "      <td>1.0</td>\n",
       "      <td>31.0</td>\n",
       "      <td>0.037</td>\n",
       "    </tr>\n",
       "    <tr>\n",
       "      <th>4</th>\n",
       "      <td>0</td>\n",
       "      <td>0.0</td>\n",
       "      <td>1.0</td>\n",
       "      <td>0.0</td>\n",
       "      <td>30.0</td>\n",
       "      <td>0.038</td>\n",
       "    </tr>\n",
       "    <tr>\n",
       "      <th>...</th>\n",
       "      <td>...</td>\n",
       "      <td>...</td>\n",
       "      <td>...</td>\n",
       "      <td>...</td>\n",
       "      <td>...</td>\n",
       "      <td>...</td>\n",
       "    </tr>\n",
       "    <tr>\n",
       "      <th>1335</th>\n",
       "      <td>0</td>\n",
       "      <td>0.0</td>\n",
       "      <td>1.0</td>\n",
       "      <td>0.0</td>\n",
       "      <td>NaN</td>\n",
       "      <td>0.576</td>\n",
       "    </tr>\n",
       "    <tr>\n",
       "      <th>1336</th>\n",
       "      <td>1</td>\n",
       "      <td>1.0</td>\n",
       "      <td>1.0</td>\n",
       "      <td>0.0</td>\n",
       "      <td>46.0</td>\n",
       "      <td>3.705</td>\n",
       "    </tr>\n",
       "    <tr>\n",
       "      <th>1337</th>\n",
       "      <td>0</td>\n",
       "      <td>1.0</td>\n",
       "      <td>1.0</td>\n",
       "      <td>0.0</td>\n",
       "      <td>39.0</td>\n",
       "      <td>0.099</td>\n",
       "    </tr>\n",
       "    <tr>\n",
       "      <th>1338</th>\n",
       "      <td>1</td>\n",
       "      <td>1.0</td>\n",
       "      <td>0.0</td>\n",
       "      <td>0.0</td>\n",
       "      <td>8.0</td>\n",
       "      <td>3.177</td>\n",
       "    </tr>\n",
       "    <tr>\n",
       "      <th>1339</th>\n",
       "      <td>0</td>\n",
       "      <td>1.0</td>\n",
       "      <td>1.0</td>\n",
       "      <td>0.0</td>\n",
       "      <td>30.0</td>\n",
       "      <td>0.688</td>\n",
       "    </tr>\n",
       "  </tbody>\n",
       "</table>\n",
       "<p>1340 rows × 6 columns</p>\n",
       "</div>"
      ],
      "text/plain": [
       "      ATTORNEY  CLMSEX  CLMINSUR  SEATBELT  CLMAGE    LOSS\n",
       "0            1     0.0       1.0       0.0    50.0  34.940\n",
       "1            0     1.0       0.0       0.0    18.0   0.891\n",
       "2            0     0.0       1.0       0.0     5.0   0.330\n",
       "3            1     0.0       1.0       1.0    31.0   0.037\n",
       "4            0     0.0       1.0       0.0    30.0   0.038\n",
       "...        ...     ...       ...       ...     ...     ...\n",
       "1335         0     0.0       1.0       0.0     NaN   0.576\n",
       "1336         1     1.0       1.0       0.0    46.0   3.705\n",
       "1337         0     1.0       1.0       0.0    39.0   0.099\n",
       "1338         1     1.0       0.0       0.0     8.0   3.177\n",
       "1339         0     1.0       1.0       0.0    30.0   0.688\n",
       "\n",
       "[1340 rows x 6 columns]"
      ]
     },
     "execution_count": 4,
     "metadata": {},
     "output_type": "execute_result"
    }
   ],
   "source": [
    "df"
   ]
  },
  {
   "cell_type": "code",
   "execution_count": 5,
   "id": "1ec7dbb4",
   "metadata": {
    "ExecuteTime": {
     "end_time": "2023-09-12T08:19:32.428873Z",
     "start_time": "2023-09-12T08:19:32.372998Z"
    }
   },
   "outputs": [
    {
     "data": {
      "text/html": [
       "<div>\n",
       "<style scoped>\n",
       "    .dataframe tbody tr th:only-of-type {\n",
       "        vertical-align: middle;\n",
       "    }\n",
       "\n",
       "    .dataframe tbody tr th {\n",
       "        vertical-align: top;\n",
       "    }\n",
       "\n",
       "    .dataframe thead th {\n",
       "        text-align: right;\n",
       "    }\n",
       "</style>\n",
       "<table border=\"1\" class=\"dataframe\">\n",
       "  <thead>\n",
       "    <tr style=\"text-align: right;\">\n",
       "      <th></th>\n",
       "      <th>ATTORNEY</th>\n",
       "      <th>CLMSEX</th>\n",
       "      <th>CLMINSUR</th>\n",
       "      <th>SEATBELT</th>\n",
       "      <th>CLMAGE</th>\n",
       "      <th>LOSS</th>\n",
       "    </tr>\n",
       "  </thead>\n",
       "  <tbody>\n",
       "    <tr>\n",
       "      <th>count</th>\n",
       "      <td>1340.000000</td>\n",
       "      <td>1328.000000</td>\n",
       "      <td>1299.000000</td>\n",
       "      <td>1292.000000</td>\n",
       "      <td>1151.000000</td>\n",
       "      <td>1340.000000</td>\n",
       "    </tr>\n",
       "    <tr>\n",
       "      <th>mean</th>\n",
       "      <td>0.511194</td>\n",
       "      <td>0.558735</td>\n",
       "      <td>0.907621</td>\n",
       "      <td>0.017028</td>\n",
       "      <td>28.414422</td>\n",
       "      <td>3.806307</td>\n",
       "    </tr>\n",
       "    <tr>\n",
       "      <th>std</th>\n",
       "      <td>0.500061</td>\n",
       "      <td>0.496725</td>\n",
       "      <td>0.289671</td>\n",
       "      <td>0.129425</td>\n",
       "      <td>20.304451</td>\n",
       "      <td>10.636903</td>\n",
       "    </tr>\n",
       "    <tr>\n",
       "      <th>min</th>\n",
       "      <td>0.000000</td>\n",
       "      <td>0.000000</td>\n",
       "      <td>0.000000</td>\n",
       "      <td>0.000000</td>\n",
       "      <td>0.000000</td>\n",
       "      <td>0.000000</td>\n",
       "    </tr>\n",
       "    <tr>\n",
       "      <th>25%</th>\n",
       "      <td>0.000000</td>\n",
       "      <td>0.000000</td>\n",
       "      <td>1.000000</td>\n",
       "      <td>0.000000</td>\n",
       "      <td>9.000000</td>\n",
       "      <td>0.400000</td>\n",
       "    </tr>\n",
       "    <tr>\n",
       "      <th>50%</th>\n",
       "      <td>1.000000</td>\n",
       "      <td>1.000000</td>\n",
       "      <td>1.000000</td>\n",
       "      <td>0.000000</td>\n",
       "      <td>30.000000</td>\n",
       "      <td>1.069500</td>\n",
       "    </tr>\n",
       "    <tr>\n",
       "      <th>75%</th>\n",
       "      <td>1.000000</td>\n",
       "      <td>1.000000</td>\n",
       "      <td>1.000000</td>\n",
       "      <td>0.000000</td>\n",
       "      <td>43.000000</td>\n",
       "      <td>3.781500</td>\n",
       "    </tr>\n",
       "    <tr>\n",
       "      <th>max</th>\n",
       "      <td>1.000000</td>\n",
       "      <td>1.000000</td>\n",
       "      <td>1.000000</td>\n",
       "      <td>1.000000</td>\n",
       "      <td>95.000000</td>\n",
       "      <td>173.604000</td>\n",
       "    </tr>\n",
       "  </tbody>\n",
       "</table>\n",
       "</div>"
      ],
      "text/plain": [
       "          ATTORNEY       CLMSEX     CLMINSUR     SEATBELT       CLMAGE  \\\n",
       "count  1340.000000  1328.000000  1299.000000  1292.000000  1151.000000   \n",
       "mean      0.511194     0.558735     0.907621     0.017028    28.414422   \n",
       "std       0.500061     0.496725     0.289671     0.129425    20.304451   \n",
       "min       0.000000     0.000000     0.000000     0.000000     0.000000   \n",
       "25%       0.000000     0.000000     1.000000     0.000000     9.000000   \n",
       "50%       1.000000     1.000000     1.000000     0.000000    30.000000   \n",
       "75%       1.000000     1.000000     1.000000     0.000000    43.000000   \n",
       "max       1.000000     1.000000     1.000000     1.000000    95.000000   \n",
       "\n",
       "              LOSS  \n",
       "count  1340.000000  \n",
       "mean      3.806307  \n",
       "std      10.636903  \n",
       "min       0.000000  \n",
       "25%       0.400000  \n",
       "50%       1.069500  \n",
       "75%       3.781500  \n",
       "max     173.604000  "
      ]
     },
     "execution_count": 5,
     "metadata": {},
     "output_type": "execute_result"
    }
   ],
   "source": [
    "df.describe()"
   ]
  },
  {
   "cell_type": "code",
   "execution_count": 6,
   "id": "46863fa6",
   "metadata": {
    "ExecuteTime": {
     "end_time": "2023-09-12T08:19:32.443024Z",
     "start_time": "2023-09-12T08:19:32.431582Z"
    }
   },
   "outputs": [],
   "source": [
    "#Check missing values"
   ]
  },
  {
   "cell_type": "code",
   "execution_count": 7,
   "id": "940cd741",
   "metadata": {
    "ExecuteTime": {
     "end_time": "2023-09-12T08:19:32.519873Z",
     "start_time": "2023-09-12T08:19:32.473304Z"
    }
   },
   "outputs": [
    {
     "data": {
      "text/plain": [
       "ATTORNEY      0\n",
       "CLMSEX       12\n",
       "CLMINSUR     41\n",
       "SEATBELT     48\n",
       "CLMAGE      189\n",
       "LOSS          0\n",
       "dtype: int64"
      ]
     },
     "execution_count": 7,
     "metadata": {},
     "output_type": "execute_result"
    }
   ],
   "source": [
    "df.isna().sum()"
   ]
  },
  {
   "cell_type": "code",
   "execution_count": 8,
   "id": "820a2ccf",
   "metadata": {
    "ExecuteTime": {
     "end_time": "2023-09-12T08:19:32.535694Z",
     "start_time": "2023-09-12T08:19:32.521628Z"
    }
   },
   "outputs": [],
   "source": [
    "#Missing value imputation"
   ]
  },
  {
   "cell_type": "code",
   "execution_count": 9,
   "id": "08494f14",
   "metadata": {
    "ExecuteTime": {
     "end_time": "2023-09-12T08:19:33.173195Z",
     "start_time": "2023-09-12T08:19:32.541850Z"
    }
   },
   "outputs": [],
   "source": [
    "from sklearn.impute import SimpleImputer"
   ]
  },
  {
   "cell_type": "code",
   "execution_count": 10,
   "id": "51835f64",
   "metadata": {
    "ExecuteTime": {
     "end_time": "2023-09-12T08:19:33.219448Z",
     "start_time": "2023-09-12T08:19:33.193180Z"
    }
   },
   "outputs": [],
   "source": [
    "si = SimpleImputer(strategy='most_frequent')"
   ]
  },
  {
   "cell_type": "code",
   "execution_count": 11,
   "id": "6b4ca939",
   "metadata": {
    "ExecuteTime": {
     "end_time": "2023-09-12T08:19:33.249948Z",
     "start_time": "2023-09-12T08:19:33.222914Z"
    }
   },
   "outputs": [
    {
     "data": {
      "text/html": [
       "<div>\n",
       "<style scoped>\n",
       "    .dataframe tbody tr th:only-of-type {\n",
       "        vertical-align: middle;\n",
       "    }\n",
       "\n",
       "    .dataframe tbody tr th {\n",
       "        vertical-align: top;\n",
       "    }\n",
       "\n",
       "    .dataframe thead th {\n",
       "        text-align: right;\n",
       "    }\n",
       "</style>\n",
       "<table border=\"1\" class=\"dataframe\">\n",
       "  <thead>\n",
       "    <tr style=\"text-align: right;\">\n",
       "      <th></th>\n",
       "      <th>ATTORNEY</th>\n",
       "      <th>CLMSEX</th>\n",
       "      <th>CLMINSUR</th>\n",
       "      <th>SEATBELT</th>\n",
       "      <th>CLMAGE</th>\n",
       "      <th>LOSS</th>\n",
       "    </tr>\n",
       "  </thead>\n",
       "  <tbody>\n",
       "    <tr>\n",
       "      <th>0</th>\n",
       "      <td>1</td>\n",
       "      <td>0.0</td>\n",
       "      <td>1.0</td>\n",
       "      <td>0.0</td>\n",
       "      <td>50.0</td>\n",
       "      <td>34.940</td>\n",
       "    </tr>\n",
       "    <tr>\n",
       "      <th>1</th>\n",
       "      <td>0</td>\n",
       "      <td>1.0</td>\n",
       "      <td>0.0</td>\n",
       "      <td>0.0</td>\n",
       "      <td>18.0</td>\n",
       "      <td>0.891</td>\n",
       "    </tr>\n",
       "    <tr>\n",
       "      <th>2</th>\n",
       "      <td>0</td>\n",
       "      <td>0.0</td>\n",
       "      <td>1.0</td>\n",
       "      <td>0.0</td>\n",
       "      <td>5.0</td>\n",
       "      <td>0.330</td>\n",
       "    </tr>\n",
       "    <tr>\n",
       "      <th>3</th>\n",
       "      <td>1</td>\n",
       "      <td>0.0</td>\n",
       "      <td>1.0</td>\n",
       "      <td>1.0</td>\n",
       "      <td>31.0</td>\n",
       "      <td>0.037</td>\n",
       "    </tr>\n",
       "    <tr>\n",
       "      <th>4</th>\n",
       "      <td>0</td>\n",
       "      <td>0.0</td>\n",
       "      <td>1.0</td>\n",
       "      <td>0.0</td>\n",
       "      <td>30.0</td>\n",
       "      <td>0.038</td>\n",
       "    </tr>\n",
       "  </tbody>\n",
       "</table>\n",
       "</div>"
      ],
      "text/plain": [
       "   ATTORNEY  CLMSEX  CLMINSUR  SEATBELT  CLMAGE    LOSS\n",
       "0         1     0.0       1.0       0.0    50.0  34.940\n",
       "1         0     1.0       0.0       0.0    18.0   0.891\n",
       "2         0     0.0       1.0       0.0     5.0   0.330\n",
       "3         1     0.0       1.0       1.0    31.0   0.037\n",
       "4         0     0.0       1.0       0.0    30.0   0.038"
      ]
     },
     "execution_count": 11,
     "metadata": {},
     "output_type": "execute_result"
    }
   ],
   "source": [
    "df.head()"
   ]
  },
  {
   "cell_type": "code",
   "execution_count": 12,
   "id": "824eb1d6",
   "metadata": {
    "ExecuteTime": {
     "end_time": "2023-09-12T08:19:33.282740Z",
     "start_time": "2023-09-12T08:19:33.253061Z"
    }
   },
   "outputs": [
    {
     "data": {
      "text/html": [
       "<div>\n",
       "<style scoped>\n",
       "    .dataframe tbody tr th:only-of-type {\n",
       "        vertical-align: middle;\n",
       "    }\n",
       "\n",
       "    .dataframe tbody tr th {\n",
       "        vertical-align: top;\n",
       "    }\n",
       "\n",
       "    .dataframe thead th {\n",
       "        text-align: right;\n",
       "    }\n",
       "</style>\n",
       "<table border=\"1\" class=\"dataframe\">\n",
       "  <thead>\n",
       "    <tr style=\"text-align: right;\">\n",
       "      <th></th>\n",
       "      <th>CLMSEX</th>\n",
       "      <th>CLMINSUR</th>\n",
       "      <th>SEATBELT</th>\n",
       "    </tr>\n",
       "  </thead>\n",
       "  <tbody>\n",
       "    <tr>\n",
       "      <th>0</th>\n",
       "      <td>0.0</td>\n",
       "      <td>1.0</td>\n",
       "      <td>0.0</td>\n",
       "    </tr>\n",
       "    <tr>\n",
       "      <th>1</th>\n",
       "      <td>1.0</td>\n",
       "      <td>0.0</td>\n",
       "      <td>0.0</td>\n",
       "    </tr>\n",
       "    <tr>\n",
       "      <th>2</th>\n",
       "      <td>0.0</td>\n",
       "      <td>1.0</td>\n",
       "      <td>0.0</td>\n",
       "    </tr>\n",
       "    <tr>\n",
       "      <th>3</th>\n",
       "      <td>0.0</td>\n",
       "      <td>1.0</td>\n",
       "      <td>1.0</td>\n",
       "    </tr>\n",
       "    <tr>\n",
       "      <th>4</th>\n",
       "      <td>0.0</td>\n",
       "      <td>1.0</td>\n",
       "      <td>0.0</td>\n",
       "    </tr>\n",
       "    <tr>\n",
       "      <th>...</th>\n",
       "      <td>...</td>\n",
       "      <td>...</td>\n",
       "      <td>...</td>\n",
       "    </tr>\n",
       "    <tr>\n",
       "      <th>1335</th>\n",
       "      <td>0.0</td>\n",
       "      <td>1.0</td>\n",
       "      <td>0.0</td>\n",
       "    </tr>\n",
       "    <tr>\n",
       "      <th>1336</th>\n",
       "      <td>1.0</td>\n",
       "      <td>1.0</td>\n",
       "      <td>0.0</td>\n",
       "    </tr>\n",
       "    <tr>\n",
       "      <th>1337</th>\n",
       "      <td>1.0</td>\n",
       "      <td>1.0</td>\n",
       "      <td>0.0</td>\n",
       "    </tr>\n",
       "    <tr>\n",
       "      <th>1338</th>\n",
       "      <td>1.0</td>\n",
       "      <td>0.0</td>\n",
       "      <td>0.0</td>\n",
       "    </tr>\n",
       "    <tr>\n",
       "      <th>1339</th>\n",
       "      <td>1.0</td>\n",
       "      <td>1.0</td>\n",
       "      <td>0.0</td>\n",
       "    </tr>\n",
       "  </tbody>\n",
       "</table>\n",
       "<p>1340 rows × 3 columns</p>\n",
       "</div>"
      ],
      "text/plain": [
       "      CLMSEX  CLMINSUR  SEATBELT\n",
       "0        0.0       1.0       0.0\n",
       "1        1.0       0.0       0.0\n",
       "2        0.0       1.0       0.0\n",
       "3        0.0       1.0       1.0\n",
       "4        0.0       1.0       0.0\n",
       "...      ...       ...       ...\n",
       "1335     0.0       1.0       0.0\n",
       "1336     1.0       1.0       0.0\n",
       "1337     1.0       1.0       0.0\n",
       "1338     1.0       0.0       0.0\n",
       "1339     1.0       1.0       0.0\n",
       "\n",
       "[1340 rows x 3 columns]"
      ]
     },
     "execution_count": 12,
     "metadata": {},
     "output_type": "execute_result"
    }
   ],
   "source": [
    "df.iloc[:,1:4]"
   ]
  },
  {
   "cell_type": "code",
   "execution_count": 13,
   "id": "674fc1a7",
   "metadata": {
    "ExecuteTime": {
     "end_time": "2023-09-12T08:19:33.312325Z",
     "start_time": "2023-09-12T08:19:33.289302Z"
    }
   },
   "outputs": [],
   "source": [
    "df.iloc[:,1:4] = si.fit_transform(df.iloc[:,1:4])"
   ]
  },
  {
   "cell_type": "code",
   "execution_count": 14,
   "id": "b2069149",
   "metadata": {
    "ExecuteTime": {
     "end_time": "2023-09-12T08:19:33.336992Z",
     "start_time": "2023-09-12T08:19:33.317255Z"
    }
   },
   "outputs": [
    {
     "data": {
      "text/plain": [
       "ATTORNEY      0\n",
       "CLMSEX        0\n",
       "CLMINSUR      0\n",
       "SEATBELT      0\n",
       "CLMAGE      189\n",
       "LOSS          0\n",
       "dtype: int64"
      ]
     },
     "execution_count": 14,
     "metadata": {},
     "output_type": "execute_result"
    }
   ],
   "source": [
    "df.isna().sum()"
   ]
  },
  {
   "cell_type": "code",
   "execution_count": 15,
   "id": "59b02d7d",
   "metadata": {
    "ExecuteTime": {
     "end_time": "2023-09-12T08:19:33.390565Z",
     "start_time": "2023-09-12T08:19:33.368010Z"
    }
   },
   "outputs": [],
   "source": [
    "df['CLMAGE'].fillna(df['CLMAGE'].median(), inplace=True)"
   ]
  },
  {
   "cell_type": "code",
   "execution_count": 16,
   "id": "53251b20",
   "metadata": {
    "ExecuteTime": {
     "end_time": "2023-09-12T08:19:33.436262Z",
     "start_time": "2023-09-12T08:19:33.393984Z"
    }
   },
   "outputs": [
    {
     "data": {
      "text/plain": [
       "ATTORNEY    0\n",
       "CLMSEX      0\n",
       "CLMINSUR    0\n",
       "SEATBELT    0\n",
       "CLMAGE      0\n",
       "LOSS        0\n",
       "dtype: int64"
      ]
     },
     "execution_count": 16,
     "metadata": {},
     "output_type": "execute_result"
    }
   ],
   "source": [
    "df.isna().sum()"
   ]
  },
  {
   "cell_type": "code",
   "execution_count": 17,
   "id": "c66bf706",
   "metadata": {
    "ExecuteTime": {
     "end_time": "2023-09-12T08:19:33.451532Z",
     "start_time": "2023-09-12T08:19:33.440554Z"
    }
   },
   "outputs": [],
   "source": [
    "#Define x and y"
   ]
  },
  {
   "cell_type": "code",
   "execution_count": 18,
   "id": "f9aeab0b",
   "metadata": {
    "ExecuteTime": {
     "end_time": "2023-09-12T08:19:33.499054Z",
     "start_time": "2023-09-12T08:19:33.455290Z"
    }
   },
   "outputs": [
    {
     "data": {
      "text/html": [
       "<div>\n",
       "<style scoped>\n",
       "    .dataframe tbody tr th:only-of-type {\n",
       "        vertical-align: middle;\n",
       "    }\n",
       "\n",
       "    .dataframe tbody tr th {\n",
       "        vertical-align: top;\n",
       "    }\n",
       "\n",
       "    .dataframe thead th {\n",
       "        text-align: right;\n",
       "    }\n",
       "</style>\n",
       "<table border=\"1\" class=\"dataframe\">\n",
       "  <thead>\n",
       "    <tr style=\"text-align: right;\">\n",
       "      <th></th>\n",
       "      <th>ATTORNEY</th>\n",
       "      <th>CLMSEX</th>\n",
       "      <th>CLMINSUR</th>\n",
       "      <th>SEATBELT</th>\n",
       "      <th>CLMAGE</th>\n",
       "      <th>LOSS</th>\n",
       "    </tr>\n",
       "  </thead>\n",
       "  <tbody>\n",
       "    <tr>\n",
       "      <th>0</th>\n",
       "      <td>1</td>\n",
       "      <td>0.0</td>\n",
       "      <td>1.0</td>\n",
       "      <td>0.0</td>\n",
       "      <td>50.0</td>\n",
       "      <td>34.940</td>\n",
       "    </tr>\n",
       "    <tr>\n",
       "      <th>1</th>\n",
       "      <td>0</td>\n",
       "      <td>1.0</td>\n",
       "      <td>0.0</td>\n",
       "      <td>0.0</td>\n",
       "      <td>18.0</td>\n",
       "      <td>0.891</td>\n",
       "    </tr>\n",
       "    <tr>\n",
       "      <th>2</th>\n",
       "      <td>0</td>\n",
       "      <td>0.0</td>\n",
       "      <td>1.0</td>\n",
       "      <td>0.0</td>\n",
       "      <td>5.0</td>\n",
       "      <td>0.330</td>\n",
       "    </tr>\n",
       "    <tr>\n",
       "      <th>3</th>\n",
       "      <td>1</td>\n",
       "      <td>0.0</td>\n",
       "      <td>1.0</td>\n",
       "      <td>1.0</td>\n",
       "      <td>31.0</td>\n",
       "      <td>0.037</td>\n",
       "    </tr>\n",
       "    <tr>\n",
       "      <th>4</th>\n",
       "      <td>0</td>\n",
       "      <td>0.0</td>\n",
       "      <td>1.0</td>\n",
       "      <td>0.0</td>\n",
       "      <td>30.0</td>\n",
       "      <td>0.038</td>\n",
       "    </tr>\n",
       "    <tr>\n",
       "      <th>...</th>\n",
       "      <td>...</td>\n",
       "      <td>...</td>\n",
       "      <td>...</td>\n",
       "      <td>...</td>\n",
       "      <td>...</td>\n",
       "      <td>...</td>\n",
       "    </tr>\n",
       "    <tr>\n",
       "      <th>1335</th>\n",
       "      <td>0</td>\n",
       "      <td>0.0</td>\n",
       "      <td>1.0</td>\n",
       "      <td>0.0</td>\n",
       "      <td>30.0</td>\n",
       "      <td>0.576</td>\n",
       "    </tr>\n",
       "    <tr>\n",
       "      <th>1336</th>\n",
       "      <td>1</td>\n",
       "      <td>1.0</td>\n",
       "      <td>1.0</td>\n",
       "      <td>0.0</td>\n",
       "      <td>46.0</td>\n",
       "      <td>3.705</td>\n",
       "    </tr>\n",
       "    <tr>\n",
       "      <th>1337</th>\n",
       "      <td>0</td>\n",
       "      <td>1.0</td>\n",
       "      <td>1.0</td>\n",
       "      <td>0.0</td>\n",
       "      <td>39.0</td>\n",
       "      <td>0.099</td>\n",
       "    </tr>\n",
       "    <tr>\n",
       "      <th>1338</th>\n",
       "      <td>1</td>\n",
       "      <td>1.0</td>\n",
       "      <td>0.0</td>\n",
       "      <td>0.0</td>\n",
       "      <td>8.0</td>\n",
       "      <td>3.177</td>\n",
       "    </tr>\n",
       "    <tr>\n",
       "      <th>1339</th>\n",
       "      <td>0</td>\n",
       "      <td>1.0</td>\n",
       "      <td>1.0</td>\n",
       "      <td>0.0</td>\n",
       "      <td>30.0</td>\n",
       "      <td>0.688</td>\n",
       "    </tr>\n",
       "  </tbody>\n",
       "</table>\n",
       "<p>1340 rows × 6 columns</p>\n",
       "</div>"
      ],
      "text/plain": [
       "      ATTORNEY  CLMSEX  CLMINSUR  SEATBELT  CLMAGE    LOSS\n",
       "0            1     0.0       1.0       0.0    50.0  34.940\n",
       "1            0     1.0       0.0       0.0    18.0   0.891\n",
       "2            0     0.0       1.0       0.0     5.0   0.330\n",
       "3            1     0.0       1.0       1.0    31.0   0.037\n",
       "4            0     0.0       1.0       0.0    30.0   0.038\n",
       "...        ...     ...       ...       ...     ...     ...\n",
       "1335         0     0.0       1.0       0.0    30.0   0.576\n",
       "1336         1     1.0       1.0       0.0    46.0   3.705\n",
       "1337         0     1.0       1.0       0.0    39.0   0.099\n",
       "1338         1     1.0       0.0       0.0     8.0   3.177\n",
       "1339         0     1.0       1.0       0.0    30.0   0.688\n",
       "\n",
       "[1340 rows x 6 columns]"
      ]
     },
     "execution_count": 18,
     "metadata": {},
     "output_type": "execute_result"
    }
   ],
   "source": [
    "df"
   ]
  },
  {
   "cell_type": "code",
   "execution_count": 19,
   "id": "853587b3",
   "metadata": {
    "ExecuteTime": {
     "end_time": "2023-09-12T08:19:33.531032Z",
     "start_time": "2023-09-12T08:19:33.504310Z"
    }
   },
   "outputs": [
    {
     "data": {
      "text/plain": [
       "0       1\n",
       "1       0\n",
       "2       0\n",
       "3       1\n",
       "4       0\n",
       "       ..\n",
       "1335    0\n",
       "1336    1\n",
       "1337    0\n",
       "1338    1\n",
       "1339    0\n",
       "Name: ATTORNEY, Length: 1340, dtype: int64"
      ]
     },
     "execution_count": 19,
     "metadata": {},
     "output_type": "execute_result"
    }
   ],
   "source": [
    "x = df.iloc[:,1:]\n",
    "y = df['ATTORNEY']\n",
    "y"
   ]
  },
  {
   "cell_type": "markdown",
   "id": "6af0394c",
   "metadata": {},
   "source": [
    "# Model Building"
   ]
  },
  {
   "cell_type": "code",
   "execution_count": 20,
   "id": "2182c532",
   "metadata": {
    "ExecuteTime": {
     "end_time": "2023-09-12T08:19:33.546849Z",
     "start_time": "2023-09-12T08:19:33.537957Z"
    }
   },
   "outputs": [],
   "source": [
    "#Split the data."
   ]
  },
  {
   "cell_type": "code",
   "execution_count": 21,
   "id": "031bb9df",
   "metadata": {
    "ExecuteTime": {
     "end_time": "2023-09-12T08:19:33.577625Z",
     "start_time": "2023-09-12T08:19:33.548877Z"
    },
    "collapsed": true
   },
   "outputs": [
    {
     "data": {
      "text/html": [
       "<div>\n",
       "<style scoped>\n",
       "    .dataframe tbody tr th:only-of-type {\n",
       "        vertical-align: middle;\n",
       "    }\n",
       "\n",
       "    .dataframe tbody tr th {\n",
       "        vertical-align: top;\n",
       "    }\n",
       "\n",
       "    .dataframe thead th {\n",
       "        text-align: right;\n",
       "    }\n",
       "</style>\n",
       "<table border=\"1\" class=\"dataframe\">\n",
       "  <thead>\n",
       "    <tr style=\"text-align: right;\">\n",
       "      <th></th>\n",
       "      <th>ATTORNEY</th>\n",
       "      <th>CLMSEX</th>\n",
       "      <th>CLMINSUR</th>\n",
       "      <th>SEATBELT</th>\n",
       "      <th>CLMAGE</th>\n",
       "      <th>LOSS</th>\n",
       "    </tr>\n",
       "  </thead>\n",
       "  <tbody>\n",
       "    <tr>\n",
       "      <th>0</th>\n",
       "      <td>1</td>\n",
       "      <td>0.0</td>\n",
       "      <td>1.0</td>\n",
       "      <td>0.0</td>\n",
       "      <td>50.0</td>\n",
       "      <td>34.940</td>\n",
       "    </tr>\n",
       "    <tr>\n",
       "      <th>1</th>\n",
       "      <td>0</td>\n",
       "      <td>1.0</td>\n",
       "      <td>0.0</td>\n",
       "      <td>0.0</td>\n",
       "      <td>18.0</td>\n",
       "      <td>0.891</td>\n",
       "    </tr>\n",
       "    <tr>\n",
       "      <th>2</th>\n",
       "      <td>0</td>\n",
       "      <td>0.0</td>\n",
       "      <td>1.0</td>\n",
       "      <td>0.0</td>\n",
       "      <td>5.0</td>\n",
       "      <td>0.330</td>\n",
       "    </tr>\n",
       "    <tr>\n",
       "      <th>3</th>\n",
       "      <td>1</td>\n",
       "      <td>0.0</td>\n",
       "      <td>1.0</td>\n",
       "      <td>1.0</td>\n",
       "      <td>31.0</td>\n",
       "      <td>0.037</td>\n",
       "    </tr>\n",
       "    <tr>\n",
       "      <th>4</th>\n",
       "      <td>0</td>\n",
       "      <td>0.0</td>\n",
       "      <td>1.0</td>\n",
       "      <td>0.0</td>\n",
       "      <td>30.0</td>\n",
       "      <td>0.038</td>\n",
       "    </tr>\n",
       "    <tr>\n",
       "      <th>5</th>\n",
       "      <td>1</td>\n",
       "      <td>1.0</td>\n",
       "      <td>1.0</td>\n",
       "      <td>0.0</td>\n",
       "      <td>35.0</td>\n",
       "      <td>0.309</td>\n",
       "    </tr>\n",
       "    <tr>\n",
       "      <th>6</th>\n",
       "      <td>1</td>\n",
       "      <td>0.0</td>\n",
       "      <td>1.0</td>\n",
       "      <td>0.0</td>\n",
       "      <td>9.0</td>\n",
       "      <td>3.538</td>\n",
       "    </tr>\n",
       "    <tr>\n",
       "      <th>7</th>\n",
       "      <td>1</td>\n",
       "      <td>1.0</td>\n",
       "      <td>1.0</td>\n",
       "      <td>0.0</td>\n",
       "      <td>34.0</td>\n",
       "      <td>4.881</td>\n",
       "    </tr>\n",
       "    <tr>\n",
       "      <th>8</th>\n",
       "      <td>0</td>\n",
       "      <td>1.0</td>\n",
       "      <td>1.0</td>\n",
       "      <td>0.0</td>\n",
       "      <td>60.0</td>\n",
       "      <td>0.874</td>\n",
       "    </tr>\n",
       "    <tr>\n",
       "      <th>9</th>\n",
       "      <td>0</td>\n",
       "      <td>0.0</td>\n",
       "      <td>1.0</td>\n",
       "      <td>0.0</td>\n",
       "      <td>30.0</td>\n",
       "      <td>0.350</td>\n",
       "    </tr>\n",
       "  </tbody>\n",
       "</table>\n",
       "</div>"
      ],
      "text/plain": [
       "   ATTORNEY  CLMSEX  CLMINSUR  SEATBELT  CLMAGE    LOSS\n",
       "0         1     0.0       1.0       0.0    50.0  34.940\n",
       "1         0     1.0       0.0       0.0    18.0   0.891\n",
       "2         0     0.0       1.0       0.0     5.0   0.330\n",
       "3         1     0.0       1.0       1.0    31.0   0.037\n",
       "4         0     0.0       1.0       0.0    30.0   0.038\n",
       "5         1     1.0       1.0       0.0    35.0   0.309\n",
       "6         1     0.0       1.0       0.0     9.0   3.538\n",
       "7         1     1.0       1.0       0.0    34.0   4.881\n",
       "8         0     1.0       1.0       0.0    60.0   0.874\n",
       "9         0     0.0       1.0       0.0    30.0   0.350"
      ]
     },
     "execution_count": 21,
     "metadata": {},
     "output_type": "execute_result"
    }
   ],
   "source": [
    "df.head(10)"
   ]
  },
  {
   "cell_type": "code",
   "execution_count": 22,
   "id": "e77bc6f9",
   "metadata": {
    "ExecuteTime": {
     "end_time": "2023-09-12T08:19:33.593337Z",
     "start_time": "2023-09-12T08:19:33.587348Z"
    }
   },
   "outputs": [],
   "source": [
    "from sklearn.model_selection import train_test_split"
   ]
  },
  {
   "cell_type": "code",
   "execution_count": 23,
   "id": "21552e73",
   "metadata": {
    "ExecuteTime": {
     "end_time": "2023-09-12T08:19:33.623971Z",
     "start_time": "2023-09-12T08:19:33.601807Z"
    }
   },
   "outputs": [],
   "source": [
    "xtrain,xtest,ytrain,ytest = train_test_split(x,y,test_size=0.2,random_state=42)"
   ]
  },
  {
   "cell_type": "code",
   "execution_count": 24,
   "id": "61d9e7b4",
   "metadata": {
    "ExecuteTime": {
     "end_time": "2023-09-12T08:19:33.671023Z",
     "start_time": "2023-09-12T08:19:33.629504Z"
    }
   },
   "outputs": [
    {
     "data": {
      "text/html": [
       "<div>\n",
       "<style scoped>\n",
       "    .dataframe tbody tr th:only-of-type {\n",
       "        vertical-align: middle;\n",
       "    }\n",
       "\n",
       "    .dataframe tbody tr th {\n",
       "        vertical-align: top;\n",
       "    }\n",
       "\n",
       "    .dataframe thead th {\n",
       "        text-align: right;\n",
       "    }\n",
       "</style>\n",
       "<table border=\"1\" class=\"dataframe\">\n",
       "  <thead>\n",
       "    <tr style=\"text-align: right;\">\n",
       "      <th></th>\n",
       "      <th>CLMSEX</th>\n",
       "      <th>CLMINSUR</th>\n",
       "      <th>SEATBELT</th>\n",
       "      <th>CLMAGE</th>\n",
       "      <th>LOSS</th>\n",
       "    </tr>\n",
       "  </thead>\n",
       "  <tbody>\n",
       "    <tr>\n",
       "      <th>1148</th>\n",
       "      <td>1.0</td>\n",
       "      <td>1.0</td>\n",
       "      <td>0.0</td>\n",
       "      <td>7.0</td>\n",
       "      <td>3.734</td>\n",
       "    </tr>\n",
       "    <tr>\n",
       "      <th>807</th>\n",
       "      <td>0.0</td>\n",
       "      <td>1.0</td>\n",
       "      <td>0.0</td>\n",
       "      <td>16.0</td>\n",
       "      <td>111.405</td>\n",
       "    </tr>\n",
       "    <tr>\n",
       "      <th>1287</th>\n",
       "      <td>0.0</td>\n",
       "      <td>0.0</td>\n",
       "      <td>0.0</td>\n",
       "      <td>10.0</td>\n",
       "      <td>0.040</td>\n",
       "    </tr>\n",
       "    <tr>\n",
       "      <th>590</th>\n",
       "      <td>1.0</td>\n",
       "      <td>1.0</td>\n",
       "      <td>0.0</td>\n",
       "      <td>6.0</td>\n",
       "      <td>0.100</td>\n",
       "    </tr>\n",
       "    <tr>\n",
       "      <th>1188</th>\n",
       "      <td>1.0</td>\n",
       "      <td>1.0</td>\n",
       "      <td>0.0</td>\n",
       "      <td>44.0</td>\n",
       "      <td>13.000</td>\n",
       "    </tr>\n",
       "    <tr>\n",
       "      <th>...</th>\n",
       "      <td>...</td>\n",
       "      <td>...</td>\n",
       "      <td>...</td>\n",
       "      <td>...</td>\n",
       "      <td>...</td>\n",
       "    </tr>\n",
       "    <tr>\n",
       "      <th>1095</th>\n",
       "      <td>0.0</td>\n",
       "      <td>1.0</td>\n",
       "      <td>0.0</td>\n",
       "      <td>47.0</td>\n",
       "      <td>0.080</td>\n",
       "    </tr>\n",
       "    <tr>\n",
       "      <th>1130</th>\n",
       "      <td>1.0</td>\n",
       "      <td>1.0</td>\n",
       "      <td>0.0</td>\n",
       "      <td>30.0</td>\n",
       "      <td>5.595</td>\n",
       "    </tr>\n",
       "    <tr>\n",
       "      <th>1294</th>\n",
       "      <td>1.0</td>\n",
       "      <td>1.0</td>\n",
       "      <td>0.0</td>\n",
       "      <td>30.0</td>\n",
       "      <td>1.041</td>\n",
       "    </tr>\n",
       "    <tr>\n",
       "      <th>860</th>\n",
       "      <td>1.0</td>\n",
       "      <td>0.0</td>\n",
       "      <td>0.0</td>\n",
       "      <td>55.0</td>\n",
       "      <td>1.769</td>\n",
       "    </tr>\n",
       "    <tr>\n",
       "      <th>1126</th>\n",
       "      <td>1.0</td>\n",
       "      <td>1.0</td>\n",
       "      <td>0.0</td>\n",
       "      <td>30.0</td>\n",
       "      <td>0.080</td>\n",
       "    </tr>\n",
       "  </tbody>\n",
       "</table>\n",
       "<p>1072 rows × 5 columns</p>\n",
       "</div>"
      ],
      "text/plain": [
       "      CLMSEX  CLMINSUR  SEATBELT  CLMAGE     LOSS\n",
       "1148     1.0       1.0       0.0     7.0    3.734\n",
       "807      0.0       1.0       0.0    16.0  111.405\n",
       "1287     0.0       0.0       0.0    10.0    0.040\n",
       "590      1.0       1.0       0.0     6.0    0.100\n",
       "1188     1.0       1.0       0.0    44.0   13.000\n",
       "...      ...       ...       ...     ...      ...\n",
       "1095     0.0       1.0       0.0    47.0    0.080\n",
       "1130     1.0       1.0       0.0    30.0    5.595\n",
       "1294     1.0       1.0       0.0    30.0    1.041\n",
       "860      1.0       0.0       0.0    55.0    1.769\n",
       "1126     1.0       1.0       0.0    30.0    0.080\n",
       "\n",
       "[1072 rows x 5 columns]"
      ]
     },
     "execution_count": 24,
     "metadata": {},
     "output_type": "execute_result"
    }
   ],
   "source": [
    "xtrain"
   ]
  },
  {
   "cell_type": "code",
   "execution_count": 25,
   "id": "bcb5ad21",
   "metadata": {
    "ExecuteTime": {
     "end_time": "2023-09-12T08:19:33.686425Z",
     "start_time": "2023-09-12T08:19:33.677592Z"
    }
   },
   "outputs": [
    {
     "data": {
      "text/plain": [
       "1148    0\n",
       "807     1\n",
       "1287    0\n",
       "590     0\n",
       "1188    1\n",
       "       ..\n",
       "1095    1\n",
       "1130    1\n",
       "1294    1\n",
       "860     1\n",
       "1126    0\n",
       "Name: ATTORNEY, Length: 1072, dtype: int64"
      ]
     },
     "execution_count": 25,
     "metadata": {},
     "output_type": "execute_result"
    }
   ],
   "source": [
    "ytrain"
   ]
  },
  {
   "cell_type": "code",
   "execution_count": 26,
   "id": "1b3d2171",
   "metadata": {
    "ExecuteTime": {
     "end_time": "2023-09-12T08:19:33.701855Z",
     "start_time": "2023-09-12T08:19:33.690465Z"
    }
   },
   "outputs": [],
   "source": [
    "from sklearn.linear_model import LogisticRegression"
   ]
  },
  {
   "cell_type": "code",
   "execution_count": 27,
   "id": "d0f13dd1",
   "metadata": {
    "ExecuteTime": {
     "end_time": "2023-09-12T08:19:33.733137Z",
     "start_time": "2023-09-12T08:19:33.707483Z"
    }
   },
   "outputs": [],
   "source": [
    "lg = LogisticRegression()"
   ]
  },
  {
   "cell_type": "code",
   "execution_count": 28,
   "id": "301213ab",
   "metadata": {
    "ExecuteTime": {
     "end_time": "2023-09-12T08:19:33.903294Z",
     "start_time": "2023-09-12T08:19:33.744211Z"
    }
   },
   "outputs": [
    {
     "data": {
      "text/plain": [
       "LogisticRegression()"
      ]
     },
     "execution_count": 28,
     "metadata": {},
     "output_type": "execute_result"
    }
   ],
   "source": [
    "lg.fit(xtrain,ytrain)"
   ]
  },
  {
   "cell_type": "code",
   "execution_count": 29,
   "id": "3f550be0",
   "metadata": {
    "ExecuteTime": {
     "end_time": "2023-09-12T08:19:33.935239Z",
     "start_time": "2023-09-12T08:19:33.905328Z"
    }
   },
   "outputs": [
    {
     "data": {
      "text/html": [
       "<div>\n",
       "<style scoped>\n",
       "    .dataframe tbody tr th:only-of-type {\n",
       "        vertical-align: middle;\n",
       "    }\n",
       "\n",
       "    .dataframe tbody tr th {\n",
       "        vertical-align: top;\n",
       "    }\n",
       "\n",
       "    .dataframe thead th {\n",
       "        text-align: right;\n",
       "    }\n",
       "</style>\n",
       "<table border=\"1\" class=\"dataframe\">\n",
       "  <thead>\n",
       "    <tr style=\"text-align: right;\">\n",
       "      <th></th>\n",
       "      <th>CLMSEX</th>\n",
       "      <th>CLMINSUR</th>\n",
       "      <th>SEATBELT</th>\n",
       "      <th>CLMAGE</th>\n",
       "      <th>LOSS</th>\n",
       "    </tr>\n",
       "  </thead>\n",
       "  <tbody>\n",
       "    <tr>\n",
       "      <th>1148</th>\n",
       "      <td>1.0</td>\n",
       "      <td>1.0</td>\n",
       "      <td>0.0</td>\n",
       "      <td>7.0</td>\n",
       "      <td>3.734</td>\n",
       "    </tr>\n",
       "    <tr>\n",
       "      <th>807</th>\n",
       "      <td>0.0</td>\n",
       "      <td>1.0</td>\n",
       "      <td>0.0</td>\n",
       "      <td>16.0</td>\n",
       "      <td>111.405</td>\n",
       "    </tr>\n",
       "    <tr>\n",
       "      <th>1287</th>\n",
       "      <td>0.0</td>\n",
       "      <td>0.0</td>\n",
       "      <td>0.0</td>\n",
       "      <td>10.0</td>\n",
       "      <td>0.040</td>\n",
       "    </tr>\n",
       "    <tr>\n",
       "      <th>590</th>\n",
       "      <td>1.0</td>\n",
       "      <td>1.0</td>\n",
       "      <td>0.0</td>\n",
       "      <td>6.0</td>\n",
       "      <td>0.100</td>\n",
       "    </tr>\n",
       "    <tr>\n",
       "      <th>1188</th>\n",
       "      <td>1.0</td>\n",
       "      <td>1.0</td>\n",
       "      <td>0.0</td>\n",
       "      <td>44.0</td>\n",
       "      <td>13.000</td>\n",
       "    </tr>\n",
       "  </tbody>\n",
       "</table>\n",
       "</div>"
      ],
      "text/plain": [
       "      CLMSEX  CLMINSUR  SEATBELT  CLMAGE     LOSS\n",
       "1148     1.0       1.0       0.0     7.0    3.734\n",
       "807      0.0       1.0       0.0    16.0  111.405\n",
       "1287     0.0       0.0       0.0    10.0    0.040\n",
       "590      1.0       1.0       0.0     6.0    0.100\n",
       "1188     1.0       1.0       0.0    44.0   13.000"
      ]
     },
     "execution_count": 29,
     "metadata": {},
     "output_type": "execute_result"
    }
   ],
   "source": [
    "xtrain.head()"
   ]
  },
  {
   "cell_type": "code",
   "execution_count": 30,
   "id": "8dc5fa69",
   "metadata": {
    "ExecuteTime": {
     "end_time": "2023-09-12T08:19:33.965024Z",
     "start_time": "2023-09-12T08:19:33.948505Z"
    }
   },
   "outputs": [
    {
     "data": {
      "text/plain": [
       "array([[-0.36427295, -0.335242  ,  0.70473014, -0.00883013,  0.41189508]])"
      ]
     },
     "execution_count": 30,
     "metadata": {},
     "output_type": "execute_result"
    }
   ],
   "source": [
    "lg.coef_"
   ]
  },
  {
   "cell_type": "code",
   "execution_count": 31,
   "id": "f75c9540",
   "metadata": {
    "ExecuteTime": {
     "end_time": "2023-09-12T08:19:34.010854Z",
     "start_time": "2023-09-12T08:19:33.968130Z"
    }
   },
   "outputs": [
    {
     "data": {
      "text/html": [
       "<div>\n",
       "<style scoped>\n",
       "    .dataframe tbody tr th:only-of-type {\n",
       "        vertical-align: middle;\n",
       "    }\n",
       "\n",
       "    .dataframe tbody tr th {\n",
       "        vertical-align: top;\n",
       "    }\n",
       "\n",
       "    .dataframe thead th {\n",
       "        text-align: right;\n",
       "    }\n",
       "</style>\n",
       "<table border=\"1\" class=\"dataframe\">\n",
       "  <thead>\n",
       "    <tr style=\"text-align: right;\">\n",
       "      <th></th>\n",
       "      <th>CLMSEX</th>\n",
       "      <th>CLMINSUR</th>\n",
       "      <th>SEATBELT</th>\n",
       "      <th>CLMAGE</th>\n",
       "      <th>LOSS</th>\n",
       "    </tr>\n",
       "  </thead>\n",
       "  <tbody>\n",
       "    <tr>\n",
       "      <th>394</th>\n",
       "      <td>1.0</td>\n",
       "      <td>1.0</td>\n",
       "      <td>0.0</td>\n",
       "      <td>5.0</td>\n",
       "      <td>5.163</td>\n",
       "    </tr>\n",
       "    <tr>\n",
       "      <th>881</th>\n",
       "      <td>0.0</td>\n",
       "      <td>0.0</td>\n",
       "      <td>0.0</td>\n",
       "      <td>30.0</td>\n",
       "      <td>5.570</td>\n",
       "    </tr>\n",
       "    <tr>\n",
       "      <th>358</th>\n",
       "      <td>1.0</td>\n",
       "      <td>1.0</td>\n",
       "      <td>0.0</td>\n",
       "      <td>41.0</td>\n",
       "      <td>0.671</td>\n",
       "    </tr>\n",
       "    <tr>\n",
       "      <th>367</th>\n",
       "      <td>0.0</td>\n",
       "      <td>1.0</td>\n",
       "      <td>0.0</td>\n",
       "      <td>34.0</td>\n",
       "      <td>0.567</td>\n",
       "    </tr>\n",
       "    <tr>\n",
       "      <th>259</th>\n",
       "      <td>0.0</td>\n",
       "      <td>1.0</td>\n",
       "      <td>1.0</td>\n",
       "      <td>66.0</td>\n",
       "      <td>4.530</td>\n",
       "    </tr>\n",
       "  </tbody>\n",
       "</table>\n",
       "</div>"
      ],
      "text/plain": [
       "     CLMSEX  CLMINSUR  SEATBELT  CLMAGE   LOSS\n",
       "394     1.0       1.0       0.0     5.0  5.163\n",
       "881     0.0       0.0       0.0    30.0  5.570\n",
       "358     1.0       1.0       0.0    41.0  0.671\n",
       "367     0.0       1.0       0.0    34.0  0.567\n",
       "259     0.0       1.0       1.0    66.0  4.530"
      ]
     },
     "execution_count": 31,
     "metadata": {},
     "output_type": "execute_result"
    }
   ],
   "source": [
    "xtest.head()"
   ]
  },
  {
   "cell_type": "code",
   "execution_count": 32,
   "id": "046cc8ab",
   "metadata": {
    "ExecuteTime": {
     "end_time": "2023-09-12T08:19:34.041147Z",
     "start_time": "2023-09-12T08:19:34.027950Z"
    }
   },
   "outputs": [
    {
     "data": {
      "text/plain": [
       "1.3829486980400003"
      ]
     },
     "execution_count": 32,
     "metadata": {},
     "output_type": "execute_result"
    }
   ],
   "source": [
    "(-0.36427295)*1.0+(-0.335242)*1.0+( 0.70473014)*0.0+(-0.00883013)*5.0+(0.41189508)*5.163"
   ]
  },
  {
   "cell_type": "code",
   "execution_count": 33,
   "id": "a0d8d8a9",
   "metadata": {
    "ExecuteTime": {
     "end_time": "2023-09-12T08:19:34.072370Z",
     "start_time": "2023-09-12T08:19:34.044321Z"
    }
   },
   "outputs": [
    {
     "data": {
      "text/plain": [
       "0.7994641565815835"
      ]
     },
     "execution_count": 33,
     "metadata": {},
     "output_type": "execute_result"
    }
   ],
   "source": [
    "1/(1+np.exp(-1.3829486980400003))"
   ]
  },
  {
   "cell_type": "code",
   "execution_count": 34,
   "id": "2b8ccf8f",
   "metadata": {
    "ExecuteTime": {
     "end_time": "2023-09-12T08:19:34.087577Z",
     "start_time": "2023-09-12T08:19:34.079003Z"
    }
   },
   "outputs": [
    {
     "data": {
      "text/plain": [
       "-0.7851686813200001"
      ]
     },
     "execution_count": 34,
     "metadata": {},
     "output_type": "execute_result"
    }
   ],
   "source": [
    "(-0.36427295)*1.0+(-0.335242)*1.0+( 0.70473014)*0.0+(-0.00883013)*41.0+(0.41189508)*0.671"
   ]
  },
  {
   "cell_type": "code",
   "execution_count": 35,
   "id": "c08c1b54",
   "metadata": {
    "ExecuteTime": {
     "end_time": "2023-09-12T08:19:34.119082Z",
     "start_time": "2023-09-12T08:19:34.091634Z"
    }
   },
   "outputs": [
    {
     "data": {
      "text/plain": [
       "0.31320698744899744"
      ]
     },
     "execution_count": 35,
     "metadata": {},
     "output_type": "execute_result"
    }
   ],
   "source": [
    "1/(1+np.exp(0.7851686813200001))"
   ]
  },
  {
   "cell_type": "code",
   "execution_count": 36,
   "id": "06ebe5b4",
   "metadata": {
    "ExecuteTime": {
     "end_time": "2023-09-12T08:19:34.149248Z",
     "start_time": "2023-09-12T08:19:34.127894Z"
    }
   },
   "outputs": [
    {
     "data": {
      "text/html": [
       "<div>\n",
       "<style scoped>\n",
       "    .dataframe tbody tr th:only-of-type {\n",
       "        vertical-align: middle;\n",
       "    }\n",
       "\n",
       "    .dataframe tbody tr th {\n",
       "        vertical-align: top;\n",
       "    }\n",
       "\n",
       "    .dataframe thead th {\n",
       "        text-align: right;\n",
       "    }\n",
       "</style>\n",
       "<table border=\"1\" class=\"dataframe\">\n",
       "  <thead>\n",
       "    <tr style=\"text-align: right;\">\n",
       "      <th></th>\n",
       "      <th>CLMSEX</th>\n",
       "      <th>CLMINSUR</th>\n",
       "      <th>SEATBELT</th>\n",
       "      <th>CLMAGE</th>\n",
       "      <th>LOSS</th>\n",
       "    </tr>\n",
       "  </thead>\n",
       "  <tbody>\n",
       "    <tr>\n",
       "      <th>394</th>\n",
       "      <td>1.0</td>\n",
       "      <td>1.0</td>\n",
       "      <td>0.0</td>\n",
       "      <td>5.0</td>\n",
       "      <td>5.163</td>\n",
       "    </tr>\n",
       "    <tr>\n",
       "      <th>881</th>\n",
       "      <td>0.0</td>\n",
       "      <td>0.0</td>\n",
       "      <td>0.0</td>\n",
       "      <td>30.0</td>\n",
       "      <td>5.570</td>\n",
       "    </tr>\n",
       "    <tr>\n",
       "      <th>358</th>\n",
       "      <td>1.0</td>\n",
       "      <td>1.0</td>\n",
       "      <td>0.0</td>\n",
       "      <td>41.0</td>\n",
       "      <td>0.671</td>\n",
       "    </tr>\n",
       "  </tbody>\n",
       "</table>\n",
       "</div>"
      ],
      "text/plain": [
       "     CLMSEX  CLMINSUR  SEATBELT  CLMAGE   LOSS\n",
       "394     1.0       1.0       0.0     5.0  5.163\n",
       "881     0.0       0.0       0.0    30.0  5.570\n",
       "358     1.0       1.0       0.0    41.0  0.671"
      ]
     },
     "execution_count": 36,
     "metadata": {},
     "output_type": "execute_result"
    }
   ],
   "source": [
    "xtest.head(3)"
   ]
  },
  {
   "cell_type": "code",
   "execution_count": 37,
   "id": "792d341a",
   "metadata": {
    "ExecuteTime": {
     "end_time": "2023-09-12T08:19:34.180765Z",
     "start_time": "2023-09-12T08:19:34.159395Z"
    }
   },
   "outputs": [
    {
     "data": {
      "text/plain": [
       "268"
      ]
     },
     "execution_count": 37,
     "metadata": {},
     "output_type": "execute_result"
    }
   ],
   "source": [
    "len(xtest)"
   ]
  },
  {
   "cell_type": "code",
   "execution_count": 39,
   "id": "34968890",
   "metadata": {
    "ExecuteTime": {
     "end_time": "2023-09-12T08:19:40.585137Z",
     "start_time": "2023-09-12T08:19:40.567908Z"
    }
   },
   "outputs": [],
   "source": [
    "ypred = lg.predict(xtest)"
   ]
  },
  {
   "cell_type": "code",
   "execution_count": 40,
   "id": "627605ad",
   "metadata": {
    "ExecuteTime": {
     "end_time": "2023-09-12T08:19:40.833208Z",
     "start_time": "2023-09-12T08:19:40.815386Z"
    }
   },
   "outputs": [
    {
     "name": "stdout",
     "output_type": "stream",
     "text": [
      "[1 1 0 1 1 1 0 1 1 1 0 1 0 1 0 1 0 0 0 0 1 0 1 1 0]\n",
      "[1 1 0 0 1 1 0 0 0 1 0 0 0 0 0 1 0 0 0 1 1 1 1 1 1]\n"
     ]
    }
   ],
   "source": [
    "print(ytest[:25].values)\n",
    "print(ypred[:25])"
   ]
  },
  {
   "cell_type": "code",
   "execution_count": 41,
   "id": "47249ca9",
   "metadata": {
    "ExecuteTime": {
     "end_time": "2023-09-12T08:19:41.248758Z",
     "start_time": "2023-09-12T08:19:41.227770Z"
    }
   },
   "outputs": [],
   "source": [
    "from sklearn.metrics import confusion_matrix, classification_report"
   ]
  },
  {
   "cell_type": "code",
   "execution_count": 42,
   "id": "f75d755a",
   "metadata": {
    "ExecuteTime": {
     "end_time": "2023-09-12T08:19:41.638585Z",
     "start_time": "2023-09-12T08:19:41.614162Z"
    }
   },
   "outputs": [
    {
     "data": {
      "text/plain": [
       "array([[113,  27],\n",
       "       [ 43,  85]], dtype=int64)"
      ]
     },
     "execution_count": 42,
     "metadata": {},
     "output_type": "execute_result"
    }
   ],
   "source": [
    "confusion_matrix(ytest,ypred) #Sequence -> tn, fp, fn, tp"
   ]
  },
  {
   "cell_type": "code",
   "execution_count": 43,
   "id": "87e35dd7",
   "metadata": {
    "ExecuteTime": {
     "end_time": "2023-09-12T08:19:42.910505Z",
     "start_time": "2023-09-12T08:19:41.957111Z"
    }
   },
   "outputs": [
    {
     "data": {
      "text/plain": [
       "<AxesSubplot:>"
      ]
     },
     "execution_count": 43,
     "metadata": {},
     "output_type": "execute_result"
    },
    {
     "data": {
      "image/png": "[encoded data removed]",
      "text/plain": [
       "<Figure size 2500x1250 with 2 Axes>"
      ]
     },
     "metadata": {},
     "output_type": "display_data"
    }
   ],
   "source": [
    "sns.heatmap(confusion_matrix(ytest,ypred),annot=True, fmt='g')"
   ]
  },
  {
   "cell_type": "code",
   "execution_count": 44,
   "id": "49607b75",
   "metadata": {
    "ExecuteTime": {
     "end_time": "2023-09-12T08:19:42.947672Z",
     "start_time": "2023-09-12T08:19:42.916330Z"
    }
   },
   "outputs": [
    {
     "name": "stdout",
     "output_type": "stream",
     "text": [
      "              precision    recall  f1-score   support\n",
      "\n",
      "           0       0.72      0.81      0.76       140\n",
      "           1       0.76      0.66      0.71       128\n",
      "\n",
      "    accuracy                           0.74       268\n",
      "   macro avg       0.74      0.74      0.74       268\n",
      "weighted avg       0.74      0.74      0.74       268\n",
      "\n"
     ]
    }
   ],
   "source": [
    "print(classification_report(ytest,ypred))"
   ]
  },
  {
   "cell_type": "markdown",
   "id": "d6215a7b",
   "metadata": {},
   "source": [
    "# Threshold Selection"
   ]
  },
  {
   "cell_type": "code",
   "execution_count": 46,
   "id": "da989d3c",
   "metadata": {
    "ExecuteTime": {
     "end_time": "2023-09-12T08:20:48.641942Z",
     "start_time": "2023-09-12T08:20:48.628578Z"
    }
   },
   "outputs": [
    {
     "data": {
      "text/html": [
       "<div>\n",
       "<style scoped>\n",
       "    .dataframe tbody tr th:only-of-type {\n",
       "        vertical-align: middle;\n",
       "    }\n",
       "\n",
       "    .dataframe tbody tr th {\n",
       "        vertical-align: top;\n",
       "    }\n",
       "\n",
       "    .dataframe thead th {\n",
       "        text-align: right;\n",
       "    }\n",
       "</style>\n",
       "<table border=\"1\" class=\"dataframe\">\n",
       "  <thead>\n",
       "    <tr style=\"text-align: right;\">\n",
       "      <th></th>\n",
       "      <th>CLMSEX</th>\n",
       "      <th>CLMINSUR</th>\n",
       "      <th>SEATBELT</th>\n",
       "      <th>CLMAGE</th>\n",
       "      <th>LOSS</th>\n",
       "    </tr>\n",
       "  </thead>\n",
       "  <tbody>\n",
       "    <tr>\n",
       "      <th>394</th>\n",
       "      <td>1.0</td>\n",
       "      <td>1.0</td>\n",
       "      <td>0.0</td>\n",
       "      <td>5.0</td>\n",
       "      <td>5.163</td>\n",
       "    </tr>\n",
       "    <tr>\n",
       "      <th>881</th>\n",
       "      <td>0.0</td>\n",
       "      <td>0.0</td>\n",
       "      <td>0.0</td>\n",
       "      <td>30.0</td>\n",
       "      <td>5.570</td>\n",
       "    </tr>\n",
       "    <tr>\n",
       "      <th>358</th>\n",
       "      <td>1.0</td>\n",
       "      <td>1.0</td>\n",
       "      <td>0.0</td>\n",
       "      <td>41.0</td>\n",
       "      <td>0.671</td>\n",
       "    </tr>\n",
       "  </tbody>\n",
       "</table>\n",
       "</div>"
      ],
      "text/plain": [
       "     CLMSEX  CLMINSUR  SEATBELT  CLMAGE   LOSS\n",
       "394     1.0       1.0       0.0     5.0  5.163\n",
       "881     0.0       0.0       0.0    30.0  5.570\n",
       "358     1.0       1.0       0.0    41.0  0.671"
      ]
     },
     "execution_count": 46,
     "metadata": {},
     "output_type": "execute_result"
    }
   ],
   "source": [
    "xtest.head(3)"
   ]
  },
  {
   "cell_type": "code",
   "execution_count": 48,
   "id": "413cb3e4",
   "metadata": {
    "ExecuteTime": {
     "end_time": "2023-09-12T08:22:24.315270Z",
     "start_time": "2023-09-12T08:22:24.302476Z"
    }
   },
   "outputs": [
    {
     "data": {
      "text/plain": [
       "array([1, 1, 0, 0, 1], dtype=int64)"
      ]
     },
     "execution_count": 48,
     "metadata": {},
     "output_type": "execute_result"
    }
   ],
   "source": [
    "ypred[:5]"
   ]
  },
  {
   "cell_type": "code",
   "execution_count": 50,
   "id": "c22c5171",
   "metadata": {
    "ExecuteTime": {
     "end_time": "2023-09-12T08:26:46.388970Z",
     "start_time": "2023-09-12T08:26:46.379417Z"
    }
   },
   "outputs": [],
   "source": [
    "proba = lg.predict_proba(xtest)[:,1]"
   ]
  },
  {
   "cell_type": "code",
   "execution_count": 51,
   "id": "b7f4050f",
   "metadata": {
    "ExecuteTime": {
     "end_time": "2023-09-12T08:27:48.524481Z",
     "start_time": "2023-09-12T08:27:48.516421Z"
    }
   },
   "outputs": [],
   "source": [
    "from sklearn.metrics import roc_auc_score,roc_curve, accuracy_score"
   ]
  },
  {
   "cell_type": "code",
   "execution_count": 78,
   "id": "307a7aa8",
   "metadata": {
    "ExecuteTime": {
     "end_time": "2023-09-12T09:10:16.713452Z",
     "start_time": "2023-09-12T09:10:16.687526Z"
    }
   },
   "outputs": [
    {
     "data": {
      "text/plain": [
       "0.7648158482142858"
      ]
     },
     "execution_count": 78,
     "metadata": {},
     "output_type": "execute_result"
    }
   ],
   "source": [
    "auc = roc_auc_score(ytest,proba)\n",
    "auc"
   ]
  },
  {
   "cell_type": "code",
   "execution_count": 54,
   "id": "c97c6ae7",
   "metadata": {
    "ExecuteTime": {
     "end_time": "2023-09-12T08:31:05.269792Z",
     "start_time": "2023-09-12T08:31:05.261182Z"
    }
   },
   "outputs": [],
   "source": [
    "fpr,tpr,threshold = roc_curve(ytest,proba)"
   ]
  },
  {
   "cell_type": "code",
   "execution_count": 55,
   "id": "0a840702",
   "metadata": {
    "ExecuteTime": {
     "end_time": "2023-09-12T08:31:10.960900Z",
     "start_time": "2023-09-12T08:31:10.941193Z"
    },
    "collapsed": true
   },
   "outputs": [
    {
     "data": {
      "text/plain": [
       "array([0.        , 0.        , 0.00714286, 0.00714286, 0.01428571,\n",
       "       0.01428571, 0.02857143, 0.02857143, 0.03571429, 0.03571429,\n",
       "       0.05      , 0.05      , 0.05714286, 0.05714286, 0.06428571,\n",
       "       0.06428571, 0.07142857, 0.07142857, 0.07857143, 0.07857143,\n",
       "       0.08571429, 0.08571429, 0.09285714, 0.09285714, 0.1       ,\n",
       "       0.1       , 0.11428571, 0.11428571, 0.12142857, 0.12142857,\n",
       "       0.12857143, 0.12857143, 0.13571429, 0.13571429, 0.15      ,\n",
       "       0.15      , 0.15714286, 0.15714286, 0.16428571, 0.16428571,\n",
       "       0.17142857, 0.17142857, 0.18571429, 0.18571429, 0.19285714,\n",
       "       0.19285714, 0.2       , 0.2       , 0.22142857, 0.22142857,\n",
       "       0.22857143, 0.22857143, 0.23571429, 0.23571429, 0.25      ,\n",
       "       0.25      , 0.26428571, 0.26428571, 0.28571429, 0.3       ,\n",
       "       0.3       , 0.35      , 0.35      , 0.35714286, 0.35714286,\n",
       "       0.37857143, 0.37857143, 0.42142857, 0.42142857, 0.43571429,\n",
       "       0.43571429, 0.47142857, 0.47142857, 0.5       , 0.5       ,\n",
       "       0.50714286, 0.50714286, 0.51428571, 0.51428571, 0.55      ,\n",
       "       0.56428571, 0.6       , 0.6       , 0.64285714, 0.64285714,\n",
       "       0.66428571, 0.66428571, 0.67857143, 0.67857143, 0.7       ,\n",
       "       0.7       , 0.70714286, 0.70714286, 0.72857143, 0.72857143,\n",
       "       0.75      , 0.75714286, 0.8       , 0.8       , 0.84285714,\n",
       "       0.84285714, 0.89285714, 0.89285714, 0.9       , 0.91428571,\n",
       "       0.91428571, 0.97142857, 0.97142857, 1.        , 1.        ])"
      ]
     },
     "execution_count": 55,
     "metadata": {},
     "output_type": "execute_result"
    }
   ],
   "source": [
    "fpr"
   ]
  },
  {
   "cell_type": "code",
   "execution_count": 56,
   "id": "7fd1b6cd",
   "metadata": {
    "ExecuteTime": {
     "end_time": "2023-09-12T08:31:18.594461Z",
     "start_time": "2023-09-12T08:31:18.574708Z"
    },
    "collapsed": true
   },
   "outputs": [
    {
     "data": {
      "text/plain": [
       "array([0.       , 0.0234375, 0.0234375, 0.078125 , 0.078125 , 0.0859375,\n",
       "       0.0859375, 0.1015625, 0.1015625, 0.109375 , 0.109375 , 0.140625 ,\n",
       "       0.140625 , 0.2109375, 0.2109375, 0.21875  , 0.21875  , 0.234375 ,\n",
       "       0.234375 , 0.2421875, 0.2421875, 0.265625 , 0.265625 , 0.3125   ,\n",
       "       0.3125   , 0.3359375, 0.3359375, 0.3515625, 0.3515625, 0.421875 ,\n",
       "       0.421875 , 0.4296875, 0.4296875, 0.46875  , 0.46875  , 0.53125  ,\n",
       "       0.53125  , 0.5546875, 0.5546875, 0.5625   , 0.5625   , 0.5859375,\n",
       "       0.5859375, 0.625    , 0.625    , 0.6796875, 0.6796875, 0.6953125,\n",
       "       0.6953125, 0.703125 , 0.703125 , 0.734375 , 0.734375 , 0.75     ,\n",
       "       0.75     , 0.7578125, 0.7578125, 0.765625 , 0.765625 , 0.765625 ,\n",
       "       0.7734375, 0.7734375, 0.7890625, 0.7890625, 0.796875 , 0.796875 ,\n",
       "       0.8125   , 0.8125   , 0.8203125, 0.8203125, 0.828125 , 0.828125 ,\n",
       "       0.84375  , 0.84375  , 0.8515625, 0.8515625, 0.859375 , 0.859375 ,\n",
       "       0.8671875, 0.8671875, 0.8671875, 0.8671875, 0.875    , 0.875    ,\n",
       "       0.8828125, 0.8828125, 0.890625 , 0.890625 , 0.90625  , 0.90625  ,\n",
       "       0.921875 , 0.921875 , 0.9296875, 0.9296875, 0.9375   , 0.9375   ,\n",
       "       0.9453125, 0.9453125, 0.953125 , 0.953125 , 0.96875  , 0.96875  ,\n",
       "       0.9765625, 0.9765625, 0.9765625, 0.984375 , 0.984375 , 0.9921875,\n",
       "       0.9921875, 1.       ])"
      ]
     },
     "execution_count": 56,
     "metadata": {},
     "output_type": "execute_result"
    }
   ],
   "source": [
    "tpr"
   ]
  },
  {
   "cell_type": "code",
   "execution_count": 57,
   "id": "2a00fe9d",
   "metadata": {
    "ExecuteTime": {
     "end_time": "2023-09-12T08:31:21.562037Z",
     "start_time": "2023-09-12T08:31:21.545426Z"
    },
    "collapsed": true
   },
   "outputs": [
    {
     "data": {
      "text/plain": [
       "array([2.        , 1.        , 1.        , 0.99559029, 0.98435566,\n",
       "       0.98109511, 0.95343001, 0.93382055, 0.92746387, 0.92060623,\n",
       "       0.90384582, 0.8668176 , 0.85310899, 0.81599758, 0.80316271,\n",
       "       0.80178382, 0.80171381, 0.79761455, 0.79187796, 0.78821071,\n",
       "       0.78746673, 0.76216798, 0.76086392, 0.73305518, 0.72914171,\n",
       "       0.71234596, 0.70245786, 0.69532357, 0.69429674, 0.67126479,\n",
       "       0.66517171, 0.65338508, 0.65065165, 0.64092364, 0.63646197,\n",
       "       0.6088348 , 0.60170102, 0.58450621, 0.58442411, 0.57609825,\n",
       "       0.56942904, 0.55869187, 0.55296542, 0.53729489, 0.53072905,\n",
       "       0.49739259, 0.48871241, 0.46889672, 0.46372046, 0.45463549,\n",
       "       0.45064387, 0.44292098, 0.4414904 , 0.43639883, 0.43568429,\n",
       "       0.43562243, 0.42673106, 0.42097172, 0.41417889, 0.41151982,\n",
       "       0.41145827, 0.39890109, 0.39622523, 0.39609682, 0.39559741,\n",
       "       0.39355557, 0.38969119, 0.38573817, 0.38445128, 0.38243007,\n",
       "       0.37961974, 0.36694333, 0.36624337, 0.35959519, 0.35938143,\n",
       "       0.35271262, 0.35191207, 0.34970926, 0.34948609, 0.34512747,\n",
       "       0.34243872, 0.33873848, 0.33714248, 0.32641549, 0.32285261,\n",
       "       0.32042612, 0.31872302, 0.31719918, 0.31623507, 0.3147238 ,\n",
       "       0.31239145, 0.31228625, 0.31050882, 0.30771536, 0.30737543,\n",
       "       0.30558   , 0.30549397, 0.29601995, 0.29464843, 0.28749817,\n",
       "       0.28528355, 0.26934924, 0.26913111, 0.26762023, 0.26647149,\n",
       "       0.26633007, 0.24019873, 0.23989293, 0.20719538, 0.20631718])"
      ]
     },
     "execution_count": 57,
     "metadata": {},
     "output_type": "execute_result"
    }
   ],
   "source": [
    "threshold"
   ]
  },
  {
   "cell_type": "code",
   "execution_count": 77,
   "id": "e3ceaae5",
   "metadata": {
    "ExecuteTime": {
     "end_time": "2023-09-12T09:10:05.787625Z",
     "start_time": "2023-09-12T09:10:05.369987Z"
    }
   },
   "outputs": [
    {
     "data": {
      "text/plain": [
       "<matplotlib.legend.Legend at 0x2007bde9040>"
      ]
     },
     "execution_count": 77,
     "metadata": {},
     "output_type": "execute_result"
    },
    {
     "data": {
      "image/png": "[encoded data removed]",
      "text/plain": [
       "<Figure size 2500x1250 with 1 Axes>"
      ]
     },
     "metadata": {},
     "output_type": "display_data"
    }
   ],
   "source": [
    "plt.plot(fpr,tpr, label = 'AUC: %0.2f'%auc)\n",
    "plt.xlabel('FPR')\n",
    "plt.ylabel('TPR')\n",
    "plt.legend()"
   ]
  },
  {
   "cell_type": "code",
   "execution_count": 59,
   "id": "cb32ae74",
   "metadata": {
    "ExecuteTime": {
     "end_time": "2023-09-12T08:39:39.844796Z",
     "start_time": "2023-09-12T08:39:39.823461Z"
    }
   },
   "outputs": [
    {
     "data": {
      "text/plain": [
       "array([0.78821071, 0.87659534, 0.2986062 , 0.38445128, 0.8297433 ])"
      ]
     },
     "execution_count": 59,
     "metadata": {},
     "output_type": "execute_result"
    }
   ],
   "source": [
    "proba[:5]"
   ]
  },
  {
   "cell_type": "code",
   "execution_count": 60,
   "id": "696eeb3f",
   "metadata": {
    "ExecuteTime": {
     "end_time": "2023-09-12T08:42:52.141196Z",
     "start_time": "2023-09-12T08:42:52.084198Z"
    }
   },
   "outputs": [],
   "source": [
    "accuracy = []\n",
    "\n",
    "for i in threshold:\n",
    "    ypred = np.where(proba>i,1,0)\n",
    "    accuracy.append(accuracy_score(ytest,ypred))"
   ]
  },
  {
   "cell_type": "code",
   "execution_count": 61,
   "id": "d9e107fb",
   "metadata": {
    "ExecuteTime": {
     "end_time": "2023-09-12T08:42:59.427424Z",
     "start_time": "2023-09-12T08:42:59.402929Z"
    },
    "collapsed": true
   },
   "outputs": [
    {
     "data": {
      "text/plain": [
       "[0.5223880597014925,\n",
       " 0.5223880597014925,\n",
       " 0.5335820895522388,\n",
       " 0.5522388059701493,\n",
       " 0.5559701492537313,\n",
       " 0.5522388059701493,\n",
       " 0.5522388059701493,\n",
       " 0.5522388059701493,\n",
       " 0.5559701492537313,\n",
       " 0.5522388059701493,\n",
       " 0.5522388059701493,\n",
       " 0.5597014925373134,\n",
       " 0.5634328358208955,\n",
       " 0.5895522388059702,\n",
       " 0.5932835820895522,\n",
       " 0.5895522388059702,\n",
       " 0.5932835820895522,\n",
       " 0.5932835820895522,\n",
       " 0.5970149253731343,\n",
       " 0.5932835820895522,\n",
       " 0.5970149253731343,\n",
       " 0.6007462686567164,\n",
       " 0.6044776119402985,\n",
       " 0.6194029850746269,\n",
       " 0.6231343283582089,\n",
       " 0.6268656716417911,\n",
       " 0.6268656716417911,\n",
       " 0.6268656716417911,\n",
       " 0.6305970149253731,\n",
       " 0.6567164179104478,\n",
       " 0.6604477611940298,\n",
       " 0.6567164179104478,\n",
       " 0.6604477611940298,\n",
       " 0.6716417910447762,\n",
       " 0.6716417910447762,\n",
       " 0.6940298507462687,\n",
       " 0.6977611940298507,\n",
       " 0.7014925373134329,\n",
       " 0.7052238805970149,\n",
       " 0.7014925373134329,\n",
       " 0.7052238805970149,\n",
       " 0.7089552238805971,\n",
       " 0.7089552238805971,\n",
       " 0.7201492537313433,\n",
       " 0.7238805970149254,\n",
       " 0.7425373134328358,\n",
       " 0.746268656716418,\n",
       " 0.746268656716418,\n",
       " 0.7425373134328358,\n",
       " 0.7388059701492538,\n",
       " 0.7425373134328358,\n",
       " 0.75,\n",
       " 0.753731343283582,\n",
       " 0.753731343283582,\n",
       " 0.753731343283582,\n",
       " 0.75,\n",
       " 0.75,\n",
       " 0.746268656716418,\n",
       " 0.7425373134328358,\n",
       " 0.7388059701492538,\n",
       " 0.7313432835820896,\n",
       " 0.7126865671641791,\n",
       " 0.7126865671641791,\n",
       " 0.7164179104477612,\n",
       " 0.7126865671641791,\n",
       " 0.7089552238805971,\n",
       " 0.7089552238805971,\n",
       " 0.6940298507462687,\n",
       " 0.6902985074626866,\n",
       " 0.6902985074626866,\n",
       " 0.6865671641791045,\n",
       " 0.6753731343283582,\n",
       " 0.6753731343283582,\n",
       " 0.667910447761194,\n",
       " 0.664179104477612,\n",
       " 0.667910447761194,\n",
       " 0.664179104477612,\n",
       " 0.667910447761194,\n",
       " 0.664179104477612,\n",
       " 0.6529850746268657,\n",
       " 0.6492537313432836,\n",
       " 0.6268656716417911,\n",
       " 0.6231343283582089,\n",
       " 0.6082089552238806,\n",
       " 0.6044776119402985,\n",
       " 0.6007462686567164,\n",
       " 0.5970149253731343,\n",
       " 0.5970149253731343,\n",
       " 0.5970149253731343,\n",
       " 0.5932835820895522,\n",
       " 0.5932835820895522,\n",
       " 0.5970149253731343,\n",
       " 0.5932835820895522,\n",
       " 0.5895522388059702,\n",
       " 0.585820895522388,\n",
       " 0.582089552238806,\n",
       " 0.5783582089552238,\n",
       " 0.5597014925373134,\n",
       " 0.5559701492537313,\n",
       " 0.5410447761194029,\n",
       " 0.5410447761194029,\n",
       " 0.5223880597014925,\n",
       " 0.5186567164179104,\n",
       " 0.5223880597014925,\n",
       " 0.5186567164179104,\n",
       " 0.5111940298507462,\n",
       " 0.48880597014925375,\n",
       " 0.48507462686567165,\n",
       " 0.47761194029850745,\n",
       " 0.47388059701492535]"
      ]
     },
     "execution_count": 61,
     "metadata": {},
     "output_type": "execute_result"
    }
   ],
   "source": [
    "accuracy"
   ]
  },
  {
   "cell_type": "code",
   "execution_count": 62,
   "id": "2a9e8d8e",
   "metadata": {
    "ExecuteTime": {
     "end_time": "2023-09-12T08:45:11.215956Z",
     "start_time": "2023-09-12T08:45:11.204904Z"
    }
   },
   "outputs": [],
   "source": [
    "threshold_selection = pd.DataFrame({\n",
    "    'Threshold' : threshold,\n",
    "    'Accuracy' : accuracy\n",
    "})"
   ]
  },
  {
   "cell_type": "code",
   "execution_count": 63,
   "id": "595ef3c1",
   "metadata": {
    "ExecuteTime": {
     "end_time": "2023-09-12T08:45:14.469374Z",
     "start_time": "2023-09-12T08:45:14.454649Z"
    }
   },
   "outputs": [
    {
     "data": {
      "text/html": [
       "<div>\n",
       "<style scoped>\n",
       "    .dataframe tbody tr th:only-of-type {\n",
       "        vertical-align: middle;\n",
       "    }\n",
       "\n",
       "    .dataframe tbody tr th {\n",
       "        vertical-align: top;\n",
       "    }\n",
       "\n",
       "    .dataframe thead th {\n",
       "        text-align: right;\n",
       "    }\n",
       "</style>\n",
       "<table border=\"1\" class=\"dataframe\">\n",
       "  <thead>\n",
       "    <tr style=\"text-align: right;\">\n",
       "      <th></th>\n",
       "      <th>Threshold</th>\n",
       "      <th>Accuracy</th>\n",
       "    </tr>\n",
       "  </thead>\n",
       "  <tbody>\n",
       "    <tr>\n",
       "      <th>0</th>\n",
       "      <td>2.000000</td>\n",
       "      <td>0.522388</td>\n",
       "    </tr>\n",
       "    <tr>\n",
       "      <th>1</th>\n",
       "      <td>1.000000</td>\n",
       "      <td>0.522388</td>\n",
       "    </tr>\n",
       "    <tr>\n",
       "      <th>2</th>\n",
       "      <td>1.000000</td>\n",
       "      <td>0.533582</td>\n",
       "    </tr>\n",
       "    <tr>\n",
       "      <th>3</th>\n",
       "      <td>0.995590</td>\n",
       "      <td>0.552239</td>\n",
       "    </tr>\n",
       "    <tr>\n",
       "      <th>4</th>\n",
       "      <td>0.984356</td>\n",
       "      <td>0.555970</td>\n",
       "    </tr>\n",
       "    <tr>\n",
       "      <th>...</th>\n",
       "      <td>...</td>\n",
       "      <td>...</td>\n",
       "    </tr>\n",
       "    <tr>\n",
       "      <th>105</th>\n",
       "      <td>0.266330</td>\n",
       "      <td>0.511194</td>\n",
       "    </tr>\n",
       "    <tr>\n",
       "      <th>106</th>\n",
       "      <td>0.240199</td>\n",
       "      <td>0.488806</td>\n",
       "    </tr>\n",
       "    <tr>\n",
       "      <th>107</th>\n",
       "      <td>0.239893</td>\n",
       "      <td>0.485075</td>\n",
       "    </tr>\n",
       "    <tr>\n",
       "      <th>108</th>\n",
       "      <td>0.207195</td>\n",
       "      <td>0.477612</td>\n",
       "    </tr>\n",
       "    <tr>\n",
       "      <th>109</th>\n",
       "      <td>0.206317</td>\n",
       "      <td>0.473881</td>\n",
       "    </tr>\n",
       "  </tbody>\n",
       "</table>\n",
       "<p>110 rows × 2 columns</p>\n",
       "</div>"
      ],
      "text/plain": [
       "     Threshold  Accuracy\n",
       "0     2.000000  0.522388\n",
       "1     1.000000  0.522388\n",
       "2     1.000000  0.533582\n",
       "3     0.995590  0.552239\n",
       "4     0.984356  0.555970\n",
       "..         ...       ...\n",
       "105   0.266330  0.511194\n",
       "106   0.240199  0.488806\n",
       "107   0.239893  0.485075\n",
       "108   0.207195  0.477612\n",
       "109   0.206317  0.473881\n",
       "\n",
       "[110 rows x 2 columns]"
      ]
     },
     "execution_count": 63,
     "metadata": {},
     "output_type": "execute_result"
    }
   ],
   "source": [
    "threshold_selection"
   ]
  },
  {
   "cell_type": "code",
   "execution_count": 64,
   "id": "02d55de4",
   "metadata": {
    "ExecuteTime": {
     "end_time": "2023-09-12T08:47:02.658387Z",
     "start_time": "2023-09-12T08:47:02.631145Z"
    }
   },
   "outputs": [
    {
     "data": {
      "text/html": [
       "<div>\n",
       "<style scoped>\n",
       "    .dataframe tbody tr th:only-of-type {\n",
       "        vertical-align: middle;\n",
       "    }\n",
       "\n",
       "    .dataframe tbody tr th {\n",
       "        vertical-align: top;\n",
       "    }\n",
       "\n",
       "    .dataframe thead th {\n",
       "        text-align: right;\n",
       "    }\n",
       "</style>\n",
       "<table border=\"1\" class=\"dataframe\">\n",
       "  <thead>\n",
       "    <tr style=\"text-align: right;\">\n",
       "      <th></th>\n",
       "      <th>Threshold</th>\n",
       "      <th>Accuracy</th>\n",
       "    </tr>\n",
       "  </thead>\n",
       "  <tbody>\n",
       "    <tr>\n",
       "      <th>54</th>\n",
       "      <td>0.435684</td>\n",
       "      <td>0.753731</td>\n",
       "    </tr>\n",
       "    <tr>\n",
       "      <th>53</th>\n",
       "      <td>0.436399</td>\n",
       "      <td>0.753731</td>\n",
       "    </tr>\n",
       "    <tr>\n",
       "      <th>52</th>\n",
       "      <td>0.441490</td>\n",
       "      <td>0.753731</td>\n",
       "    </tr>\n",
       "    <tr>\n",
       "      <th>55</th>\n",
       "      <td>0.435622</td>\n",
       "      <td>0.750000</td>\n",
       "    </tr>\n",
       "    <tr>\n",
       "      <th>56</th>\n",
       "      <td>0.426731</td>\n",
       "      <td>0.750000</td>\n",
       "    </tr>\n",
       "    <tr>\n",
       "      <th>...</th>\n",
       "      <td>...</td>\n",
       "      <td>...</td>\n",
       "    </tr>\n",
       "    <tr>\n",
       "      <th>105</th>\n",
       "      <td>0.266330</td>\n",
       "      <td>0.511194</td>\n",
       "    </tr>\n",
       "    <tr>\n",
       "      <th>106</th>\n",
       "      <td>0.240199</td>\n",
       "      <td>0.488806</td>\n",
       "    </tr>\n",
       "    <tr>\n",
       "      <th>107</th>\n",
       "      <td>0.239893</td>\n",
       "      <td>0.485075</td>\n",
       "    </tr>\n",
       "    <tr>\n",
       "      <th>108</th>\n",
       "      <td>0.207195</td>\n",
       "      <td>0.477612</td>\n",
       "    </tr>\n",
       "    <tr>\n",
       "      <th>109</th>\n",
       "      <td>0.206317</td>\n",
       "      <td>0.473881</td>\n",
       "    </tr>\n",
       "  </tbody>\n",
       "</table>\n",
       "<p>110 rows × 2 columns</p>\n",
       "</div>"
      ],
      "text/plain": [
       "     Threshold  Accuracy\n",
       "54    0.435684  0.753731\n",
       "53    0.436399  0.753731\n",
       "52    0.441490  0.753731\n",
       "55    0.435622  0.750000\n",
       "56    0.426731  0.750000\n",
       "..         ...       ...\n",
       "105   0.266330  0.511194\n",
       "106   0.240199  0.488806\n",
       "107   0.239893  0.485075\n",
       "108   0.207195  0.477612\n",
       "109   0.206317  0.473881\n",
       "\n",
       "[110 rows x 2 columns]"
      ]
     },
     "execution_count": 64,
     "metadata": {},
     "output_type": "execute_result"
    }
   ],
   "source": [
    "threshold_selection.sort_values(by = 'Accuracy',ascending=False)"
   ]
  },
  {
   "cell_type": "code",
   "execution_count": 65,
   "id": "5c5b9d7f",
   "metadata": {
    "ExecuteTime": {
     "end_time": "2023-09-12T08:48:17.210104Z",
     "start_time": "2023-09-12T08:48:17.194116Z"
    }
   },
   "outputs": [],
   "source": [
    "from sklearn.preprocessing import binarize"
   ]
  },
  {
   "cell_type": "code",
   "execution_count": 66,
   "id": "a25f3651",
   "metadata": {
    "ExecuteTime": {
     "end_time": "2023-09-12T08:48:46.855588Z",
     "start_time": "2023-09-12T08:48:46.831586Z"
    },
    "collapsed": true
   },
   "outputs": [
    {
     "data": {
      "text/plain": [
       "array([0.78821071, 0.87659534, 0.2986062 , 0.38445128, 0.8297433 ,\n",
       "       0.64092364, 0.39890109, 0.45463549, 0.44292098, 0.87909809,\n",
       "       0.33962635, 0.31872302, 0.4097136 , 0.44537759, 0.32277285,\n",
       "       0.73744764, 0.33360802, 0.27281284, 0.34512747, 0.91339469,\n",
       "       1.        , 0.70245786, 0.75938053, 0.50377016, 0.80171381,\n",
       "       0.33265341, 0.25357962, 0.30549397, 0.36060377, 0.31719918,\n",
       "       1.        , 0.42673106, 0.24019873, 0.34948609, 0.34705529,\n",
       "       0.28707649, 0.41151982, 0.68809903, 0.26934924, 0.62706648,\n",
       "       0.4414904 , 0.36694333, 0.46889672, 0.36624337, 0.26647149,\n",
       "       0.56246823, 0.38243007, 0.66517171, 0.64894073, 0.44119999,\n",
       "       0.80178382, 0.39372775, 0.3015972 , 0.41417889, 0.20719538,\n",
       "       1.        , 0.28340744, 0.29302456, 0.35271262, 0.3147238 ,\n",
       "       0.99559029, 0.62348266, 0.29446574, 0.59144794, 0.56377085,\n",
       "       0.30771536, 0.34000242, 0.84447142, 0.26647149, 0.31050882,\n",
       "       0.43568429, 0.68593993, 0.32285261, 0.38573817, 0.30645611,\n",
       "       0.55869187, 0.96209555, 0.22170131, 0.28827912, 0.26628966,\n",
       "       0.46438451, 0.43562243, 0.68070348, 0.39355557, 0.39556658,\n",
       "       0.64649711, 0.85299596, 0.50216158, 0.32654878, 0.31684335,\n",
       "       0.73305518, 0.28030647, 0.23603725, 0.76086392, 0.30422761,\n",
       "       0.35938143, 0.31429132, 0.53729489, 0.38787107, 0.53072905,\n",
       "       0.30558   , 0.26945006, 0.46372046, 0.38715357, 0.42097172,\n",
       "       0.58450621, 0.90384582, 0.63341967, 0.98109511, 0.2498219 ,\n",
       "       0.83760951, 0.38969119, 0.34243872, 0.39697702, 1.        ,\n",
       "       0.27877739, 0.64370417, 0.52890252, 0.98435566, 1.        ,\n",
       "       0.79761455, 0.30952869, 1.        , 0.34883741, 0.26633007,\n",
       "       0.31623507, 0.63646197, 0.38780675, 0.62789614, 0.5433201 ,\n",
       "       0.45064387, 0.40229581, 0.93382055, 0.36258306, 0.69964694,\n",
       "       0.55296542, 0.70274817, 0.38628067, 0.65338508, 0.41151982,\n",
       "       0.92746387, 0.32194069, 0.83582584, 0.31475653, 0.30549397,\n",
       "       0.44496114, 0.67155463, 0.55305609, 0.85310899, 0.90052447,\n",
       "       0.7740849 , 0.40749912, 0.53976025, 0.31239145, 0.40084209,\n",
       "       0.54012268, 0.41976144, 0.81599758, 0.69429674, 0.63969605,\n",
       "       0.28749817, 0.31818799, 0.222908  , 0.65065165, 0.25208148,\n",
       "       0.24737435, 0.78746673, 0.69532357, 0.49739259, 0.61237994,\n",
       "       0.37656285, 0.83061403, 0.76216798, 0.36662639, 0.51821078,\n",
       "       0.34243872, 0.28213361, 0.292172  , 0.36050832, 0.8668176 ,\n",
       "       0.31567439, 0.55084309, 0.24138478, 0.56942904, 0.3889385 ,\n",
       "       0.57609825, 0.39264673, 0.31228625, 0.94073091, 0.64891176,\n",
       "       0.34761601, 0.32641549, 0.30680551, 0.39559741, 0.34755291,\n",
       "       0.68321641, 0.68033015, 0.49853804, 0.37049068, 0.34128008,\n",
       "       0.34240969, 0.95343001, 0.84259219, 0.36969288, 0.34970926,\n",
       "       0.99999997, 0.39609682, 0.37961974, 0.33286452, 0.71234596,\n",
       "       0.47181029, 0.759601  , 0.50396842, 0.40458821, 0.67605322,\n",
       "       0.29464843, 0.30737543, 0.42067055, 0.43639883, 0.33873848,\n",
       "       0.29258707, 0.80056461, 0.43609494, 0.28528355, 0.80316271,\n",
       "       0.29601995, 0.3696924 , 0.33373926, 0.30167791, 0.59449858,\n",
       "       0.23989293, 0.33714248, 0.72798551, 0.68982186, 0.58442411,\n",
       "       0.74129738, 0.75323366, 0.6088348 , 0.48871241, 0.30365964,\n",
       "       0.44961778, 0.46799867, 0.35959519, 0.32042612, 1.        ,\n",
       "       0.20631718, 0.39622523, 0.40811379, 0.3077263 , 0.72914171,\n",
       "       0.42818046, 0.63092942, 0.67126479, 0.3833554 , 0.7707437 ,\n",
       "       0.26913111, 0.99904874, 0.26762023, 0.92060623, 0.79187796,\n",
       "       0.35191207, 0.61387561, 0.72620696, 0.41145827, 0.83770761,\n",
       "       0.60170102, 1.        , 0.24330825])"
      ]
     },
     "execution_count": 66,
     "metadata": {},
     "output_type": "execute_result"
    }
   ],
   "source": [
    "proba"
   ]
  },
  {
   "cell_type": "code",
   "execution_count": 72,
   "id": "8c5421f3",
   "metadata": {
    "ExecuteTime": {
     "end_time": "2023-09-12T08:53:29.729523Z",
     "start_time": "2023-09-12T08:53:29.719965Z"
    }
   },
   "outputs": [],
   "source": [
    "new_pred = binarize([proba],threshold=0.435684)[0]"
   ]
  },
  {
   "cell_type": "code",
   "execution_count": 73,
   "id": "1c45523b",
   "metadata": {
    "ExecuteTime": {
     "end_time": "2023-09-12T08:53:30.493392Z",
     "start_time": "2023-09-12T08:53:30.469682Z"
    },
    "collapsed": true
   },
   "outputs": [
    {
     "data": {
      "text/plain": [
       "array([1., 1., 0., 0., 1., 1., 0., 1., 1., 1., 0., 0., 0., 1., 0., 1., 0.,\n",
       "       0., 0., 1., 1., 1., 1., 1., 1., 0., 0., 0., 0., 0., 1., 0., 0., 0.,\n",
       "       0., 0., 0., 1., 0., 1., 1., 0., 1., 0., 0., 1., 0., 1., 1., 1., 1.,\n",
       "       0., 0., 0., 0., 1., 0., 0., 0., 0., 1., 1., 0., 1., 1., 0., 0., 1.,\n",
       "       0., 0., 1., 1., 0., 0., 0., 1., 1., 0., 0., 0., 1., 0., 1., 0., 0.,\n",
       "       1., 1., 1., 0., 0., 1., 0., 0., 1., 0., 0., 0., 1., 0., 1., 0., 0.,\n",
       "       1., 0., 0., 1., 1., 1., 1., 0., 1., 0., 0., 0., 1., 0., 1., 1., 1.,\n",
       "       1., 1., 0., 1., 0., 0., 0., 1., 0., 1., 1., 1., 0., 1., 0., 1., 1.,\n",
       "       1., 0., 1., 0., 1., 0., 1., 0., 0., 1., 1., 1., 1., 1., 1., 0., 1.,\n",
       "       0., 0., 1., 0., 1., 1., 1., 0., 0., 0., 1., 0., 0., 1., 1., 1., 1.,\n",
       "       0., 1., 1., 0., 1., 0., 0., 0., 0., 1., 0., 1., 0., 1., 0., 1., 0.,\n",
       "       0., 1., 1., 0., 0., 0., 0., 0., 1., 1., 1., 0., 0., 0., 1., 1., 0.,\n",
       "       0., 1., 0., 0., 0., 1., 1., 1., 1., 0., 1., 0., 0., 0., 1., 0., 0.,\n",
       "       1., 1., 0., 1., 0., 0., 0., 0., 1., 0., 0., 1., 1., 1., 1., 1., 1.,\n",
       "       1., 0., 1., 1., 0., 0., 1., 0., 0., 0., 0., 1., 0., 1., 1., 0., 1.,\n",
       "       0., 1., 0., 1., 1., 0., 1., 1., 0., 1., 1., 1., 0.])"
      ]
     },
     "execution_count": 73,
     "metadata": {},
     "output_type": "execute_result"
    }
   ],
   "source": [
    "new_pred"
   ]
  },
  {
   "cell_type": "code",
   "execution_count": 74,
   "id": "3b3d37b0",
   "metadata": {
    "ExecuteTime": {
     "end_time": "2023-09-12T08:53:36.715446Z",
     "start_time": "2023-09-12T08:53:36.691116Z"
    }
   },
   "outputs": [
    {
     "name": "stdout",
     "output_type": "stream",
     "text": [
      "              precision    recall  f1-score   support\n",
      "\n",
      "           0       0.77      0.75      0.76       140\n",
      "           1       0.73      0.75      0.74       128\n",
      "\n",
      "    accuracy                           0.75       268\n",
      "   macro avg       0.75      0.75      0.75       268\n",
      "weighted avg       0.75      0.75      0.75       268\n",
      "\n"
     ]
    }
   ],
   "source": [
    "print(classification_report(ytest,new_pred))"
   ]
  },
  {
   "cell_type": "code",
   "execution_count": null,
   "id": "680bae5f",
   "metadata": {},
   "outputs": [],
   "source": []
  }
 ],
 "metadata": {
  "kernelspec": {
   "display_name": "Python 3 (ipykernel)",
   "language": "python",
   "name": "python3"
  },
  "language_info": {
   "codemirror_mode": {
    "name": "ipython",
    "version": 3
   },
   "file_extension": ".py",
   "mimetype": "text/x-python",
   "name": "python",
   "nbconvert_exporter": "python",
   "pygments_lexer": "ipython3",
   "version": "3.9.13"
  }
 },
 "nbformat": 4,
 "nbformat_minor": 5
}
