{
 "cells": [
  {
   "cell_type": "code",
   "execution_count": 1,
   "id": "53affba1",
   "metadata": {
    "ExecuteTime": {
     "end_time": "2023-10-12T08:00:36.384130Z",
     "start_time": "2023-10-12T08:00:30.769453Z"
    }
   },
   "outputs": [],
   "source": [
    "#Import Libraries\n",
    "import pandas as pd\n",
    "import numpy as np\n",
    "from sklearn.model_selection import train_test_split\n",
    "from sklearn.impute import SimpleImputer\n",
    "from sklearn.linear_model import LinearRegression, Lasso, Ridge, ElasticNet\n",
    "from sklearn.preprocessing import OrdinalEncoder\n",
    "import warnings\n",
    "warnings.filterwarnings('ignore')"
   ]
  },
  {
   "cell_type": "code",
   "execution_count": 2,
   "id": "9ed21ed6",
   "metadata": {
    "ExecuteTime": {
     "end_time": "2023-10-12T08:00:36.960954Z",
     "start_time": "2023-10-12T08:00:36.387944Z"
    }
   },
   "outputs": [
    {
     "data": {
      "text/html": [
       "<div>\n",
       "<style scoped>\n",
       "    .dataframe tbody tr th:only-of-type {\n",
       "        vertical-align: middle;\n",
       "    }\n",
       "\n",
       "    .dataframe tbody tr th {\n",
       "        vertical-align: top;\n",
       "    }\n",
       "\n",
       "    .dataframe thead th {\n",
       "        text-align: right;\n",
       "    }\n",
       "</style>\n",
       "<table border=\"1\" class=\"dataframe\">\n",
       "  <thead>\n",
       "    <tr style=\"text-align: right;\">\n",
       "      <th></th>\n",
       "      <th>symboling</th>\n",
       "      <th>normalized-losses</th>\n",
       "      <th>make</th>\n",
       "      <th>fuel-type</th>\n",
       "      <th>body-style</th>\n",
       "      <th>drive-wheels</th>\n",
       "      <th>engine-location</th>\n",
       "      <th>width</th>\n",
       "      <th>height</th>\n",
       "      <th>engine-type</th>\n",
       "      <th>engine-size</th>\n",
       "      <th>horsepower</th>\n",
       "      <th>city-mpg</th>\n",
       "      <th>highway-mpg</th>\n",
       "      <th>price</th>\n",
       "    </tr>\n",
       "  </thead>\n",
       "  <tbody>\n",
       "    <tr>\n",
       "      <th>0</th>\n",
       "      <td>3</td>\n",
       "      <td>?</td>\n",
       "      <td>alfa-romero</td>\n",
       "      <td>gas</td>\n",
       "      <td>convertible</td>\n",
       "      <td>rwd</td>\n",
       "      <td>front</td>\n",
       "      <td>64.1</td>\n",
       "      <td>48.8</td>\n",
       "      <td>dohc</td>\n",
       "      <td>130</td>\n",
       "      <td>111</td>\n",
       "      <td>21</td>\n",
       "      <td>27</td>\n",
       "      <td>13495</td>\n",
       "    </tr>\n",
       "    <tr>\n",
       "      <th>1</th>\n",
       "      <td>3</td>\n",
       "      <td>?</td>\n",
       "      <td>alfa-romero</td>\n",
       "      <td>gas</td>\n",
       "      <td>convertible</td>\n",
       "      <td>rwd</td>\n",
       "      <td>front</td>\n",
       "      <td>64.1</td>\n",
       "      <td>48.8</td>\n",
       "      <td>dohc</td>\n",
       "      <td>130</td>\n",
       "      <td>111</td>\n",
       "      <td>21</td>\n",
       "      <td>27</td>\n",
       "      <td>16500</td>\n",
       "    </tr>\n",
       "    <tr>\n",
       "      <th>2</th>\n",
       "      <td>1</td>\n",
       "      <td>?</td>\n",
       "      <td>alfa-romero</td>\n",
       "      <td>gas</td>\n",
       "      <td>hatchback</td>\n",
       "      <td>rwd</td>\n",
       "      <td>front</td>\n",
       "      <td>65.5</td>\n",
       "      <td>52.4</td>\n",
       "      <td>ohcv</td>\n",
       "      <td>152</td>\n",
       "      <td>154</td>\n",
       "      <td>19</td>\n",
       "      <td>26</td>\n",
       "      <td>16500</td>\n",
       "    </tr>\n",
       "    <tr>\n",
       "      <th>3</th>\n",
       "      <td>2</td>\n",
       "      <td>164</td>\n",
       "      <td>audi</td>\n",
       "      <td>gas</td>\n",
       "      <td>sedan</td>\n",
       "      <td>fwd</td>\n",
       "      <td>front</td>\n",
       "      <td>66.2</td>\n",
       "      <td>54.3</td>\n",
       "      <td>ohc</td>\n",
       "      <td>109</td>\n",
       "      <td>102</td>\n",
       "      <td>24</td>\n",
       "      <td>30</td>\n",
       "      <td>13950</td>\n",
       "    </tr>\n",
       "    <tr>\n",
       "      <th>4</th>\n",
       "      <td>2</td>\n",
       "      <td>164</td>\n",
       "      <td>audi</td>\n",
       "      <td>gas</td>\n",
       "      <td>sedan</td>\n",
       "      <td>4wd</td>\n",
       "      <td>front</td>\n",
       "      <td>66.4</td>\n",
       "      <td>54.3</td>\n",
       "      <td>ohc</td>\n",
       "      <td>136</td>\n",
       "      <td>115</td>\n",
       "      <td>18</td>\n",
       "      <td>22</td>\n",
       "      <td>17450</td>\n",
       "    </tr>\n",
       "    <tr>\n",
       "      <th>...</th>\n",
       "      <td>...</td>\n",
       "      <td>...</td>\n",
       "      <td>...</td>\n",
       "      <td>...</td>\n",
       "      <td>...</td>\n",
       "      <td>...</td>\n",
       "      <td>...</td>\n",
       "      <td>...</td>\n",
       "      <td>...</td>\n",
       "      <td>...</td>\n",
       "      <td>...</td>\n",
       "      <td>...</td>\n",
       "      <td>...</td>\n",
       "      <td>...</td>\n",
       "      <td>...</td>\n",
       "    </tr>\n",
       "    <tr>\n",
       "      <th>200</th>\n",
       "      <td>-1</td>\n",
       "      <td>95</td>\n",
       "      <td>volvo</td>\n",
       "      <td>gas</td>\n",
       "      <td>sedan</td>\n",
       "      <td>rwd</td>\n",
       "      <td>front</td>\n",
       "      <td>68.9</td>\n",
       "      <td>55.5</td>\n",
       "      <td>ohc</td>\n",
       "      <td>141</td>\n",
       "      <td>114</td>\n",
       "      <td>23</td>\n",
       "      <td>28</td>\n",
       "      <td>16845</td>\n",
       "    </tr>\n",
       "    <tr>\n",
       "      <th>201</th>\n",
       "      <td>-1</td>\n",
       "      <td>95</td>\n",
       "      <td>volvo</td>\n",
       "      <td>gas</td>\n",
       "      <td>sedan</td>\n",
       "      <td>rwd</td>\n",
       "      <td>front</td>\n",
       "      <td>68.8</td>\n",
       "      <td>55.5</td>\n",
       "      <td>ohc</td>\n",
       "      <td>141</td>\n",
       "      <td>160</td>\n",
       "      <td>19</td>\n",
       "      <td>25</td>\n",
       "      <td>19045</td>\n",
       "    </tr>\n",
       "    <tr>\n",
       "      <th>202</th>\n",
       "      <td>-1</td>\n",
       "      <td>95</td>\n",
       "      <td>volvo</td>\n",
       "      <td>gas</td>\n",
       "      <td>sedan</td>\n",
       "      <td>rwd</td>\n",
       "      <td>front</td>\n",
       "      <td>68.9</td>\n",
       "      <td>55.5</td>\n",
       "      <td>ohcv</td>\n",
       "      <td>173</td>\n",
       "      <td>134</td>\n",
       "      <td>18</td>\n",
       "      <td>23</td>\n",
       "      <td>21485</td>\n",
       "    </tr>\n",
       "    <tr>\n",
       "      <th>203</th>\n",
       "      <td>-1</td>\n",
       "      <td>95</td>\n",
       "      <td>volvo</td>\n",
       "      <td>diesel</td>\n",
       "      <td>sedan</td>\n",
       "      <td>rwd</td>\n",
       "      <td>front</td>\n",
       "      <td>68.9</td>\n",
       "      <td>55.5</td>\n",
       "      <td>ohc</td>\n",
       "      <td>145</td>\n",
       "      <td>106</td>\n",
       "      <td>26</td>\n",
       "      <td>27</td>\n",
       "      <td>22470</td>\n",
       "    </tr>\n",
       "    <tr>\n",
       "      <th>204</th>\n",
       "      <td>-1</td>\n",
       "      <td>95</td>\n",
       "      <td>volvo</td>\n",
       "      <td>gas</td>\n",
       "      <td>sedan</td>\n",
       "      <td>rwd</td>\n",
       "      <td>front</td>\n",
       "      <td>68.9</td>\n",
       "      <td>55.5</td>\n",
       "      <td>ohc</td>\n",
       "      <td>141</td>\n",
       "      <td>114</td>\n",
       "      <td>19</td>\n",
       "      <td>25</td>\n",
       "      <td>22625</td>\n",
       "    </tr>\n",
       "  </tbody>\n",
       "</table>\n",
       "<p>205 rows × 15 columns</p>\n",
       "</div>"
      ],
      "text/plain": [
       "     symboling normalized-losses         make fuel-type   body-style  \\\n",
       "0            3                 ?  alfa-romero       gas  convertible   \n",
       "1            3                 ?  alfa-romero       gas  convertible   \n",
       "2            1                 ?  alfa-romero       gas    hatchback   \n",
       "3            2               164         audi       gas        sedan   \n",
       "4            2               164         audi       gas        sedan   \n",
       "..         ...               ...          ...       ...          ...   \n",
       "200         -1                95        volvo       gas        sedan   \n",
       "201         -1                95        volvo       gas        sedan   \n",
       "202         -1                95        volvo       gas        sedan   \n",
       "203         -1                95        volvo    diesel        sedan   \n",
       "204         -1                95        volvo       gas        sedan   \n",
       "\n",
       "    drive-wheels engine-location  width  height engine-type  engine-size  \\\n",
       "0            rwd           front   64.1    48.8        dohc          130   \n",
       "1            rwd           front   64.1    48.8        dohc          130   \n",
       "2            rwd           front   65.5    52.4        ohcv          152   \n",
       "3            fwd           front   66.2    54.3         ohc          109   \n",
       "4            4wd           front   66.4    54.3         ohc          136   \n",
       "..           ...             ...    ...     ...         ...          ...   \n",
       "200          rwd           front   68.9    55.5         ohc          141   \n",
       "201          rwd           front   68.8    55.5         ohc          141   \n",
       "202          rwd           front   68.9    55.5        ohcv          173   \n",
       "203          rwd           front   68.9    55.5         ohc          145   \n",
       "204          rwd           front   68.9    55.5         ohc          141   \n",
       "\n",
       "    horsepower  city-mpg  highway-mpg  price  \n",
       "0          111        21           27  13495  \n",
       "1          111        21           27  16500  \n",
       "2          154        19           26  16500  \n",
       "3          102        24           30  13950  \n",
       "4          115        18           22  17450  \n",
       "..         ...       ...          ...    ...  \n",
       "200        114        23           28  16845  \n",
       "201        160        19           25  19045  \n",
       "202        134        18           23  21485  \n",
       "203        106        26           27  22470  \n",
       "204        114        19           25  22625  \n",
       "\n",
       "[205 rows x 15 columns]"
      ]
     },
     "execution_count": 2,
     "metadata": {},
     "output_type": "execute_result"
    }
   ],
   "source": [
    "df = pd.read_csv('https://raw.githubusercontent.com/aishwaryamate/Datasets/main/cars.csv')\n",
    "df"
   ]
  },
  {
   "cell_type": "markdown",
   "id": "bdf14768",
   "metadata": {
    "ExecuteTime": {
     "end_time": "2023-02-01T05:08:36.165434Z",
     "start_time": "2023-02-01T05:08:36.144319Z"
    }
   },
   "source": [
    "# EDA"
   ]
  },
  {
   "cell_type": "code",
   "execution_count": 3,
   "id": "b66b0dab",
   "metadata": {
    "ExecuteTime": {
     "end_time": "2023-10-12T08:01:27.330254Z",
     "start_time": "2023-10-12T08:01:27.288233Z"
    }
   },
   "outputs": [
    {
     "name": "stdout",
     "output_type": "stream",
     "text": [
      "<class 'pandas.core.frame.DataFrame'>\n",
      "RangeIndex: 205 entries, 0 to 204\n",
      "Data columns (total 15 columns):\n",
      " #   Column             Non-Null Count  Dtype  \n",
      "---  ------             --------------  -----  \n",
      " 0   symboling          205 non-null    int64  \n",
      " 1   normalized-losses  205 non-null    object \n",
      " 2   make               205 non-null    object \n",
      " 3   fuel-type          205 non-null    object \n",
      " 4   body-style         205 non-null    object \n",
      " 5   drive-wheels       205 non-null    object \n",
      " 6   engine-location    205 non-null    object \n",
      " 7   width              205 non-null    float64\n",
      " 8   height             205 non-null    float64\n",
      " 9   engine-type        205 non-null    object \n",
      " 10  engine-size        205 non-null    int64  \n",
      " 11  horsepower         205 non-null    object \n",
      " 12  city-mpg           205 non-null    int64  \n",
      " 13  highway-mpg        205 non-null    int64  \n",
      " 14  price              205 non-null    int64  \n",
      "dtypes: float64(2), int64(5), object(8)\n",
      "memory usage: 24.1+ KB\n"
     ]
    }
   ],
   "source": [
    "df.info()"
   ]
  },
  {
   "cell_type": "code",
   "execution_count": 4,
   "id": "57f24111",
   "metadata": {
    "ExecuteTime": {
     "end_time": "2023-10-12T08:01:55.795498Z",
     "start_time": "2023-10-12T08:01:55.769036Z"
    }
   },
   "outputs": [
    {
     "data": {
      "text/plain": [
       "symboling            0\n",
       "normalized-losses    0\n",
       "make                 0\n",
       "fuel-type            0\n",
       "body-style           0\n",
       "drive-wheels         0\n",
       "engine-location      0\n",
       "width                0\n",
       "height               0\n",
       "engine-type          0\n",
       "engine-size          0\n",
       "horsepower           0\n",
       "city-mpg             0\n",
       "highway-mpg          0\n",
       "price                0\n",
       "dtype: int64"
      ]
     },
     "execution_count": 4,
     "metadata": {},
     "output_type": "execute_result"
    }
   ],
   "source": [
    "df.isna().sum()"
   ]
  },
  {
   "cell_type": "code",
   "execution_count": 5,
   "id": "26b9bf92",
   "metadata": {
    "ExecuteTime": {
     "end_time": "2023-10-12T08:03:15.444815Z",
     "start_time": "2023-10-12T08:03:15.413616Z"
    },
    "collapsed": true
   },
   "outputs": [
    {
     "data": {
      "text/plain": [
       "?      41\n",
       "161    11\n",
       "91      8\n",
       "150     7\n",
       "134     6\n",
       "128     6\n",
       "104     6\n",
       "85      5\n",
       "94      5\n",
       "65      5\n",
       "102     5\n",
       "74      5\n",
       "168     5\n",
       "103     5\n",
       "95      5\n",
       "106     4\n",
       "93      4\n",
       "118     4\n",
       "148     4\n",
       "122     4\n",
       "83      3\n",
       "125     3\n",
       "154     3\n",
       "115     3\n",
       "137     3\n",
       "101     3\n",
       "119     2\n",
       "87      2\n",
       "89      2\n",
       "192     2\n",
       "197     2\n",
       "158     2\n",
       "81      2\n",
       "188     2\n",
       "194     2\n",
       "153     2\n",
       "129     2\n",
       "108     2\n",
       "110     2\n",
       "164     2\n",
       "145     2\n",
       "113     2\n",
       "256     1\n",
       "107     1\n",
       "90      1\n",
       "231     1\n",
       "142     1\n",
       "121     1\n",
       "78      1\n",
       "98      1\n",
       "186     1\n",
       "77      1\n",
       "Name: normalized-losses, dtype: int64"
      ]
     },
     "execution_count": 5,
     "metadata": {},
     "output_type": "execute_result"
    }
   ],
   "source": [
    "df['normalized-losses'].value_counts()"
   ]
  },
  {
   "cell_type": "code",
   "execution_count": 6,
   "id": "bf5172cb",
   "metadata": {
    "ExecuteTime": {
     "end_time": "2023-10-12T08:03:31.928421Z",
     "start_time": "2023-10-12T08:03:31.883714Z"
    }
   },
   "outputs": [
    {
     "data": {
      "text/html": [
       "<div>\n",
       "<style scoped>\n",
       "    .dataframe tbody tr th:only-of-type {\n",
       "        vertical-align: middle;\n",
       "    }\n",
       "\n",
       "    .dataframe tbody tr th {\n",
       "        vertical-align: top;\n",
       "    }\n",
       "\n",
       "    .dataframe thead th {\n",
       "        text-align: right;\n",
       "    }\n",
       "</style>\n",
       "<table border=\"1\" class=\"dataframe\">\n",
       "  <thead>\n",
       "    <tr style=\"text-align: right;\">\n",
       "      <th></th>\n",
       "      <th>symboling</th>\n",
       "      <th>normalized-losses</th>\n",
       "      <th>make</th>\n",
       "      <th>fuel-type</th>\n",
       "      <th>body-style</th>\n",
       "      <th>drive-wheels</th>\n",
       "      <th>engine-location</th>\n",
       "      <th>width</th>\n",
       "      <th>height</th>\n",
       "      <th>engine-type</th>\n",
       "      <th>engine-size</th>\n",
       "      <th>horsepower</th>\n",
       "      <th>city-mpg</th>\n",
       "      <th>highway-mpg</th>\n",
       "      <th>price</th>\n",
       "    </tr>\n",
       "  </thead>\n",
       "  <tbody>\n",
       "    <tr>\n",
       "      <th>130</th>\n",
       "      <td>0</td>\n",
       "      <td>?</td>\n",
       "      <td>renault</td>\n",
       "      <td>gas</td>\n",
       "      <td>wagon</td>\n",
       "      <td>fwd</td>\n",
       "      <td>front</td>\n",
       "      <td>66.5</td>\n",
       "      <td>55.2</td>\n",
       "      <td>ohc</td>\n",
       "      <td>132</td>\n",
       "      <td>?</td>\n",
       "      <td>23</td>\n",
       "      <td>31</td>\n",
       "      <td>9295</td>\n",
       "    </tr>\n",
       "    <tr>\n",
       "      <th>131</th>\n",
       "      <td>2</td>\n",
       "      <td>?</td>\n",
       "      <td>renault</td>\n",
       "      <td>gas</td>\n",
       "      <td>hatchback</td>\n",
       "      <td>fwd</td>\n",
       "      <td>front</td>\n",
       "      <td>66.6</td>\n",
       "      <td>50.5</td>\n",
       "      <td>ohc</td>\n",
       "      <td>132</td>\n",
       "      <td>?</td>\n",
       "      <td>23</td>\n",
       "      <td>31</td>\n",
       "      <td>9895</td>\n",
       "    </tr>\n",
       "  </tbody>\n",
       "</table>\n",
       "</div>"
      ],
      "text/plain": [
       "     symboling normalized-losses     make fuel-type body-style drive-wheels  \\\n",
       "130          0                 ?  renault       gas      wagon          fwd   \n",
       "131          2                 ?  renault       gas  hatchback          fwd   \n",
       "\n",
       "    engine-location  width  height engine-type  engine-size horsepower  \\\n",
       "130           front   66.5    55.2         ohc          132          ?   \n",
       "131           front   66.6    50.5         ohc          132          ?   \n",
       "\n",
       "     city-mpg  highway-mpg  price  \n",
       "130        23           31   9295  \n",
       "131        23           31   9895  "
      ]
     },
     "execution_count": 6,
     "metadata": {},
     "output_type": "execute_result"
    }
   ],
   "source": [
    "df[df['horsepower']=='?']"
   ]
  },
  {
   "cell_type": "code",
   "execution_count": 7,
   "id": "ba7ae247",
   "metadata": {
    "ExecuteTime": {
     "end_time": "2023-10-12T08:04:24.047793Z",
     "start_time": "2023-10-12T08:04:24.022151Z"
    }
   },
   "outputs": [],
   "source": [
    "df.replace('?', np.nan, inplace=True)"
   ]
  },
  {
   "cell_type": "code",
   "execution_count": 8,
   "id": "ac199fe6",
   "metadata": {
    "ExecuteTime": {
     "end_time": "2023-10-12T08:04:27.830869Z",
     "start_time": "2023-10-12T08:04:27.807072Z"
    }
   },
   "outputs": [
    {
     "data": {
      "text/plain": [
       "symboling             0\n",
       "normalized-losses    41\n",
       "make                  0\n",
       "fuel-type             0\n",
       "body-style            0\n",
       "drive-wheels          0\n",
       "engine-location       0\n",
       "width                 0\n",
       "height                0\n",
       "engine-type           0\n",
       "engine-size           0\n",
       "horsepower            2\n",
       "city-mpg              0\n",
       "highway-mpg           0\n",
       "price                 0\n",
       "dtype: int64"
      ]
     },
     "execution_count": 8,
     "metadata": {},
     "output_type": "execute_result"
    }
   ],
   "source": [
    "df.isna().sum()"
   ]
  },
  {
   "cell_type": "code",
   "execution_count": 9,
   "id": "7c3c6f78",
   "metadata": {
    "ExecuteTime": {
     "end_time": "2023-10-12T08:05:11.027672Z",
     "start_time": "2023-10-12T08:05:10.953246Z"
    }
   },
   "outputs": [
    {
     "data": {
      "text/html": [
       "<div>\n",
       "<style scoped>\n",
       "    .dataframe tbody tr th:only-of-type {\n",
       "        vertical-align: middle;\n",
       "    }\n",
       "\n",
       "    .dataframe tbody tr th {\n",
       "        vertical-align: top;\n",
       "    }\n",
       "\n",
       "    .dataframe thead th {\n",
       "        text-align: right;\n",
       "    }\n",
       "</style>\n",
       "<table border=\"1\" class=\"dataframe\">\n",
       "  <thead>\n",
       "    <tr style=\"text-align: right;\">\n",
       "      <th></th>\n",
       "      <th>symboling</th>\n",
       "      <th>normalized-losses</th>\n",
       "      <th>make</th>\n",
       "      <th>fuel-type</th>\n",
       "      <th>body-style</th>\n",
       "      <th>drive-wheels</th>\n",
       "      <th>engine-location</th>\n",
       "      <th>width</th>\n",
       "      <th>height</th>\n",
       "      <th>engine-type</th>\n",
       "      <th>engine-size</th>\n",
       "      <th>horsepower</th>\n",
       "      <th>city-mpg</th>\n",
       "      <th>highway-mpg</th>\n",
       "      <th>price</th>\n",
       "    </tr>\n",
       "  </thead>\n",
       "  <tbody>\n",
       "    <tr>\n",
       "      <th>0</th>\n",
       "      <td>3</td>\n",
       "      <td>NaN</td>\n",
       "      <td>alfa-romero</td>\n",
       "      <td>gas</td>\n",
       "      <td>convertible</td>\n",
       "      <td>rwd</td>\n",
       "      <td>front</td>\n",
       "      <td>64.1</td>\n",
       "      <td>48.8</td>\n",
       "      <td>dohc</td>\n",
       "      <td>130</td>\n",
       "      <td>111</td>\n",
       "      <td>21</td>\n",
       "      <td>27</td>\n",
       "      <td>13495</td>\n",
       "    </tr>\n",
       "    <tr>\n",
       "      <th>1</th>\n",
       "      <td>3</td>\n",
       "      <td>NaN</td>\n",
       "      <td>alfa-romero</td>\n",
       "      <td>gas</td>\n",
       "      <td>convertible</td>\n",
       "      <td>rwd</td>\n",
       "      <td>front</td>\n",
       "      <td>64.1</td>\n",
       "      <td>48.8</td>\n",
       "      <td>dohc</td>\n",
       "      <td>130</td>\n",
       "      <td>111</td>\n",
       "      <td>21</td>\n",
       "      <td>27</td>\n",
       "      <td>16500</td>\n",
       "    </tr>\n",
       "    <tr>\n",
       "      <th>2</th>\n",
       "      <td>1</td>\n",
       "      <td>NaN</td>\n",
       "      <td>alfa-romero</td>\n",
       "      <td>gas</td>\n",
       "      <td>hatchback</td>\n",
       "      <td>rwd</td>\n",
       "      <td>front</td>\n",
       "      <td>65.5</td>\n",
       "      <td>52.4</td>\n",
       "      <td>ohcv</td>\n",
       "      <td>152</td>\n",
       "      <td>154</td>\n",
       "      <td>19</td>\n",
       "      <td>26</td>\n",
       "      <td>16500</td>\n",
       "    </tr>\n",
       "    <tr>\n",
       "      <th>3</th>\n",
       "      <td>2</td>\n",
       "      <td>164</td>\n",
       "      <td>audi</td>\n",
       "      <td>gas</td>\n",
       "      <td>sedan</td>\n",
       "      <td>fwd</td>\n",
       "      <td>front</td>\n",
       "      <td>66.2</td>\n",
       "      <td>54.3</td>\n",
       "      <td>ohc</td>\n",
       "      <td>109</td>\n",
       "      <td>102</td>\n",
       "      <td>24</td>\n",
       "      <td>30</td>\n",
       "      <td>13950</td>\n",
       "    </tr>\n",
       "    <tr>\n",
       "      <th>4</th>\n",
       "      <td>2</td>\n",
       "      <td>164</td>\n",
       "      <td>audi</td>\n",
       "      <td>gas</td>\n",
       "      <td>sedan</td>\n",
       "      <td>4wd</td>\n",
       "      <td>front</td>\n",
       "      <td>66.4</td>\n",
       "      <td>54.3</td>\n",
       "      <td>ohc</td>\n",
       "      <td>136</td>\n",
       "      <td>115</td>\n",
       "      <td>18</td>\n",
       "      <td>22</td>\n",
       "      <td>17450</td>\n",
       "    </tr>\n",
       "    <tr>\n",
       "      <th>...</th>\n",
       "      <td>...</td>\n",
       "      <td>...</td>\n",
       "      <td>...</td>\n",
       "      <td>...</td>\n",
       "      <td>...</td>\n",
       "      <td>...</td>\n",
       "      <td>...</td>\n",
       "      <td>...</td>\n",
       "      <td>...</td>\n",
       "      <td>...</td>\n",
       "      <td>...</td>\n",
       "      <td>...</td>\n",
       "      <td>...</td>\n",
       "      <td>...</td>\n",
       "      <td>...</td>\n",
       "    </tr>\n",
       "    <tr>\n",
       "      <th>200</th>\n",
       "      <td>-1</td>\n",
       "      <td>95</td>\n",
       "      <td>volvo</td>\n",
       "      <td>gas</td>\n",
       "      <td>sedan</td>\n",
       "      <td>rwd</td>\n",
       "      <td>front</td>\n",
       "      <td>68.9</td>\n",
       "      <td>55.5</td>\n",
       "      <td>ohc</td>\n",
       "      <td>141</td>\n",
       "      <td>114</td>\n",
       "      <td>23</td>\n",
       "      <td>28</td>\n",
       "      <td>16845</td>\n",
       "    </tr>\n",
       "    <tr>\n",
       "      <th>201</th>\n",
       "      <td>-1</td>\n",
       "      <td>95</td>\n",
       "      <td>volvo</td>\n",
       "      <td>gas</td>\n",
       "      <td>sedan</td>\n",
       "      <td>rwd</td>\n",
       "      <td>front</td>\n",
       "      <td>68.8</td>\n",
       "      <td>55.5</td>\n",
       "      <td>ohc</td>\n",
       "      <td>141</td>\n",
       "      <td>160</td>\n",
       "      <td>19</td>\n",
       "      <td>25</td>\n",
       "      <td>19045</td>\n",
       "    </tr>\n",
       "    <tr>\n",
       "      <th>202</th>\n",
       "      <td>-1</td>\n",
       "      <td>95</td>\n",
       "      <td>volvo</td>\n",
       "      <td>gas</td>\n",
       "      <td>sedan</td>\n",
       "      <td>rwd</td>\n",
       "      <td>front</td>\n",
       "      <td>68.9</td>\n",
       "      <td>55.5</td>\n",
       "      <td>ohcv</td>\n",
       "      <td>173</td>\n",
       "      <td>134</td>\n",
       "      <td>18</td>\n",
       "      <td>23</td>\n",
       "      <td>21485</td>\n",
       "    </tr>\n",
       "    <tr>\n",
       "      <th>203</th>\n",
       "      <td>-1</td>\n",
       "      <td>95</td>\n",
       "      <td>volvo</td>\n",
       "      <td>diesel</td>\n",
       "      <td>sedan</td>\n",
       "      <td>rwd</td>\n",
       "      <td>front</td>\n",
       "      <td>68.9</td>\n",
       "      <td>55.5</td>\n",
       "      <td>ohc</td>\n",
       "      <td>145</td>\n",
       "      <td>106</td>\n",
       "      <td>26</td>\n",
       "      <td>27</td>\n",
       "      <td>22470</td>\n",
       "    </tr>\n",
       "    <tr>\n",
       "      <th>204</th>\n",
       "      <td>-1</td>\n",
       "      <td>95</td>\n",
       "      <td>volvo</td>\n",
       "      <td>gas</td>\n",
       "      <td>sedan</td>\n",
       "      <td>rwd</td>\n",
       "      <td>front</td>\n",
       "      <td>68.9</td>\n",
       "      <td>55.5</td>\n",
       "      <td>ohc</td>\n",
       "      <td>141</td>\n",
       "      <td>114</td>\n",
       "      <td>19</td>\n",
       "      <td>25</td>\n",
       "      <td>22625</td>\n",
       "    </tr>\n",
       "  </tbody>\n",
       "</table>\n",
       "<p>205 rows × 15 columns</p>\n",
       "</div>"
      ],
      "text/plain": [
       "     symboling normalized-losses         make fuel-type   body-style  \\\n",
       "0            3               NaN  alfa-romero       gas  convertible   \n",
       "1            3               NaN  alfa-romero       gas  convertible   \n",
       "2            1               NaN  alfa-romero       gas    hatchback   \n",
       "3            2               164         audi       gas        sedan   \n",
       "4            2               164         audi       gas        sedan   \n",
       "..         ...               ...          ...       ...          ...   \n",
       "200         -1                95        volvo       gas        sedan   \n",
       "201         -1                95        volvo       gas        sedan   \n",
       "202         -1                95        volvo       gas        sedan   \n",
       "203         -1                95        volvo    diesel        sedan   \n",
       "204         -1                95        volvo       gas        sedan   \n",
       "\n",
       "    drive-wheels engine-location  width  height engine-type  engine-size  \\\n",
       "0            rwd           front   64.1    48.8        dohc          130   \n",
       "1            rwd           front   64.1    48.8        dohc          130   \n",
       "2            rwd           front   65.5    52.4        ohcv          152   \n",
       "3            fwd           front   66.2    54.3         ohc          109   \n",
       "4            4wd           front   66.4    54.3         ohc          136   \n",
       "..           ...             ...    ...     ...         ...          ...   \n",
       "200          rwd           front   68.9    55.5         ohc          141   \n",
       "201          rwd           front   68.8    55.5         ohc          141   \n",
       "202          rwd           front   68.9    55.5        ohcv          173   \n",
       "203          rwd           front   68.9    55.5         ohc          145   \n",
       "204          rwd           front   68.9    55.5         ohc          141   \n",
       "\n",
       "    horsepower  city-mpg  highway-mpg  price  \n",
       "0          111        21           27  13495  \n",
       "1          111        21           27  16500  \n",
       "2          154        19           26  16500  \n",
       "3          102        24           30  13950  \n",
       "4          115        18           22  17450  \n",
       "..         ...       ...          ...    ...  \n",
       "200        114        23           28  16845  \n",
       "201        160        19           25  19045  \n",
       "202        134        18           23  21485  \n",
       "203        106        26           27  22470  \n",
       "204        114        19           25  22625  \n",
       "\n",
       "[205 rows x 15 columns]"
      ]
     },
     "execution_count": 9,
     "metadata": {},
     "output_type": "execute_result"
    }
   ],
   "source": [
    "df"
   ]
  },
  {
   "cell_type": "code",
   "execution_count": 10,
   "id": "b814233c",
   "metadata": {
    "ExecuteTime": {
     "end_time": "2023-10-12T08:05:11.259478Z",
     "start_time": "2023-10-12T08:05:11.232529Z"
    }
   },
   "outputs": [
    {
     "data": {
      "text/plain": [
       "symboling              int64\n",
       "normalized-losses     object\n",
       "make                  object\n",
       "fuel-type             object\n",
       "body-style            object\n",
       "drive-wheels          object\n",
       "engine-location       object\n",
       "width                float64\n",
       "height               float64\n",
       "engine-type           object\n",
       "engine-size            int64\n",
       "horsepower            object\n",
       "city-mpg               int64\n",
       "highway-mpg            int64\n",
       "price                  int64\n",
       "dtype: object"
      ]
     },
     "execution_count": 10,
     "metadata": {},
     "output_type": "execute_result"
    }
   ],
   "source": [
    "df.dtypes"
   ]
  },
  {
   "cell_type": "code",
   "execution_count": 12,
   "id": "5a7ddc5a",
   "metadata": {
    "ExecuteTime": {
     "end_time": "2023-10-12T08:05:33.923039Z",
     "start_time": "2023-10-12T08:05:32.900273Z"
    },
    "collapsed": true
   },
   "outputs": [
    {
     "data": {
      "text/plain": [
       "array([[<AxesSubplot:title={'center':'symboling'}>,\n",
       "        <AxesSubplot:title={'center':'width'}>,\n",
       "        <AxesSubplot:title={'center':'height'}>],\n",
       "       [<AxesSubplot:title={'center':'engine-size'}>,\n",
       "        <AxesSubplot:title={'center':'city-mpg'}>,\n",
       "        <AxesSubplot:title={'center':'highway-mpg'}>],\n",
       "       [<AxesSubplot:title={'center':'price'}>, <AxesSubplot:>,\n",
       "        <AxesSubplot:>]], dtype=object)"
      ]
     },
     "execution_count": 12,
     "metadata": {},
     "output_type": "execute_result"
    },
    {
     "data": {
      "image/png": "[encoded data removed]",
      "text/plain": [
       "<Figure size 640x480 with 9 Axes>"
      ]
     },
     "metadata": {},
     "output_type": "display_data"
    }
   ],
   "source": [
    "df.hist()"
   ]
  },
  {
   "cell_type": "code",
   "execution_count": 13,
   "id": "0723084a",
   "metadata": {
    "ExecuteTime": {
     "end_time": "2023-10-12T08:06:27.806677Z",
     "start_time": "2023-10-12T08:06:27.793637Z"
    }
   },
   "outputs": [],
   "source": [
    "si = SimpleImputer(strategy='median')"
   ]
  },
  {
   "cell_type": "code",
   "execution_count": 14,
   "id": "2061548a",
   "metadata": {
    "ExecuteTime": {
     "end_time": "2023-10-12T08:06:30.247081Z",
     "start_time": "2023-10-12T08:06:30.229315Z"
    }
   },
   "outputs": [
    {
     "data": {
      "text/html": [
       "<div>\n",
       "<style scoped>\n",
       "    .dataframe tbody tr th:only-of-type {\n",
       "        vertical-align: middle;\n",
       "    }\n",
       "\n",
       "    .dataframe tbody tr th {\n",
       "        vertical-align: top;\n",
       "    }\n",
       "\n",
       "    .dataframe thead th {\n",
       "        text-align: right;\n",
       "    }\n",
       "</style>\n",
       "<table border=\"1\" class=\"dataframe\">\n",
       "  <thead>\n",
       "    <tr style=\"text-align: right;\">\n",
       "      <th></th>\n",
       "      <th>normalized-losses</th>\n",
       "      <th>horsepower</th>\n",
       "    </tr>\n",
       "  </thead>\n",
       "  <tbody>\n",
       "    <tr>\n",
       "      <th>0</th>\n",
       "      <td>NaN</td>\n",
       "      <td>111</td>\n",
       "    </tr>\n",
       "    <tr>\n",
       "      <th>1</th>\n",
       "      <td>NaN</td>\n",
       "      <td>111</td>\n",
       "    </tr>\n",
       "    <tr>\n",
       "      <th>2</th>\n",
       "      <td>NaN</td>\n",
       "      <td>154</td>\n",
       "    </tr>\n",
       "    <tr>\n",
       "      <th>3</th>\n",
       "      <td>164</td>\n",
       "      <td>102</td>\n",
       "    </tr>\n",
       "    <tr>\n",
       "      <th>4</th>\n",
       "      <td>164</td>\n",
       "      <td>115</td>\n",
       "    </tr>\n",
       "    <tr>\n",
       "      <th>...</th>\n",
       "      <td>...</td>\n",
       "      <td>...</td>\n",
       "    </tr>\n",
       "    <tr>\n",
       "      <th>200</th>\n",
       "      <td>95</td>\n",
       "      <td>114</td>\n",
       "    </tr>\n",
       "    <tr>\n",
       "      <th>201</th>\n",
       "      <td>95</td>\n",
       "      <td>160</td>\n",
       "    </tr>\n",
       "    <tr>\n",
       "      <th>202</th>\n",
       "      <td>95</td>\n",
       "      <td>134</td>\n",
       "    </tr>\n",
       "    <tr>\n",
       "      <th>203</th>\n",
       "      <td>95</td>\n",
       "      <td>106</td>\n",
       "    </tr>\n",
       "    <tr>\n",
       "      <th>204</th>\n",
       "      <td>95</td>\n",
       "      <td>114</td>\n",
       "    </tr>\n",
       "  </tbody>\n",
       "</table>\n",
       "<p>205 rows × 2 columns</p>\n",
       "</div>"
      ],
      "text/plain": [
       "    normalized-losses horsepower\n",
       "0                 NaN        111\n",
       "1                 NaN        111\n",
       "2                 NaN        154\n",
       "3                 164        102\n",
       "4                 164        115\n",
       "..                ...        ...\n",
       "200                95        114\n",
       "201                95        160\n",
       "202                95        134\n",
       "203                95        106\n",
       "204                95        114\n",
       "\n",
       "[205 rows x 2 columns]"
      ]
     },
     "execution_count": 14,
     "metadata": {},
     "output_type": "execute_result"
    }
   ],
   "source": [
    "df.iloc[:,[1,11]]"
   ]
  },
  {
   "cell_type": "code",
   "execution_count": 15,
   "id": "21586706",
   "metadata": {
    "ExecuteTime": {
     "end_time": "2023-10-12T08:07:52.002786Z",
     "start_time": "2023-10-12T08:07:51.988631Z"
    }
   },
   "outputs": [],
   "source": [
    "df.iloc[:,[1,11]] = si.fit_transform(df.iloc[:,[1,11]])"
   ]
  },
  {
   "cell_type": "code",
   "execution_count": 16,
   "id": "17177c7d",
   "metadata": {
    "ExecuteTime": {
     "end_time": "2023-10-12T08:07:53.325792Z",
     "start_time": "2023-10-12T08:07:53.298760Z"
    }
   },
   "outputs": [
    {
     "data": {
      "text/plain": [
       "symboling            0\n",
       "normalized-losses    0\n",
       "make                 0\n",
       "fuel-type            0\n",
       "body-style           0\n",
       "drive-wheels         0\n",
       "engine-location      0\n",
       "width                0\n",
       "height               0\n",
       "engine-type          0\n",
       "engine-size          0\n",
       "horsepower           0\n",
       "city-mpg             0\n",
       "highway-mpg          0\n",
       "price                0\n",
       "dtype: int64"
      ]
     },
     "execution_count": 16,
     "metadata": {},
     "output_type": "execute_result"
    }
   ],
   "source": [
    "df.isna().sum()"
   ]
  },
  {
   "cell_type": "code",
   "execution_count": 17,
   "id": "5f2c80d2",
   "metadata": {
    "ExecuteTime": {
     "end_time": "2023-10-12T08:07:59.823918Z",
     "start_time": "2023-10-12T08:07:59.772202Z"
    }
   },
   "outputs": [
    {
     "data": {
      "text/html": [
       "<div>\n",
       "<style scoped>\n",
       "    .dataframe tbody tr th:only-of-type {\n",
       "        vertical-align: middle;\n",
       "    }\n",
       "\n",
       "    .dataframe tbody tr th {\n",
       "        vertical-align: top;\n",
       "    }\n",
       "\n",
       "    .dataframe thead th {\n",
       "        text-align: right;\n",
       "    }\n",
       "</style>\n",
       "<table border=\"1\" class=\"dataframe\">\n",
       "  <thead>\n",
       "    <tr style=\"text-align: right;\">\n",
       "      <th></th>\n",
       "      <th>symboling</th>\n",
       "      <th>normalized-losses</th>\n",
       "      <th>make</th>\n",
       "      <th>fuel-type</th>\n",
       "      <th>body-style</th>\n",
       "      <th>drive-wheels</th>\n",
       "      <th>engine-location</th>\n",
       "      <th>width</th>\n",
       "      <th>height</th>\n",
       "      <th>engine-type</th>\n",
       "      <th>engine-size</th>\n",
       "      <th>horsepower</th>\n",
       "      <th>city-mpg</th>\n",
       "      <th>highway-mpg</th>\n",
       "      <th>price</th>\n",
       "    </tr>\n",
       "  </thead>\n",
       "  <tbody>\n",
       "    <tr>\n",
       "      <th>0</th>\n",
       "      <td>3</td>\n",
       "      <td>115.0</td>\n",
       "      <td>alfa-romero</td>\n",
       "      <td>gas</td>\n",
       "      <td>convertible</td>\n",
       "      <td>rwd</td>\n",
       "      <td>front</td>\n",
       "      <td>64.1</td>\n",
       "      <td>48.8</td>\n",
       "      <td>dohc</td>\n",
       "      <td>130</td>\n",
       "      <td>111.0</td>\n",
       "      <td>21</td>\n",
       "      <td>27</td>\n",
       "      <td>13495</td>\n",
       "    </tr>\n",
       "    <tr>\n",
       "      <th>1</th>\n",
       "      <td>3</td>\n",
       "      <td>115.0</td>\n",
       "      <td>alfa-romero</td>\n",
       "      <td>gas</td>\n",
       "      <td>convertible</td>\n",
       "      <td>rwd</td>\n",
       "      <td>front</td>\n",
       "      <td>64.1</td>\n",
       "      <td>48.8</td>\n",
       "      <td>dohc</td>\n",
       "      <td>130</td>\n",
       "      <td>111.0</td>\n",
       "      <td>21</td>\n",
       "      <td>27</td>\n",
       "      <td>16500</td>\n",
       "    </tr>\n",
       "    <tr>\n",
       "      <th>2</th>\n",
       "      <td>1</td>\n",
       "      <td>115.0</td>\n",
       "      <td>alfa-romero</td>\n",
       "      <td>gas</td>\n",
       "      <td>hatchback</td>\n",
       "      <td>rwd</td>\n",
       "      <td>front</td>\n",
       "      <td>65.5</td>\n",
       "      <td>52.4</td>\n",
       "      <td>ohcv</td>\n",
       "      <td>152</td>\n",
       "      <td>154.0</td>\n",
       "      <td>19</td>\n",
       "      <td>26</td>\n",
       "      <td>16500</td>\n",
       "    </tr>\n",
       "    <tr>\n",
       "      <th>3</th>\n",
       "      <td>2</td>\n",
       "      <td>164.0</td>\n",
       "      <td>audi</td>\n",
       "      <td>gas</td>\n",
       "      <td>sedan</td>\n",
       "      <td>fwd</td>\n",
       "      <td>front</td>\n",
       "      <td>66.2</td>\n",
       "      <td>54.3</td>\n",
       "      <td>ohc</td>\n",
       "      <td>109</td>\n",
       "      <td>102.0</td>\n",
       "      <td>24</td>\n",
       "      <td>30</td>\n",
       "      <td>13950</td>\n",
       "    </tr>\n",
       "    <tr>\n",
       "      <th>4</th>\n",
       "      <td>2</td>\n",
       "      <td>164.0</td>\n",
       "      <td>audi</td>\n",
       "      <td>gas</td>\n",
       "      <td>sedan</td>\n",
       "      <td>4wd</td>\n",
       "      <td>front</td>\n",
       "      <td>66.4</td>\n",
       "      <td>54.3</td>\n",
       "      <td>ohc</td>\n",
       "      <td>136</td>\n",
       "      <td>115.0</td>\n",
       "      <td>18</td>\n",
       "      <td>22</td>\n",
       "      <td>17450</td>\n",
       "    </tr>\n",
       "    <tr>\n",
       "      <th>...</th>\n",
       "      <td>...</td>\n",
       "      <td>...</td>\n",
       "      <td>...</td>\n",
       "      <td>...</td>\n",
       "      <td>...</td>\n",
       "      <td>...</td>\n",
       "      <td>...</td>\n",
       "      <td>...</td>\n",
       "      <td>...</td>\n",
       "      <td>...</td>\n",
       "      <td>...</td>\n",
       "      <td>...</td>\n",
       "      <td>...</td>\n",
       "      <td>...</td>\n",
       "      <td>...</td>\n",
       "    </tr>\n",
       "    <tr>\n",
       "      <th>200</th>\n",
       "      <td>-1</td>\n",
       "      <td>95.0</td>\n",
       "      <td>volvo</td>\n",
       "      <td>gas</td>\n",
       "      <td>sedan</td>\n",
       "      <td>rwd</td>\n",
       "      <td>front</td>\n",
       "      <td>68.9</td>\n",
       "      <td>55.5</td>\n",
       "      <td>ohc</td>\n",
       "      <td>141</td>\n",
       "      <td>114.0</td>\n",
       "      <td>23</td>\n",
       "      <td>28</td>\n",
       "      <td>16845</td>\n",
       "    </tr>\n",
       "    <tr>\n",
       "      <th>201</th>\n",
       "      <td>-1</td>\n",
       "      <td>95.0</td>\n",
       "      <td>volvo</td>\n",
       "      <td>gas</td>\n",
       "      <td>sedan</td>\n",
       "      <td>rwd</td>\n",
       "      <td>front</td>\n",
       "      <td>68.8</td>\n",
       "      <td>55.5</td>\n",
       "      <td>ohc</td>\n",
       "      <td>141</td>\n",
       "      <td>160.0</td>\n",
       "      <td>19</td>\n",
       "      <td>25</td>\n",
       "      <td>19045</td>\n",
       "    </tr>\n",
       "    <tr>\n",
       "      <th>202</th>\n",
       "      <td>-1</td>\n",
       "      <td>95.0</td>\n",
       "      <td>volvo</td>\n",
       "      <td>gas</td>\n",
       "      <td>sedan</td>\n",
       "      <td>rwd</td>\n",
       "      <td>front</td>\n",
       "      <td>68.9</td>\n",
       "      <td>55.5</td>\n",
       "      <td>ohcv</td>\n",
       "      <td>173</td>\n",
       "      <td>134.0</td>\n",
       "      <td>18</td>\n",
       "      <td>23</td>\n",
       "      <td>21485</td>\n",
       "    </tr>\n",
       "    <tr>\n",
       "      <th>203</th>\n",
       "      <td>-1</td>\n",
       "      <td>95.0</td>\n",
       "      <td>volvo</td>\n",
       "      <td>diesel</td>\n",
       "      <td>sedan</td>\n",
       "      <td>rwd</td>\n",
       "      <td>front</td>\n",
       "      <td>68.9</td>\n",
       "      <td>55.5</td>\n",
       "      <td>ohc</td>\n",
       "      <td>145</td>\n",
       "      <td>106.0</td>\n",
       "      <td>26</td>\n",
       "      <td>27</td>\n",
       "      <td>22470</td>\n",
       "    </tr>\n",
       "    <tr>\n",
       "      <th>204</th>\n",
       "      <td>-1</td>\n",
       "      <td>95.0</td>\n",
       "      <td>volvo</td>\n",
       "      <td>gas</td>\n",
       "      <td>sedan</td>\n",
       "      <td>rwd</td>\n",
       "      <td>front</td>\n",
       "      <td>68.9</td>\n",
       "      <td>55.5</td>\n",
       "      <td>ohc</td>\n",
       "      <td>141</td>\n",
       "      <td>114.0</td>\n",
       "      <td>19</td>\n",
       "      <td>25</td>\n",
       "      <td>22625</td>\n",
       "    </tr>\n",
       "  </tbody>\n",
       "</table>\n",
       "<p>205 rows × 15 columns</p>\n",
       "</div>"
      ],
      "text/plain": [
       "     symboling  normalized-losses         make fuel-type   body-style  \\\n",
       "0            3              115.0  alfa-romero       gas  convertible   \n",
       "1            3              115.0  alfa-romero       gas  convertible   \n",
       "2            1              115.0  alfa-romero       gas    hatchback   \n",
       "3            2              164.0         audi       gas        sedan   \n",
       "4            2              164.0         audi       gas        sedan   \n",
       "..         ...                ...          ...       ...          ...   \n",
       "200         -1               95.0        volvo       gas        sedan   \n",
       "201         -1               95.0        volvo       gas        sedan   \n",
       "202         -1               95.0        volvo       gas        sedan   \n",
       "203         -1               95.0        volvo    diesel        sedan   \n",
       "204         -1               95.0        volvo       gas        sedan   \n",
       "\n",
       "    drive-wheels engine-location  width  height engine-type  engine-size  \\\n",
       "0            rwd           front   64.1    48.8        dohc          130   \n",
       "1            rwd           front   64.1    48.8        dohc          130   \n",
       "2            rwd           front   65.5    52.4        ohcv          152   \n",
       "3            fwd           front   66.2    54.3         ohc          109   \n",
       "4            4wd           front   66.4    54.3         ohc          136   \n",
       "..           ...             ...    ...     ...         ...          ...   \n",
       "200          rwd           front   68.9    55.5         ohc          141   \n",
       "201          rwd           front   68.8    55.5         ohc          141   \n",
       "202          rwd           front   68.9    55.5        ohcv          173   \n",
       "203          rwd           front   68.9    55.5         ohc          145   \n",
       "204          rwd           front   68.9    55.5         ohc          141   \n",
       "\n",
       "     horsepower  city-mpg  highway-mpg  price  \n",
       "0         111.0        21           27  13495  \n",
       "1         111.0        21           27  16500  \n",
       "2         154.0        19           26  16500  \n",
       "3         102.0        24           30  13950  \n",
       "4         115.0        18           22  17450  \n",
       "..          ...       ...          ...    ...  \n",
       "200       114.0        23           28  16845  \n",
       "201       160.0        19           25  19045  \n",
       "202       134.0        18           23  21485  \n",
       "203       106.0        26           27  22470  \n",
       "204       114.0        19           25  22625  \n",
       "\n",
       "[205 rows x 15 columns]"
      ]
     },
     "execution_count": 17,
     "metadata": {},
     "output_type": "execute_result"
    }
   ],
   "source": [
    "df"
   ]
  },
  {
   "cell_type": "code",
   "execution_count": 19,
   "id": "f9275648",
   "metadata": {
    "ExecuteTime": {
     "end_time": "2023-10-12T08:13:10.056049Z",
     "start_time": "2023-10-12T08:13:10.023398Z"
    }
   },
   "outputs": [
    {
     "data": {
      "text/html": [
       "<div>\n",
       "<style scoped>\n",
       "    .dataframe tbody tr th:only-of-type {\n",
       "        vertical-align: middle;\n",
       "    }\n",
       "\n",
       "    .dataframe tbody tr th {\n",
       "        vertical-align: top;\n",
       "    }\n",
       "\n",
       "    .dataframe thead th {\n",
       "        text-align: right;\n",
       "    }\n",
       "</style>\n",
       "<table border=\"1\" class=\"dataframe\">\n",
       "  <thead>\n",
       "    <tr style=\"text-align: right;\">\n",
       "      <th></th>\n",
       "      <th>symboling</th>\n",
       "      <th>normalized-losses</th>\n",
       "      <th>width</th>\n",
       "      <th>height</th>\n",
       "      <th>engine-size</th>\n",
       "      <th>horsepower</th>\n",
       "      <th>city-mpg</th>\n",
       "      <th>highway-mpg</th>\n",
       "      <th>price</th>\n",
       "    </tr>\n",
       "  </thead>\n",
       "  <tbody>\n",
       "    <tr>\n",
       "      <th>0</th>\n",
       "      <td>3</td>\n",
       "      <td>115.0</td>\n",
       "      <td>64.1</td>\n",
       "      <td>48.8</td>\n",
       "      <td>130</td>\n",
       "      <td>111.0</td>\n",
       "      <td>21</td>\n",
       "      <td>27</td>\n",
       "      <td>13495</td>\n",
       "    </tr>\n",
       "    <tr>\n",
       "      <th>1</th>\n",
       "      <td>3</td>\n",
       "      <td>115.0</td>\n",
       "      <td>64.1</td>\n",
       "      <td>48.8</td>\n",
       "      <td>130</td>\n",
       "      <td>111.0</td>\n",
       "      <td>21</td>\n",
       "      <td>27</td>\n",
       "      <td>16500</td>\n",
       "    </tr>\n",
       "    <tr>\n",
       "      <th>2</th>\n",
       "      <td>1</td>\n",
       "      <td>115.0</td>\n",
       "      <td>65.5</td>\n",
       "      <td>52.4</td>\n",
       "      <td>152</td>\n",
       "      <td>154.0</td>\n",
       "      <td>19</td>\n",
       "      <td>26</td>\n",
       "      <td>16500</td>\n",
       "    </tr>\n",
       "    <tr>\n",
       "      <th>3</th>\n",
       "      <td>2</td>\n",
       "      <td>164.0</td>\n",
       "      <td>66.2</td>\n",
       "      <td>54.3</td>\n",
       "      <td>109</td>\n",
       "      <td>102.0</td>\n",
       "      <td>24</td>\n",
       "      <td>30</td>\n",
       "      <td>13950</td>\n",
       "    </tr>\n",
       "    <tr>\n",
       "      <th>4</th>\n",
       "      <td>2</td>\n",
       "      <td>164.0</td>\n",
       "      <td>66.4</td>\n",
       "      <td>54.3</td>\n",
       "      <td>136</td>\n",
       "      <td>115.0</td>\n",
       "      <td>18</td>\n",
       "      <td>22</td>\n",
       "      <td>17450</td>\n",
       "    </tr>\n",
       "    <tr>\n",
       "      <th>...</th>\n",
       "      <td>...</td>\n",
       "      <td>...</td>\n",
       "      <td>...</td>\n",
       "      <td>...</td>\n",
       "      <td>...</td>\n",
       "      <td>...</td>\n",
       "      <td>...</td>\n",
       "      <td>...</td>\n",
       "      <td>...</td>\n",
       "    </tr>\n",
       "    <tr>\n",
       "      <th>200</th>\n",
       "      <td>-1</td>\n",
       "      <td>95.0</td>\n",
       "      <td>68.9</td>\n",
       "      <td>55.5</td>\n",
       "      <td>141</td>\n",
       "      <td>114.0</td>\n",
       "      <td>23</td>\n",
       "      <td>28</td>\n",
       "      <td>16845</td>\n",
       "    </tr>\n",
       "    <tr>\n",
       "      <th>201</th>\n",
       "      <td>-1</td>\n",
       "      <td>95.0</td>\n",
       "      <td>68.8</td>\n",
       "      <td>55.5</td>\n",
       "      <td>141</td>\n",
       "      <td>160.0</td>\n",
       "      <td>19</td>\n",
       "      <td>25</td>\n",
       "      <td>19045</td>\n",
       "    </tr>\n",
       "    <tr>\n",
       "      <th>202</th>\n",
       "      <td>-1</td>\n",
       "      <td>95.0</td>\n",
       "      <td>68.9</td>\n",
       "      <td>55.5</td>\n",
       "      <td>173</td>\n",
       "      <td>134.0</td>\n",
       "      <td>18</td>\n",
       "      <td>23</td>\n",
       "      <td>21485</td>\n",
       "    </tr>\n",
       "    <tr>\n",
       "      <th>203</th>\n",
       "      <td>-1</td>\n",
       "      <td>95.0</td>\n",
       "      <td>68.9</td>\n",
       "      <td>55.5</td>\n",
       "      <td>145</td>\n",
       "      <td>106.0</td>\n",
       "      <td>26</td>\n",
       "      <td>27</td>\n",
       "      <td>22470</td>\n",
       "    </tr>\n",
       "    <tr>\n",
       "      <th>204</th>\n",
       "      <td>-1</td>\n",
       "      <td>95.0</td>\n",
       "      <td>68.9</td>\n",
       "      <td>55.5</td>\n",
       "      <td>141</td>\n",
       "      <td>114.0</td>\n",
       "      <td>19</td>\n",
       "      <td>25</td>\n",
       "      <td>22625</td>\n",
       "    </tr>\n",
       "  </tbody>\n",
       "</table>\n",
       "<p>205 rows × 9 columns</p>\n",
       "</div>"
      ],
      "text/plain": [
       "     symboling  normalized-losses  width  height  engine-size  horsepower  \\\n",
       "0            3              115.0   64.1    48.8          130       111.0   \n",
       "1            3              115.0   64.1    48.8          130       111.0   \n",
       "2            1              115.0   65.5    52.4          152       154.0   \n",
       "3            2              164.0   66.2    54.3          109       102.0   \n",
       "4            2              164.0   66.4    54.3          136       115.0   \n",
       "..         ...                ...    ...     ...          ...         ...   \n",
       "200         -1               95.0   68.9    55.5          141       114.0   \n",
       "201         -1               95.0   68.8    55.5          141       160.0   \n",
       "202         -1               95.0   68.9    55.5          173       134.0   \n",
       "203         -1               95.0   68.9    55.5          145       106.0   \n",
       "204         -1               95.0   68.9    55.5          141       114.0   \n",
       "\n",
       "     city-mpg  highway-mpg  price  \n",
       "0          21           27  13495  \n",
       "1          21           27  16500  \n",
       "2          19           26  16500  \n",
       "3          24           30  13950  \n",
       "4          18           22  17450  \n",
       "..        ...          ...    ...  \n",
       "200        23           28  16845  \n",
       "201        19           25  19045  \n",
       "202        18           23  21485  \n",
       "203        26           27  22470  \n",
       "204        19           25  22625  \n",
       "\n",
       "[205 rows x 9 columns]"
      ]
     },
     "execution_count": 19,
     "metadata": {},
     "output_type": "execute_result"
    }
   ],
   "source": [
    "df.select_dtypes([int,float])"
   ]
  },
  {
   "cell_type": "code",
   "execution_count": 20,
   "id": "903d29a0",
   "metadata": {
    "ExecuteTime": {
     "end_time": "2023-10-12T08:13:50.707654Z",
     "start_time": "2023-10-12T08:13:50.692677Z"
    }
   },
   "outputs": [
    {
     "data": {
      "text/plain": [
       "Index(['make', 'fuel-type', 'body-style', 'drive-wheels', 'engine-location',\n",
       "       'engine-type'],\n",
       "      dtype='object')"
      ]
     },
     "execution_count": 20,
     "metadata": {},
     "output_type": "execute_result"
    }
   ],
   "source": [
    "cat_cols = df.select_dtypes(object).columns\n",
    "cat_cols"
   ]
  },
  {
   "cell_type": "code",
   "execution_count": 21,
   "id": "299f5b19",
   "metadata": {
    "ExecuteTime": {
     "end_time": "2023-10-12T08:16:29.433893Z",
     "start_time": "2023-10-12T08:16:29.419821Z"
    }
   },
   "outputs": [],
   "source": [
    "oe = OrdinalEncoder()\n",
    "\n",
    "df[cat_cols] = oe.fit_transform(df[cat_cols])"
   ]
  },
  {
   "cell_type": "code",
   "execution_count": 22,
   "id": "b1343ef2",
   "metadata": {
    "ExecuteTime": {
     "end_time": "2023-10-12T08:16:30.025810Z",
     "start_time": "2023-10-12T08:16:29.939738Z"
    }
   },
   "outputs": [
    {
     "data": {
      "text/html": [
       "<div>\n",
       "<style scoped>\n",
       "    .dataframe tbody tr th:only-of-type {\n",
       "        vertical-align: middle;\n",
       "    }\n",
       "\n",
       "    .dataframe tbody tr th {\n",
       "        vertical-align: top;\n",
       "    }\n",
       "\n",
       "    .dataframe thead th {\n",
       "        text-align: right;\n",
       "    }\n",
       "</style>\n",
       "<table border=\"1\" class=\"dataframe\">\n",
       "  <thead>\n",
       "    <tr style=\"text-align: right;\">\n",
       "      <th></th>\n",
       "      <th>symboling</th>\n",
       "      <th>normalized-losses</th>\n",
       "      <th>make</th>\n",
       "      <th>fuel-type</th>\n",
       "      <th>body-style</th>\n",
       "      <th>drive-wheels</th>\n",
       "      <th>engine-location</th>\n",
       "      <th>width</th>\n",
       "      <th>height</th>\n",
       "      <th>engine-type</th>\n",
       "      <th>engine-size</th>\n",
       "      <th>horsepower</th>\n",
       "      <th>city-mpg</th>\n",
       "      <th>highway-mpg</th>\n",
       "      <th>price</th>\n",
       "    </tr>\n",
       "  </thead>\n",
       "  <tbody>\n",
       "    <tr>\n",
       "      <th>0</th>\n",
       "      <td>3</td>\n",
       "      <td>115.0</td>\n",
       "      <td>0.0</td>\n",
       "      <td>1.0</td>\n",
       "      <td>0.0</td>\n",
       "      <td>2.0</td>\n",
       "      <td>0.0</td>\n",
       "      <td>64.1</td>\n",
       "      <td>48.8</td>\n",
       "      <td>0.0</td>\n",
       "      <td>130</td>\n",
       "      <td>111.0</td>\n",
       "      <td>21</td>\n",
       "      <td>27</td>\n",
       "      <td>13495</td>\n",
       "    </tr>\n",
       "    <tr>\n",
       "      <th>1</th>\n",
       "      <td>3</td>\n",
       "      <td>115.0</td>\n",
       "      <td>0.0</td>\n",
       "      <td>1.0</td>\n",
       "      <td>0.0</td>\n",
       "      <td>2.0</td>\n",
       "      <td>0.0</td>\n",
       "      <td>64.1</td>\n",
       "      <td>48.8</td>\n",
       "      <td>0.0</td>\n",
       "      <td>130</td>\n",
       "      <td>111.0</td>\n",
       "      <td>21</td>\n",
       "      <td>27</td>\n",
       "      <td>16500</td>\n",
       "    </tr>\n",
       "    <tr>\n",
       "      <th>2</th>\n",
       "      <td>1</td>\n",
       "      <td>115.0</td>\n",
       "      <td>0.0</td>\n",
       "      <td>1.0</td>\n",
       "      <td>2.0</td>\n",
       "      <td>2.0</td>\n",
       "      <td>0.0</td>\n",
       "      <td>65.5</td>\n",
       "      <td>52.4</td>\n",
       "      <td>5.0</td>\n",
       "      <td>152</td>\n",
       "      <td>154.0</td>\n",
       "      <td>19</td>\n",
       "      <td>26</td>\n",
       "      <td>16500</td>\n",
       "    </tr>\n",
       "    <tr>\n",
       "      <th>3</th>\n",
       "      <td>2</td>\n",
       "      <td>164.0</td>\n",
       "      <td>1.0</td>\n",
       "      <td>1.0</td>\n",
       "      <td>3.0</td>\n",
       "      <td>1.0</td>\n",
       "      <td>0.0</td>\n",
       "      <td>66.2</td>\n",
       "      <td>54.3</td>\n",
       "      <td>3.0</td>\n",
       "      <td>109</td>\n",
       "      <td>102.0</td>\n",
       "      <td>24</td>\n",
       "      <td>30</td>\n",
       "      <td>13950</td>\n",
       "    </tr>\n",
       "    <tr>\n",
       "      <th>4</th>\n",
       "      <td>2</td>\n",
       "      <td>164.0</td>\n",
       "      <td>1.0</td>\n",
       "      <td>1.0</td>\n",
       "      <td>3.0</td>\n",
       "      <td>0.0</td>\n",
       "      <td>0.0</td>\n",
       "      <td>66.4</td>\n",
       "      <td>54.3</td>\n",
       "      <td>3.0</td>\n",
       "      <td>136</td>\n",
       "      <td>115.0</td>\n",
       "      <td>18</td>\n",
       "      <td>22</td>\n",
       "      <td>17450</td>\n",
       "    </tr>\n",
       "    <tr>\n",
       "      <th>...</th>\n",
       "      <td>...</td>\n",
       "      <td>...</td>\n",
       "      <td>...</td>\n",
       "      <td>...</td>\n",
       "      <td>...</td>\n",
       "      <td>...</td>\n",
       "      <td>...</td>\n",
       "      <td>...</td>\n",
       "      <td>...</td>\n",
       "      <td>...</td>\n",
       "      <td>...</td>\n",
       "      <td>...</td>\n",
       "      <td>...</td>\n",
       "      <td>...</td>\n",
       "      <td>...</td>\n",
       "    </tr>\n",
       "    <tr>\n",
       "      <th>200</th>\n",
       "      <td>-1</td>\n",
       "      <td>95.0</td>\n",
       "      <td>21.0</td>\n",
       "      <td>1.0</td>\n",
       "      <td>3.0</td>\n",
       "      <td>2.0</td>\n",
       "      <td>0.0</td>\n",
       "      <td>68.9</td>\n",
       "      <td>55.5</td>\n",
       "      <td>3.0</td>\n",
       "      <td>141</td>\n",
       "      <td>114.0</td>\n",
       "      <td>23</td>\n",
       "      <td>28</td>\n",
       "      <td>16845</td>\n",
       "    </tr>\n",
       "    <tr>\n",
       "      <th>201</th>\n",
       "      <td>-1</td>\n",
       "      <td>95.0</td>\n",
       "      <td>21.0</td>\n",
       "      <td>1.0</td>\n",
       "      <td>3.0</td>\n",
       "      <td>2.0</td>\n",
       "      <td>0.0</td>\n",
       "      <td>68.8</td>\n",
       "      <td>55.5</td>\n",
       "      <td>3.0</td>\n",
       "      <td>141</td>\n",
       "      <td>160.0</td>\n",
       "      <td>19</td>\n",
       "      <td>25</td>\n",
       "      <td>19045</td>\n",
       "    </tr>\n",
       "    <tr>\n",
       "      <th>202</th>\n",
       "      <td>-1</td>\n",
       "      <td>95.0</td>\n",
       "      <td>21.0</td>\n",
       "      <td>1.0</td>\n",
       "      <td>3.0</td>\n",
       "      <td>2.0</td>\n",
       "      <td>0.0</td>\n",
       "      <td>68.9</td>\n",
       "      <td>55.5</td>\n",
       "      <td>5.0</td>\n",
       "      <td>173</td>\n",
       "      <td>134.0</td>\n",
       "      <td>18</td>\n",
       "      <td>23</td>\n",
       "      <td>21485</td>\n",
       "    </tr>\n",
       "    <tr>\n",
       "      <th>203</th>\n",
       "      <td>-1</td>\n",
       "      <td>95.0</td>\n",
       "      <td>21.0</td>\n",
       "      <td>0.0</td>\n",
       "      <td>3.0</td>\n",
       "      <td>2.0</td>\n",
       "      <td>0.0</td>\n",
       "      <td>68.9</td>\n",
       "      <td>55.5</td>\n",
       "      <td>3.0</td>\n",
       "      <td>145</td>\n",
       "      <td>106.0</td>\n",
       "      <td>26</td>\n",
       "      <td>27</td>\n",
       "      <td>22470</td>\n",
       "    </tr>\n",
       "    <tr>\n",
       "      <th>204</th>\n",
       "      <td>-1</td>\n",
       "      <td>95.0</td>\n",
       "      <td>21.0</td>\n",
       "      <td>1.0</td>\n",
       "      <td>3.0</td>\n",
       "      <td>2.0</td>\n",
       "      <td>0.0</td>\n",
       "      <td>68.9</td>\n",
       "      <td>55.5</td>\n",
       "      <td>3.0</td>\n",
       "      <td>141</td>\n",
       "      <td>114.0</td>\n",
       "      <td>19</td>\n",
       "      <td>25</td>\n",
       "      <td>22625</td>\n",
       "    </tr>\n",
       "  </tbody>\n",
       "</table>\n",
       "<p>205 rows × 15 columns</p>\n",
       "</div>"
      ],
      "text/plain": [
       "     symboling  normalized-losses  make  fuel-type  body-style  drive-wheels  \\\n",
       "0            3              115.0   0.0        1.0         0.0           2.0   \n",
       "1            3              115.0   0.0        1.0         0.0           2.0   \n",
       "2            1              115.0   0.0        1.0         2.0           2.0   \n",
       "3            2              164.0   1.0        1.0         3.0           1.0   \n",
       "4            2              164.0   1.0        1.0         3.0           0.0   \n",
       "..         ...                ...   ...        ...         ...           ...   \n",
       "200         -1               95.0  21.0        1.0         3.0           2.0   \n",
       "201         -1               95.0  21.0        1.0         3.0           2.0   \n",
       "202         -1               95.0  21.0        1.0         3.0           2.0   \n",
       "203         -1               95.0  21.0        0.0         3.0           2.0   \n",
       "204         -1               95.0  21.0        1.0         3.0           2.0   \n",
       "\n",
       "     engine-location  width  height  engine-type  engine-size  horsepower  \\\n",
       "0                0.0   64.1    48.8          0.0          130       111.0   \n",
       "1                0.0   64.1    48.8          0.0          130       111.0   \n",
       "2                0.0   65.5    52.4          5.0          152       154.0   \n",
       "3                0.0   66.2    54.3          3.0          109       102.0   \n",
       "4                0.0   66.4    54.3          3.0          136       115.0   \n",
       "..               ...    ...     ...          ...          ...         ...   \n",
       "200              0.0   68.9    55.5          3.0          141       114.0   \n",
       "201              0.0   68.8    55.5          3.0          141       160.0   \n",
       "202              0.0   68.9    55.5          5.0          173       134.0   \n",
       "203              0.0   68.9    55.5          3.0          145       106.0   \n",
       "204              0.0   68.9    55.5          3.0          141       114.0   \n",
       "\n",
       "     city-mpg  highway-mpg  price  \n",
       "0          21           27  13495  \n",
       "1          21           27  16500  \n",
       "2          19           26  16500  \n",
       "3          24           30  13950  \n",
       "4          18           22  17450  \n",
       "..        ...          ...    ...  \n",
       "200        23           28  16845  \n",
       "201        19           25  19045  \n",
       "202        18           23  21485  \n",
       "203        26           27  22470  \n",
       "204        19           25  22625  \n",
       "\n",
       "[205 rows x 15 columns]"
      ]
     },
     "execution_count": 22,
     "metadata": {},
     "output_type": "execute_result"
    }
   ],
   "source": [
    "df"
   ]
  },
  {
   "cell_type": "code",
   "execution_count": 23,
   "id": "f625f4be",
   "metadata": {
    "ExecuteTime": {
     "end_time": "2023-10-12T08:16:41.769665Z",
     "start_time": "2023-10-12T08:16:41.735680Z"
    }
   },
   "outputs": [
    {
     "data": {
      "text/plain": [
       "symboling              int64\n",
       "normalized-losses    float64\n",
       "make                 float64\n",
       "fuel-type            float64\n",
       "body-style           float64\n",
       "drive-wheels         float64\n",
       "engine-location      float64\n",
       "width                float64\n",
       "height               float64\n",
       "engine-type          float64\n",
       "engine-size            int64\n",
       "horsepower           float64\n",
       "city-mpg               int64\n",
       "highway-mpg            int64\n",
       "price                  int64\n",
       "dtype: object"
      ]
     },
     "execution_count": 23,
     "metadata": {},
     "output_type": "execute_result"
    }
   ],
   "source": [
    "df.dtypes"
   ]
  },
  {
   "cell_type": "markdown",
   "id": "3cddf13b",
   "metadata": {
    "ExecuteTime": {
     "end_time": "2023-05-02T08:29:05.381457Z",
     "start_time": "2023-05-02T08:29:05.372101Z"
    }
   },
   "source": [
    "# Model building"
   ]
  },
  {
   "cell_type": "code",
   "execution_count": 24,
   "id": "a87bd9ea",
   "metadata": {
    "ExecuteTime": {
     "end_time": "2023-10-12T08:18:40.068449Z",
     "start_time": "2023-10-12T08:18:40.042401Z"
    }
   },
   "outputs": [],
   "source": [
    "x = df.iloc[:,:-1]\n",
    "y = df['price']"
   ]
  },
  {
   "cell_type": "code",
   "execution_count": 25,
   "id": "18e15428",
   "metadata": {
    "ExecuteTime": {
     "end_time": "2023-10-12T08:18:42.594195Z",
     "start_time": "2023-10-12T08:18:42.576908Z"
    }
   },
   "outputs": [],
   "source": [
    "xtrain,xtest,ytrain,ytest = train_test_split(x,y,test_size=0.3, random_state=1)"
   ]
  },
  {
   "cell_type": "code",
   "execution_count": 26,
   "id": "d7ccad20",
   "metadata": {
    "ExecuteTime": {
     "end_time": "2023-10-12T08:19:07.051602Z",
     "start_time": "2023-10-12T08:19:06.927813Z"
    }
   },
   "outputs": [],
   "source": [
    "lr = LinearRegression()\n",
    "lr.fit(xtrain,ytrain)\n",
    "ypred = lr.predict(xtest)"
   ]
  },
  {
   "cell_type": "code",
   "execution_count": 27,
   "id": "6a8586f4",
   "metadata": {
    "ExecuteTime": {
     "end_time": "2023-10-12T08:19:50.116209Z",
     "start_time": "2023-10-12T08:19:50.090260Z"
    }
   },
   "outputs": [
    {
     "data": {
      "text/plain": [
       "-64935.1135797824"
      ]
     },
     "execution_count": 27,
     "metadata": {},
     "output_type": "execute_result"
    }
   ],
   "source": [
    "lr.intercept_"
   ]
  },
  {
   "cell_type": "code",
   "execution_count": 28,
   "id": "d36b194a",
   "metadata": {
    "ExecuteTime": {
     "end_time": "2023-10-12T08:19:58.973899Z",
     "start_time": "2023-10-12T08:19:58.944288Z"
    }
   },
   "outputs": [
    {
     "data": {
      "text/plain": [
       "array([ 5.71727164e+01,  4.76320989e-01, -2.01309566e+02, -6.22705136e+02,\n",
       "       -1.63712110e+02,  1.88863899e+03,  1.63884484e+04,  7.90632094e+02,\n",
       "        3.61221503e+02,  2.81207534e+02,  9.82290864e+01, -1.06474945e+01,\n",
       "        3.08435166e+02, -4.17126915e+02])"
      ]
     },
     "execution_count": 28,
     "metadata": {},
     "output_type": "execute_result"
    }
   ],
   "source": [
    "lr.coef_"
   ]
  },
  {
   "cell_type": "code",
   "execution_count": 29,
   "id": "d5a05315",
   "metadata": {
    "ExecuteTime": {
     "end_time": "2023-10-12T08:20:36.561314Z",
     "start_time": "2023-10-12T08:20:36.533081Z"
    },
    "scrolled": true
   },
   "outputs": [
    {
     "data": {
      "text/plain": [
       "(0.8504229026078213, 0.7964854785429523)"
      ]
     },
     "execution_count": 29,
     "metadata": {},
     "output_type": "execute_result"
    }
   ],
   "source": [
    "lr.score(xtrain,ytrain), lr.score(xtest,ytest)"
   ]
  },
  {
   "cell_type": "markdown",
   "id": "22f663f4",
   "metadata": {},
   "source": [
    "# Lasso"
   ]
  },
  {
   "cell_type": "code",
   "execution_count": 30,
   "id": "9f212ee3",
   "metadata": {
    "ExecuteTime": {
     "end_time": "2023-10-12T08:22:02.501278Z",
     "start_time": "2023-10-12T08:22:02.451857Z"
    }
   },
   "outputs": [
    {
     "data": {
      "text/plain": [
       "(0.8504215478243033, 0.7966615211575689)"
      ]
     },
     "execution_count": 30,
     "metadata": {},
     "output_type": "execute_result"
    }
   ],
   "source": [
    "l1 = Lasso()\n",
    "l1.fit(xtrain,ytrain)\n",
    "l1.score(xtrain,ytrain), l1.score(xtest,ytest)"
   ]
  },
  {
   "cell_type": "code",
   "execution_count": 31,
   "id": "dcba7239",
   "metadata": {
    "ExecuteTime": {
     "end_time": "2023-10-12T08:22:28.431049Z",
     "start_time": "2023-10-12T08:22:28.402394Z"
    }
   },
   "outputs": [
    {
     "data": {
      "text/plain": [
       "array([ 5.70766693e+01,  4.67141700e-01, -2.01139953e+02, -6.14206970e+02,\n",
       "       -1.64751649e+02,  1.88558824e+03,  1.63181959e+04,  7.88680118e+02,\n",
       "        3.61783500e+02,  2.81248690e+02,  9.83193653e+01, -1.05310631e+01,\n",
       "        3.07274772e+02, -4.15725804e+02])"
      ]
     },
     "execution_count": 31,
     "metadata": {},
     "output_type": "execute_result"
    }
   ],
   "source": [
    "l1.coef_"
   ]
  },
  {
   "cell_type": "markdown",
   "id": "96cf285a",
   "metadata": {},
   "source": [
    "# Hyperparameter Tuning"
   ]
  },
  {
   "cell_type": "code",
   "execution_count": 34,
   "id": "525fb9b9",
   "metadata": {
    "ExecuteTime": {
     "end_time": "2023-10-12T08:28:50.282283Z",
     "start_time": "2023-10-12T08:28:49.608406Z"
    },
    "scrolled": true
   },
   "outputs": [
    {
     "name": "stdout",
     "output_type": "stream",
     "text": [
      "Alpha: 100 Train : 0.8372483974026499 Test: 0.8092040910955615\n",
      "Alpha: 101 Train : 0.8369899229541409 Test: 0.8092979610738256\n",
      "Alpha: 102 Train : 0.8367288785613758 Test: 0.8093910017461713\n",
      "Alpha: 103 Train : 0.8364651676681871 Test: 0.8094832684251523\n",
      "Alpha: 104 Train : 0.8361989818307348 Test: 0.809574650362481\n",
      "Alpha: 105 Train : 0.8359302253870347 Test: 0.8096652035299013\n",
      "Alpha: 106 Train : 0.8356588978359675 Test: 0.8097549282309101\n",
      "Alpha: 107 Train : 0.8353849991129143 Test: 0.8098438245155561\n",
      "Alpha: 108 Train : 0.8351084257059384 Test: 0.8099319454841268\n",
      "Alpha: 109 Train : 0.8348293842179736 Test: 0.8100191840285436\n",
      "Alpha: 110 Train : 0.8345477714936768 Test: 0.8101055942385992\n",
      "Alpha: 111 Train : 0.8342635877040373 Test: 0.8101911760417996\n",
      "Alpha: 112 Train : 0.8339767222137543 Test: 0.8102759813628974\n",
      "Alpha: 113 Train : 0.8336873954613211 Test: 0.8103599056262563\n",
      "Alpha: 114 Train : 0.8333954973355284 Test: 0.8104430016665038\n",
      "Alpha: 115 Train : 0.8331010276993127 Test: 0.8105252695475362\n",
      "Alpha: 116 Train : 0.8328038691204882 Test: 0.8106067595950119\n",
      "Alpha: 117 Train : 0.8325042561318755 Test: 0.8106873701557592\n",
      "Alpha: 118 Train : 0.8322020717101931 Test: 0.8107671525374287\n",
      "Alpha: 119 Train : 0.8318973159092646 Test: 0.8108461067199921\n",
      "Alpha: 120 Train : 0.8315898643306087 Test: 0.8109242812985726\n",
      "Alpha: 121 Train : 0.8312799660294592 Test: 0.8110015778648528\n",
      "Alpha: 122 Train : 0.8309674969080169 Test: 0.8110780460553539\n",
      "Alpha: 123 Train : 0.8306523257994232 Test: 0.8111537336006445\n",
      "Alpha: 124 Train : 0.8303347149155726 Test: 0.8112285440004985\n",
      "Alpha: 125 Train : 0.8300145320017067 Test: 0.8113025265087273\n",
      "Alpha: 126 Train : 0.8296917792068185 Test: 0.8113756803829955\n",
      "Alpha: 127 Train : 0.8293663164754229 Test: 0.8114480518748997\n",
      "Alpha: 128 Train : 0.8290384195488705 Test: 0.8115195488665821\n",
      "Alpha: 129 Train : 0.8287079533571842 Test: 0.8115902170896445\n",
      "Alpha: 130 Train : 0.8283747703082013 Test: 0.8116601017520375\n",
      "Alpha: 131 Train : 0.8280391586533506 Test: 0.8117291135142942\n",
      "Alpha: 132 Train : 0.8277009785176215 Test: 0.8117972963383392\n",
      "Alpha: 133 Train : 0.8273600743513215 Test: 0.8118646943166661\n",
      "Alpha: 134 Train : 0.8270167519203321 Test: 0.811931219780706\n",
      "Alpha: 135 Train : 0.8266708579462199 Test: 0.8119969172586022\n",
      "Alpha: 136 Train : 0.8263223897906081 Test: 0.8120617874347755\n",
      "Alpha: 137 Train : 0.8259711936341725 Test: 0.8121258693292268\n",
      "Alpha: 138 Train : 0.8256175865009793 Test: 0.8121890813322454\n",
      "Alpha: 139 Train : 0.8252612405575874 Test: 0.8122515055400706\n",
      "Alpha: 140 Train : 0.8249024913515863 Test: 0.8123130602354285\n",
      "Alpha: 141 Train : 0.8245411708666053 Test: 0.8123737869230407\n",
      "Alpha: 142 Train : 0.8241771102161817 Test: 0.8124337227741055\n",
      "Alpha: 143 Train : 0.8238106530253966 Test: 0.8124927911020219\n",
      "Alpha: 144 Train : 0.8234416172134693 Test: 0.8125510330332\n",
      "Alpha: 145 Train : 0.8230698280784812 Test: 0.8126084835163166\n",
      "Alpha: 146 Train : 0.822695650335453 Test: 0.8126650681694728\n",
      "Alpha: 147 Train : 0.8223189013367542 Test: 0.8127208248289377\n",
      "Alpha: 148 Train : 0.8219393940513868 Test: 0.81277578760723\n",
      "Alpha: 149 Train : 0.8215575086176155 Test: 0.812829886091909\n",
      "Alpha: 150 Train : 0.8211730520262539 Test: 0.8128831566524961\n",
      "Alpha: 151 Train : 0.8207858295570519 Test: 0.8129356313528256\n",
      "Alpha: 152 Train : 0.8203962392797491 Test: 0.8129872435786125\n",
      "Alpha: 153 Train : 0.8200038659827095 Test: 0.8130380604531804\n",
      "Alpha: 154 Train : 0.8196091274468164 Test: 0.8130880167485962\n",
      "Alpha: 155 Train : 0.8192116048584221 Test: 0.8131371754207154\n",
      "Alpha: 156 Train : 0.8188117256012319 Test: 0.8131854746070425\n",
      "Alpha: 157 Train : 0.8184092752900354 Test: 0.8132329459427782\n",
      "Alpha: 158 Train : 0.8180040340448277 Test: 0.813279617108145\n",
      "Alpha: 159 Train : 0.8175964432833531 Test: 0.813325431392701\n",
      "Alpha: 160 Train : 0.8171860531186915 Test: 0.8133704442145949\n",
      "Alpha: 161 Train : 0.8167733221546687 Test: 0.8134146014856178\n",
      "Alpha: 162 Train : 0.8163577832181741 Test: 0.8134579558972019\n",
      "Alpha: 163 Train : 0.8159399130313314 Test: 0.813500456125974\n",
      "Alpha: 164 Train : 0.8155192326252294 Test: 0.813542151390936\n",
      "Alpha: 165 Train : 0.8150962240434019 Test: 0.8135829946288717\n",
      "Alpha: 166 Train : 0.8146706427093287 Test: 0.8136230103114316\n",
      "Alpha: 167 Train : 0.814242239042142 Test: 0.8136622185802582\n",
      "Alpha: 168 Train : 0.813811518415617 Test: 0.8137005774315417\n",
      "Alpha: 169 Train : 0.8133779670184814 Test: 0.8137381271523585\n",
      "Alpha: 170 Train : 0.812942107429732 Test: 0.8137748292356427\n",
      "Alpha: 171 Train : 0.8125034086683014 Test: 0.8138107203716056\n",
      "Alpha: 172 Train : 0.8120624104546714 Test: 0.8138457657584284\n",
      "Alpha: 173 Train : 0.811618564748458 Test: 0.8138799982828289\n",
      "Alpha: 174 Train : 0.8111721398138245 Test: 0.8139134011642211\n",
      "Alpha: 175 Train : 0.8107234361496892 Test: 0.8139459609474126\n",
      "Alpha: 176 Train : 0.8102718648859879 Test: 0.8139777051490645\n",
      "Alpha: 177 Train : 0.8098180239059947 Test: 0.8140086084473979\n",
      "Alpha: 178 Train : 0.8093613132661213 Test: 0.8140386937712966\n",
      "Alpha: 179 Train : 0.808902341338292 Test: 0.8140679405535108\n",
      "Alpha: 180 Train : 0.8084404898252787 Test: 0.8140963672263584\n",
      "Alpha: 181 Train : 0.8079760625391161 Test: 0.8141239640881855\n",
      "Alpha: 182 Train : 0.8075093897331425 Test: 0.8141507260035141\n",
      "Alpha: 183 Train : 0.807039816130038 Test: 0.8141766644353039\n",
      "Alpha: 184 Train : 0.8065680080542682 Test: 0.8142017704223898\n",
      "Alpha: 185 Train : 0.8060932933491101 Test: 0.8142260504255304\n",
      "Alpha: 186 Train : 0.8056160025244101 Test: 0.8142495005999418\n",
      "Alpha: 187 Train : 0.8051364964854258 Test: 0.8142721223415648\n",
      "Alpha: 188 Train : 0.8046540668179516 Test: 0.8142939142513763\n",
      "Alpha: 189 Train : 0.8041690622414062 Test: 0.814314876357193\n",
      "Alpha: 190 Train : 0.8036814832401015 Test: 0.8143350086553349\n",
      "Alpha: 191 Train : 0.8031917275605562 Test: 0.8143543185997577\n",
      "Alpha: 192 Train : 0.802699025870538 Test: 0.8143727932940247\n",
      "Alpha: 193 Train : 0.8022037529436445 Test: 0.8143904384269914\n",
      "Alpha: 194 Train : 0.801705909538015 Test: 0.8144072540570486\n",
      "Alpha: 195 Train : 0.8012054966196824 Test: 0.8144232402636585\n",
      "Alpha: 196 Train : 0.8007025151793871 Test: 0.8144383971441083\n",
      "Alpha: 197 Train : 0.8001973998845262 Test: 0.8144527419474972\n",
      "Alpha: 198 Train : 0.7996892947832841 Test: 0.8144662423958204\n",
      "Alpha: 199 Train : 0.7991786241960611 Test: 0.8144789139191481\n"
     ]
    }
   ],
   "source": [
    "for i in range(100,200):\n",
    "    l1 = Lasso(alpha=i)\n",
    "    l1.fit(xtrain,ytrain)\n",
    "    print(f\"Alpha: {i} Train : {l1.score(xtrain,ytrain)} Test: {l1.score(xtest,ytest)}\")"
   ]
  },
  {
   "cell_type": "code",
   "execution_count": 35,
   "id": "23a5fc19",
   "metadata": {
    "ExecuteTime": {
     "end_time": "2023-10-12T08:29:06.504118Z",
     "start_time": "2023-10-12T08:29:06.474698Z"
    },
    "collapsed": true
   },
   "outputs": [
    {
     "data": {
      "text/plain": [
       "(0.8107234361496892, 0.8139459609474126)"
      ]
     },
     "execution_count": 35,
     "metadata": {},
     "output_type": "execute_result"
    }
   ],
   "source": [
    "l1 = Lasso(alpha=175)\n",
    "l1.fit(xtrain,ytrain)\n",
    "l1.score(xtrain,ytrain), l1.score(xtest,ytest)"
   ]
  },
  {
   "cell_type": "code",
   "execution_count": 36,
   "id": "c885fa94",
   "metadata": {
    "ExecuteTime": {
     "end_time": "2023-10-12T08:29:46.471227Z",
     "start_time": "2023-10-12T08:29:46.451608Z"
    }
   },
   "outputs": [
    {
     "data": {
      "text/plain": [
       "array([  26.15091464,   -0.        , -173.02547787,   -0.        ,\n",
       "       -363.80743898, 1247.84193718, 3867.709301  ,  391.04314711,\n",
       "        451.57194036,  297.35122938,  113.32977728,   11.00742675,\n",
       "         70.90090498, -160.35202828])"
      ]
     },
     "execution_count": 36,
     "metadata": {},
     "output_type": "execute_result"
    }
   ],
   "source": [
    "l1.coef_"
   ]
  },
  {
   "cell_type": "markdown",
   "id": "ba2ef9c3",
   "metadata": {},
   "source": [
    "# Ridge "
   ]
  },
  {
   "cell_type": "code",
   "execution_count": 37,
   "id": "5ff790d5",
   "metadata": {
    "ExecuteTime": {
     "end_time": "2023-10-12T08:31:34.549542Z",
     "start_time": "2023-10-12T08:31:34.430300Z"
    }
   },
   "outputs": [
    {
     "data": {
      "text/plain": [
       "(0.8435840853399225, 0.8075632224690532)"
      ]
     },
     "execution_count": 37,
     "metadata": {},
     "output_type": "execute_result"
    }
   ],
   "source": [
    "l2 = Ridge()\n",
    "\n",
    "l2.fit(xtrain,ytrain)\n",
    "l2.score(xtrain,ytrain), l2.score(xtest,ytest)"
   ]
  },
  {
   "cell_type": "code",
   "execution_count": 38,
   "id": "01dbcfb9",
   "metadata": {
    "ExecuteTime": {
     "end_time": "2023-10-12T08:32:50.308497Z",
     "start_time": "2023-10-12T08:32:49.194802Z"
    },
    "scrolled": true
   },
   "outputs": [
    {
     "name": "stdout",
     "output_type": "stream",
     "text": [
      "Alpha: 1 Train: 0.8435840853399225 Test: 0.8075632224690532\n",
      "Alpha: 2 Train: 0.8356695734845094 Test: 0.8112192014374253\n",
      "Alpha: 3 Train: 0.8296379623431073 Test: 0.8129299663310143\n",
      "Alpha: 4 Train: 0.8250699092246865 Test: 0.8138839096972442\n",
      "Alpha: 5 Train: 0.8215093087765016 Test: 0.8144682684596011\n",
      "Alpha: 6 Train: 0.8186486103834848 Test: 0.814843562726523\n",
      "Alpha: 7 Train: 0.816288257302081 Test: 0.8150880725612083\n",
      "Alpha: 8 Train: 0.8142964263180523 Test: 0.815244730507158\n",
      "Alpha: 9 Train: 0.8125835227290971 Test: 0.8153392574436444\n",
      "Alpha: 10 Train: 0.8110868722186455 Test: 0.8153881483263247\n",
      "Alpha: 11 Train: 0.8097614513602517 Test: 0.8154025610279506\n",
      "Alpha: 12 Train: 0.8085741366835051 Test: 0.815390369370157\n",
      "Alpha: 13 Train: 0.8075000372738094 Test: 0.8153573212892009\n",
      "Alpha: 14 Train: 0.8065200924084595 Test: 0.8153077294072231\n",
      "Alpha: 15 Train: 0.8056194580416448 Test: 0.8152449025615432\n",
      "Alpha: 16 Train: 0.8047863980733031 Test: 0.815171426484327\n",
      "Alpha: 17 Train: 0.8040115065187472 Test: 0.8150893527689591\n",
      "Alpha: 18 Train: 0.8032871514648678 Test: 0.8150003299437459\n",
      "Alpha: 19 Train: 0.8026070707304608 Test: 0.8149056967781801\n",
      "Alpha: 20 Train: 0.8019660732378707 Test: 0.8148065502246253\n",
      "Alpha: 21 Train: 0.801359815307779 Test: 0.8147037958811019\n",
      "Alpha: 22 Train: 0.8007846308878106 Test: 0.8145981861304739\n",
      "Alpha: 23 Train: 0.8002374011637663 Test: 0.8144903494117506\n",
      "Alpha: 24 Train: 0.7997154533085167 Test: 0.8143808129927239\n",
      "Alpha: 25 Train: 0.7992164810518412 Test: 0.8142700209017137\n",
      "Alpha: 26 Train: 0.7987384817763887 Test: 0.8141583481999729\n",
      "Alpha: 27 Train: 0.7982797062609374 Test: 0.8140461124511116\n",
      "Alpha: 28 Train: 0.7978386181969568 Test: 0.8139335830177277\n",
      "Alpha: 29 Train: 0.7974138613263303 Test: 0.8138209886554859\n",
      "Alpha: 30 Train: 0.7970042325726074 Test: 0.8137085237599927\n",
      "Alpha: 31 Train: 0.7966086599233979 Test: 0.8135963535381272\n",
      "Alpha: 32 Train: 0.7962261841073037 Test: 0.8134846183137232\n",
      "Alpha: 33 Train: 0.7958559433227879 Test: 0.8133734371313505\n",
      "Alpha: 34 Train: 0.7954971604380747 Test: 0.8132629107871041\n",
      "Alpha: 35 Train: 0.7951491322043275 Test: 0.813153124388708\n",
      "Alpha: 36 Train: 0.7948112201189454 Test: 0.8130441495267424\n",
      "Alpha: 37 Train: 0.794482842648963 Test: 0.8129360461229017\n",
      "Alpha: 38 Train: 0.7941634685815295 Test: 0.8128288640086805\n",
      "Alpha: 39 Train: 0.7938526113131446 Test: 0.8127226442780504\n",
      "Alpha: 40 Train: 0.7935498239245844 Test: 0.8126174204498453\n",
      "Alpha: 41 Train: 0.7932546949164725 Test: 0.8125132194693001\n",
      "Alpha: 42 Train: 0.7929668445028012 Test: 0.8124100625731355\n",
      "Alpha: 43 Train: 0.7926859213776737 Test: 0.812307966038483\n",
      "Alpha: 44 Train: 0.7924115998850199 Test: 0.8122069418326153\n",
      "Alpha: 45 Train: 0.7921435775328081 Test: 0.8121069981777133\n",
      "Alpha: 46 Train: 0.7918815728028479 Test: 0.8120081400426531\n",
      "Alpha: 47 Train: 0.7916253232151242 Test: 0.8119103695719457\n",
      "Alpha: 48 Train: 0.7913745836120684 Test: 0.8118136864604218\n",
      "Alpha: 49 Train: 0.7911291246334808 Test: 0.8117180882809594\n",
      "Alpha: 50 Train: 0.7908887313572606 Test: 0.8116235707715007\n",
      "Alpha: 51 Train: 0.7906532020847591 Test: 0.8115301280866841\n",
      "Alpha: 52 Train: 0.790422347252662 Test: 0.8114377530186674\n",
      "Alpha: 53 Train: 0.7901959884558677 Test: 0.8113464371910789\n",
      "Alpha: 54 Train: 0.7899739575680175 Test: 0.8112561712294912\n",
      "Alpha: 55 Train: 0.7897560959481498 Test: 0.8111669449113403\n",
      "Alpha: 56 Train: 0.7895422537235102 Test: 0.811078747297838\n",
      "Alpha: 57 Train: 0.7893322891398644 Test: 0.8109915668500709\n",
      "Alpha: 58 Train: 0.7891260679717909 Test: 0.8109053915312063\n",
      "Alpha: 59 Train: 0.7889234629863807 Test: 0.8108202088964672\n",
      "Alpha: 60 Train: 0.7887243534546109 Test: 0.8107360061723381\n",
      "Alpha: 61 Train: 0.7885286247053473 Test: 0.8106527703262636\n",
      "Alpha: 62 Train: 0.7883361677175605 Test: 0.8105704881279608\n",
      "Alpha: 63 Train: 0.7881468787468562 Test: 0.8104891462033195\n",
      "Alpha: 64 Train: 0.7879606589828783 Test: 0.8104087310817413\n",
      "Alpha: 65 Train: 0.7877774142345472 Test: 0.8103292292376812\n",
      "Alpha: 66 Train: 0.7875970546404286 Test: 0.8102506271270437\n",
      "Alpha: 67 Train: 0.7874194944018462 Test: 0.8101729112190272\n",
      "Alpha: 68 Train: 0.7872446515365974 Test: 0.8100960680239266\n",
      "Alpha: 69 Train: 0.7870724476513742 Test: 0.8100200841173537\n",
      "Alpha: 70 Train: 0.786902807731193 Test: 0.809944946161276\n",
      "Alpha: 71 Train: 0.7867356599443072 Test: 0.809870640922232\n",
      "Alpha: 72 Train: 0.786570935461244 Test: 0.8097971552870417\n",
      "Alpha: 73 Train: 0.7864085682867382 Test: 0.8097244762762874\n",
      "Alpha: 74 Train: 0.7862484951034633 Test: 0.8096525910558197\n",
      "Alpha: 75 Train: 0.7860906551265678 Test: 0.809581486946508\n",
      "Alpha: 76 Train: 0.7859349899681197 Test: 0.8095111514324314\n",
      "Alpha: 77 Train: 0.7857814435106489 Test: 0.8094415721676848\n",
      "Alpha: 78 Train: 0.7856299617890594 Test: 0.8093727369819632\n",
      "Alpha: 79 Train: 0.7854804928802398 Test: 0.8093046338850488\n",
      "Alpha: 80 Train: 0.7853329867997779 Test: 0.809237251070342\n",
      "Alpha: 81 Train: 0.7851873954052222 Test: 0.8091705769175344\n",
      "Alpha: 82 Train: 0.7850436723053973 Test: 0.8091045999945259\n",
      "Alpha: 83 Train: 0.7849017727753194 Test: 0.8090393090586787\n",
      "Alpha: 84 Train: 0.7847616536762901 Test: 0.808974693057478\n",
      "Alpha: 85 Train: 0.7846232733807958 Test: 0.8089107411286774\n",
      "Alpha: 86 Train: 0.7844865917018646 Test: 0.8088474425999875\n",
      "Alpha: 87 Train: 0.7843515698265604 Test: 0.8087847869883673\n",
      "Alpha: 88 Train: 0.7842181702533257 Test: 0.8087227639989625\n",
      "Alpha: 89 Train: 0.7840863567329017 Test: 0.8086613635237425\n",
      "Alpha: 90 Train: 0.7839560942125869 Test: 0.8086005756398728\n",
      "Alpha: 91 Train: 0.7838273487835999 Test: 0.8085403906078545\n",
      "Alpha: 92 Train: 0.783700087631346 Test: 0.8084807988694747\n",
      "Alpha: 93 Train: 0.7835742789883858 Test: 0.8084217910455799\n",
      "Alpha: 94 Train: 0.783449892089942 Test: 0.8083633579337146\n",
      "Alpha: 95 Train: 0.7833268971317658 Test: 0.8083054905056333\n",
      "Alpha: 96 Train: 0.7832052652302253 Test: 0.8082481799047189\n",
      "Alpha: 97 Train: 0.7830849683844652 Test: 0.8081914174433128\n",
      "Alpha: 98 Train: 0.7829659794405156 Test: 0.8081351945999873\n",
      "Alpha: 99 Train: 0.7828482720572246 Test: 0.8080795030167583\n"
     ]
    }
   ],
   "source": [
    "for i in range(1,100):\n",
    "    l2 = Ridge(alpha=i)\n",
    "    l2.fit(xtrain,ytrain)\n",
    "    print(f\"Alpha: {i} Train: {l2.score(xtrain,ytrain)} Test: {l2.score(xtest,ytest)}\")"
   ]
  },
  {
   "cell_type": "code",
   "execution_count": 39,
   "id": "d023bb94",
   "metadata": {
    "ExecuteTime": {
     "end_time": "2023-10-12T08:33:29.923818Z",
     "start_time": "2023-10-12T08:33:29.870245Z"
    }
   },
   "outputs": [
    {
     "data": {
      "text/plain": [
       "(0.816288257302081, 0.8150880725612083)"
      ]
     },
     "execution_count": 39,
     "metadata": {},
     "output_type": "execute_result"
    }
   ],
   "source": [
    "l2 = Ridge(alpha=7)\n",
    "l2.fit(xtrain,ytrain)\n",
    "l2.score(xtrain,ytrain),l2.score(xtest,ytest)"
   ]
  },
  {
   "cell_type": "code",
   "execution_count": 40,
   "id": "4ea7b2a2",
   "metadata": {
    "ExecuteTime": {
     "end_time": "2023-10-12T08:33:46.200591Z",
     "start_time": "2023-10-12T08:33:46.181968Z"
    }
   },
   "outputs": [
    {
     "data": {
      "text/plain": [
       "array([ 2.31139279e+02, -3.29204695e+00, -1.90126861e+02, -1.01249352e+03,\n",
       "       -6.04047656e+02,  1.71736131e+03,  3.40160377e+03,  3.91530395e+02,\n",
       "        5.57861287e+02,  5.13867686e+02,  1.02968876e+02,  2.01227011e+01,\n",
       "        2.13425523e+02, -2.79915768e+02])"
      ]
     },
     "execution_count": 40,
     "metadata": {},
     "output_type": "execute_result"
    }
   ],
   "source": [
    "l2.coef_"
   ]
  },
  {
   "cell_type": "markdown",
   "id": "3ebe6ab3",
   "metadata": {},
   "source": [
    "# Elastic Net"
   ]
  },
  {
   "cell_type": "code",
   "execution_count": 41,
   "id": "ecedda46",
   "metadata": {
    "ExecuteTime": {
     "end_time": "2023-10-12T08:34:49.820854Z",
     "start_time": "2023-10-12T08:34:49.792027Z"
    }
   },
   "outputs": [
    {
     "data": {
      "text/plain": [
       "(0.7866253599240466, 0.809826481725613)"
      ]
     },
     "execution_count": 41,
     "metadata": {},
     "output_type": "execute_result"
    }
   ],
   "source": [
    "en = ElasticNet()\n",
    "en.fit(xtrain,ytrain)\n",
    "en.score(xtrain,ytrain), en.score(xtest,ytest)"
   ]
  },
  {
   "cell_type": "code",
   "execution_count": null,
   "id": "ef40d7ce",
   "metadata": {},
   "outputs": [],
   "source": []
  }
 ],
 "metadata": {
  "kernelspec": {
   "display_name": "Python 3 (ipykernel)",
   "language": "python",
   "name": "python3"
  },
  "language_info": {
   "codemirror_mode": {
    "name": "ipython",
    "version": 3
   },
   "file_extension": ".py",
   "mimetype": "text/x-python",
   "name": "python",
   "nbconvert_exporter": "python",
   "pygments_lexer": "ipython3",
   "version": "3.9.13"
  }
 },
 "nbformat": 4,
 "nbformat_minor": 5
}
